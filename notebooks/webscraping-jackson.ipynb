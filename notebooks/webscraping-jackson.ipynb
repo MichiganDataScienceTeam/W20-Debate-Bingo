{
 "cells": [
  {
   "cell_type": "markdown",
   "metadata": {},
   "source": [
    "## webscraping "
   ]
  },
  {
   "cell_type": "code",
   "execution_count": 1,
   "metadata": {},
   "outputs": [],
   "source": [
    "from bs4 import BeautifulSoup\n",
    "import requests\n",
    "import pandas as pd\n",
    "import numpy as np"
   ]
  },
  {
   "cell_type": "markdown",
   "metadata": {},
   "source": [
    "### January Debate"
   ]
  },
  {
   "cell_type": "code",
   "execution_count": 2,
   "metadata": {},
   "outputs": [
    {
     "name": "stdout",
     "output_type": "stream",
     "text": "er CP: FAQ\">\n                  <a class=\"footer-text-link\" href=\"/caption/faq\">\n                   FAQ\n                  </a>\n                 </li>\n                 <li class=\"list pl0 pt3 mixpanel-link\" data-mixpanel-title=\"Footer CP: Caption Converter\">\n                  <a class=\"footer-text-link\" href=\"/captionconverter\">\n                   Caption Converter\n                  </a>\n                 </li>\n                 <li class=\"list pl0 pt3 mixpanel-link\" data-mixpanel-title=\"Footer CP: Subtitles\">\n                  <a class=\"footer-text-link\" href=\"/subtitle\">\n                   Subtitles\n                  </a>\n                 </li>\n                </ul>\n               </div>\n               <div class=\"pr4 footer-section mb4 w-50 w-auto-ns\">\n                <div class=\"f7 fw5 tracked ttu\">\n                 Translation\n                </div>\n                <ul class=\"f6 o-80 pl0 mt2 ma0\">\n                 <li class=\"list pl0 pt3 mixpanel-link\" data-mixpanel-title=\"Footer TR: Overview\">\n                  <a class=\"footer-text-link\" href=\"/translation\">\n                   Overview\n                  </a>\n                 </li>\n                 <li class=\"list pl0 pt3 mixpanel-link\" data-mixpanel-title=\"Footer TR: Certified Translation\">\n                  <a class=\"footer-text-link\" href=\"/translation/certified\">\n                   Certified Translation\n                  </a>\n                 </li>\n                 <li class=\"list pl0 pt3 mixpanel-link\" data-mixpanel-title=\"Footer TR: Business Translation\">\n                  <a class=\"footer-text-link\" href=\"/translation/business\">\n                   Business Translation\n                  </a>\n                 </li>\n                 <li class=\"list pl0 pt3 mixpanel-link\" data-mixpanel-title=\"Footer TR: FAQ\">\n                  <a class=\"footer-text-link\" href=\"/translation/faq\">\n                   FAQ\n                  </a>\n                 </li>\n                 <li class=\"list pl0 pt3 mixpanel-link\" data-mixpanel-title=\"Footer TR: Request a Quote\">\n                  <a class=\"footer-text-link\" href=\"/order/quote\">\n                   Request a Quote\n                  </a>\n                 </li>\n                </ul>\n               </div>\n               <div class=\"pr4 footer-section mb4 w-50 w-auto-ns\">\n                <div class=\"f7 fw5 tracked ttu\">\n                 About\n                </div>\n                <ul class=\"f6 o-80 pl0 mt2 ma0\">\n                 <li class=\"list pl0 pt3 mixpanel-link\" data-mixpanel-title=\"Footer About: Company\">\n                  <a class=\"footer-text-link\" href=\"/about\">\n                   Company\n                  </a>\n                 </li>\n                 <li class=\"list pl0 pt3 mixpanel-link\" data-mixpanel-title=\"Footer About: Press\">\n                  <a class=\"footer-text-link\" href=\"/press\">\n                   Press\n                  </a>\n                 </li>\n                 <li class=\"list pl0 pt3 mixpanel-link\" data-mixpanel-title=\"Footer About: Careers\">\n                  <a class=\"footer-text-link\" href=\"/careers\">\n                   Careers\n                  </a>\n                 </li>\n                 <li class=\"list pl0 pt3 mixpanel-link\" data-mixpanel-title=\"Footer About: Freelancers\">\n                  <a class=\"footer-text-link\" href=\"/freelancers\">\n                   Freelancers\n                  </a>\n                 </li>\n                 <li class=\"list pl0 pt3 mixpanel-link\" data-mixpanel-title=\"Footer About: Blog\">\n                  <a class=\"footer-text-link\" href=\"/blog\">\n                   Blog\n                  </a>\n                 </li>\n                 <li class=\"list pl0 pt3 mixpanel-link\" data-mixpanel-title=\"Footer About: API\">\n                  <a class=\"footer-text-link\" href=\"/api\">\n                   API\n                  </a>\n                 </li>\n                </ul>\n               </div>\n               <div class=\"w-100 w-auto-ns flex pl0\">\n                <div class=\"mr3\">\n                 <div class=\"f7 fw5 tracked ttu\">\n                  Get in touch\n                 </div>\n                 <div class=\"mt2 mb3 f6 o-80 pt3 lh-title\">\n                  <div class=\"flex flex-column-ns flex-row flex-wrap\">\n                   <div class=\"w-50 w-auto-ns\">\n                    222 Kearny St, 8th Floor\n                    <br/>\n                    San Francisco, CA\n                    <br/>\n                    94108\n                   </div>\n                   <div class=\"w-50 w-auto-ns mt3-ns\">\n                    Contact Us\n                    <br/>\n                    <div>\n                     <a class=\"footer-text-link\" href=\"tel:888-369-0701\">\n                      888-369-0701\n                     </a>\n                    </div>\n                    <a class=\"footer-text-link\" href=\"mailto:support@rev.com\">\n                     support@rev.com\n                    </a>\n                   </div>\n                   <div class=\"mt3 w-50\">\n                    <a aria-label=\"Twitter\" class=\"footer-social-icon\" href=\"https://twitter.com/rev\" id=\"footer-twitter\" rel=\"noopener noreferrer\" target=\"_blank\">\n                    </a>\n                    <a aria-label=\"Facebook\" class=\"footer-social-icon ml2\" href=\"https://www.facebook.com/rev\" id=\"footer-facebook\" rel=\"noopener noreferrer\" target=\"_blank\">\n                    </a>\n                    <a aria-label=\"LinkedIn\" class=\"footer-social-icon ml2\" href=\"https://www.linkedin.com/company/rev-com\" id=\"footer-linkedin\" rel=\"noopener noreferrer\" target=\"_blank\">\n                    </a>\n                   </div>\n                  </div>\n                 </div>\n                </div>\n                <a href=\"https://goo.gl/maps/GNikTTrd5aN2\" id=\"map-ref\" target=\"_blank\">\n                 <div class=\"dn dib-ns\" id=\"footer-map\">\n                 </div>\n                </a>\n               </div>\n               <div class=\"mt3 w-100 f6 o-80\">\n                <span class=\"mr3\">\n                 © Rev.com\n                </span>\n                <a class=\"mh2 footer-text-link\" href=\"/reviews\">\n                 Reviews\n                </a>\n                |\n                <a class=\"mh2 footer-text-link\" href=\"/about/terms\" rel=\"nofollow\">\n                 Terms\n                </a>\n                |\n                <a class=\"mh2 footer-text-link\" href=\"/about/privacy\" rel=\"nofollow\">\n                 Privacy\n                </a>\n               </div>\n              </div>\n             </footer>\n            </div>\n           </div>\n          </div>\n         </div>\n        </div>\n       </div>\n      </div>\n     </div>\n    </div>\n   </footer>\n   <div class=\"uabb-js-breakpoint\" style=\"display: none;\">\n   </div>\n   <div class=\"fl-builder-content fl-builder-content-6610 fl-builder-global-templates-locked\" data-post-id=\"6610\" data-type=\"part\">\n    <div class=\"fl-row fl-row-fixed-width fl-row-bg-none fl-node-5d68f8298049b\" data-node=\"5d68f8298049b\">\n     <div class=\"fl-row-content-wrap\">\n      <div class=\"fl-row-content fl-row-fixed-width fl-node-content\">\n       <div class=\"fl-col-group fl-node-5d68f82983c7b\" data-node=\"5d68f82983c7b\">\n        <div class=\"fl-col fl-node-5d68f82983df1\" data-node=\"5d68f82983df1\">\n         <div class=\"fl-col-content fl-node-content\">\n          <div class=\"fl-module fl-module-modal-popup fl-node-5d68f829802de fl-visible-desktop-medium\" data-node=\"5d68f829802de\">\n           <div class=\"fl-module-content fl-node-content\">\n            <div class=\"uabb-modal-parent-wrapper uabb-module-content uamodal-5d68f829802de\">\n             <div class=\"uabb-modal uabb-drag-fix uabb-center-modal uabb-modal-saved_page_templates uabb-modal-custom uabb-effect-11 uabb-aspect-ratio-16_9\" data-content=\"saved_page_templates\" id=\"modal-5d68f829802de\">\n              <div class=\"uabb-content\">\n               <span class=\"uabb-modal-close uabb-close-custom-popup-top-right\">\n                <i class=\"uabb-close-icon ua-icon ua-icon-cross\">\n                </i>\n               </span>\n               <div class=\"uabb-modal-text uabb-modal-content-data fl-clearfix\">\n                <div class=\"fl-builder-content fl-builder-content-6607 fl-builder-template fl-builder-layout-template fl-builder-global-templates-locked\" data-post-id=\"6607\">\n                 <div class=\"fl-row fl-row-full-width fl-row-bg-color fl-node-5d68efa488b04\" data-node=\"5d68efa488b04\">\n                  <div class=\"fl-row-content-wrap\">\n                   <div class=\"fl-row-content fl-row-full-width fl-node-content\">\n                    <div class=\"fl-col-group fl-node-5d68efa48c77f fl-col-group-equal-height fl-col-group-align-center\" data-node=\"5d68efa48c77f\">\n                     <div class=\"fl-col fl-node-5d68efa48c8f4 fl-col-small\" data-node=\"5d68efa48c8f4\">\n                      <div class=\"fl-col-content fl-node-content\">\n                       <div class=\"fl-module fl-module-photo fl-node-5d68f008b20ff\" data-node=\"5d68f008b20ff\">\n                        <div class=\"fl-module-content fl-node-content\">\n                         <div class=\"fl-photo fl-photo-align-center\" itemscope=\"\" itemtype=\"https://schema.org/ImageObject\">\n                          <div class=\"fl-photo-content fl-photo-img-png\">\n                           <img alt=\"Rev-Email-iconsAffordability\" class=\"fl-photo-img wp-image-6608 size-full\" data-lazy-sizes=\"(max-width: 494px) 100vw, 494px\" data-lazy-src=\"https://www.rev.com/blog/wp-content/uploads/2019/08/Rev-Email-iconsAffordability.png\" data-lazy-srcset=\"https://www.rev.com/blog/wp-content/uploads/2019/08/Rev-Email-iconsAffordability.png 494w, https://www.rev.com/blog/wp-content/uploads/2019/08/Rev-Email-iconsAffordability-300x237.png 300w\" height=\"390\" itemprop=\"image\" src=\"data:image/svg+xml,%3Csvg%20xmlns='http://www.w3.org/2000/svg'%20viewBox='0%200%20494%20390'%3E%3C/svg%3E\" title=\"Rev-Email-iconsAffordability\" width=\"494\"/>\n                           <noscript>\n                            <img alt=\"Rev-Email-iconsAffordability\" class=\"fl-photo-img wp-image-6608 size-full\" height=\"390\" itemprop=\"image\" sizes=\"(max-width: 494px) 100vw, 494px\" src=\"https://www.rev.com/blog/wp-content/uploads/2019/08/Rev-Email-iconsAffordability.png\" srcset=\"https://www.rev.com/blog/wp-content/uploads/2019/08/Rev-Email-iconsAffordability.png 494w, https://www.rev.com/blog/wp-content/uploads/2019/08/Rev-Email-iconsAffordability-300x237.png 300w\" title=\"Rev-Email-iconsAffordability\" width=\"494\"/>\n                           </noscript>\n                          </div>\n                         </div>\n                        </div>\n                       </div>\n                      </div>\n                     </div>\n                     <div class=\"fl-col fl-node-5d68efa48c9a5\" data-node=\"5d68efa48c9a5\">\n                      <div class=\"fl-col-content fl-node-content\">\n                       <div class=\"fl-module fl-module-html fl-node-5d68f5a5e4e02 text-center\" data-node=\"5d68f5a5e4e02\">\n                        <div class=\"fl-module-content fl-node-content\">\n                         <div class=\"fl-html\">\n                          <img alt=\"Rev\" class=\"dib w3 w-25\" data-lazy-src=\"/Content/curve/img/logo.svg\" src=\"data:image/svg+xml,%3Csvg%20xmlns='http://www.w3.org/2000/svg'%20viewBox='0%200%200%200'%3E%3C/svg%3E\"/>\n                          <noscript>\n                           <img alt=\"Rev\" class=\"dib w3 w-25\" src=\"/Content/curve/img/logo.svg\"/>\n                          </noscript>\n                         </div>\n                        </div>\n                       </div>\n                       <div class=\"fl-module fl-module-heading fl-node-5d68f1f351f67\" data-node=\"5d68f1f351f67\">\n                        <div class=\"fl-module-content fl-node-content\">\n                         <h3 class=\"fl-heading\">\n                          <span class=\"fl-heading-text\">\n                           Get $10 off your first order!\n                          </span>\n                         </h3>\n                        </div>\n                       </div>\n                       <div class=\"fl-module fl-module-heading fl-node-5d68f234e6598\" data-node=\"5d68f234e6598\">\n                        <div class=\"fl-module-content fl-node-content\">\n                         <h3 class=\"fl-heading\">\n                          <span class=\"fl-heading-text\">\n                           45 free minutes of Automated Transcription\n                          </span>\n                         </h3>\n                        </div>\n                       </div>\n                       <div class=\"fl-module fl-module-heading fl-node-5d68f2e2388ab\" data-node=\"5d68f2e2388ab\">\n                        <div class=\"fl-module-content fl-node-content\">\n                         <h3 class=\"fl-heading\">\n                          <span class=\"fl-heading-text\">\n                           10 free minutes of Super-accurate\n                           <br/>\n                           Human Transcriptions or Video Captions\n                          </span>\n                         </h3>\n                        </div>\n                       </div>\n                       <div class=\"fl-module fl-module-html fl-node-5d68f4ab4851a text-center\" data-node=\"5d68f4ab4851a\">\n                        <div class=\"fl-module-content fl-node-content\">\n                         <div class=\"fl-html\">\n                          <a class=\"button-green button-large\" href=\"https://www.rev.com/services?coupon=f7558ff6\" id=\"cta-above-fold\">\n                           Get Your Coupon\n                          </a>\n                         </div>\n                        </div>\n                       </div>\n                       <div class=\"fl-module fl-module-rich-text fl-node-5d68f3067480f\" data-node=\"5d68f3067480f\">\n                        <div class=\"fl-module-content fl-node-content\">\n                         <div class=\"fl-rich-text\">\n                          <p>\n                           Offer valid for new customers only. One coupon per person or business.  Can be used for\n                           <a href=\"https://www.rev.com/caption\">\n                            closed captions\n                           </a>\n                           ,\n                           <a href=\"https://www.rev.com/caption\">\n                            subtitles\n                           </a>\n                           ,\n                           <a href=\"https://www.rev.com/subtitle/translator\">\n                            foreign subtitles\n                           </a>\n                           ,\n                           <a href=\"https://www.rev.com/translation\">\n                            translations\n                           </a>\n                           or\n                           <a href=\"https://www.rev.com/transcription\">\n                            transcription\n                           </a>\n                           services.\n                          </p>\n                         </div>\n                        </div>\n                       </div>\n                      </div>\n                     </div>\n                    </div>\n                   </div>\n                  </div>\n                 </div>\n                </div>\n                <div class=\"uabb-js-breakpoint\" style=\"display: none;\">\n                </div>\n               </div>\n              </div>\n             </div>\n             <div class=\"uabb-overlay\">\n             </div>\n            </div>\n            <div class=\"uabb-modal-action-wrap\">\n            </div>\n           </div>\n          </div>\n         </div>\n        </div>\n       </div>\n      </div>\n     </div>\n    </div>\n   </div>\n   <div class=\"uabb-js-breakpoint\" style=\"display: none;\">\n   </div>\n  </div>\n  <div aria-hidden=\"true\" id=\"views-extra-css-ie7\" style=\"display:none;\">\n   <!--[if IE 7]><style>\n.wpv-pagination { *zoom: 1; }\n</style><![endif]-->\n  </div>\n  <script type=\"text/javascript\">\n   /* <![CDATA[ */ var themeopts = {\"medium_breakpoint\":\"992\",\"mobile_breakpoint\":\"768\"}; /* ]]> */\n  </script>\n  <script type=\"text/javascript\">\n   /* <![CDATA[ */ var _wpUtilSettings = {\"ajax\":{\"url\":\"\\/blog\\/wp-admin\\/admin-ajax.php\"}}; /* ]]> */\n  </script>\n  <script type=\"text/javascript\">\n   /* <![CDATA[ */ var wpv_pagination_local = {\"front_ajaxurl\":\"https:\\/\\/www.rev.com\\/blog\\/wp-admin\\/admin-ajax.php\",\"calendar_image\":\"https:\\/\\/www.rev.com\\/blog\\/wp-content\\/plugins\\/wp-views\\/embedded\\/res\\/img\\/calendar.gif\",\"calendar_text\":\"Select date\",\"datepicker_min_date\":null,\"datepicker_max_date\":null,\"datepicker_min_year\":\"1582\",\"datepicker_max_year\":\"3000\",\"resize_debounce_tolerance\":\"100\",\"datepicker_style_url\":\"https:\\/\\/www.rev.com\\/blog\\/wp-content\\/plugins\\/wp-views\\/vendor\\/toolset\\/toolset-common\\/toolset-forms\\/css\\/wpt-jquery-ui\\/jquery-ui-1.11.4.custom.css\",\"wpmlLang\":\"\"}; /* ]]> */\n  </script>\n  <script type=\"text/javascript\">\n   /* <![CDATA[ */ var wpforms_file_upload = {\"url\":\"https:\\/\\/www.rev.com\\/blog\\/wp-admin\\/admin-ajax.php\",\"errors\":{\"file_not_uploaded\":\"This file was not uploaded.\",\"file_limit\":\"File limit has been reached ({fileLimit}).\",\"file_extension\":\"File type is not allowed.\",\"file_size\":\"File exceeds the max size allowed.\",\"post_max_size\":\"File exceeds the upload limit allowed (10 MB).\"},\"loading_message\":\"File upload is in progress. Please submit the form once uploading is completed.\"}; /* ]]> */\n  </script>\n  <script>\n   window.lazyLoadOptions={elements_selector:\"img[data-lazy-src],.rocket-lazyload,iframe[data-lazy-src]\",data_src:\"lazy-src\",data_srcset:\"lazy-srcset\",data_sizes:\"lazy-sizes\",class_loading:\"lazyloading\",class_loaded:\"lazyloaded\",threshold:300,callback_loaded:function(element){if(element.tagName===\"IFRAME\"&&element.dataset.rocketLazyload==\"fitvidscompatible\"){if(element.classList.contains(\"lazyloaded\")){if(typeof window.jQuery!=\"undefined\"){if(jQuery.fn.fitVids){jQuery(element).parent().fitVids()}}}}}};window.addEventListener('LazyLoad::Initialized',function(e){var lazyLoadInstance=e.detail.instance;if(window.MutationObserver){var observer=new MutationObserver(function(mutations){var image_count=0;var iframe_count=0;var rocketlazy_count=0;mutations.forEach(function(mutation){for(i=0;i<mutation.addedNodes.length;i++){if(typeof mutation.addedNodes[i].getElementsByTagName!=='function'){return}\nif(typeof mutation.addedNodes[i].getElementsByClassName!=='function'){return}\nimages=mutation.addedNodes[i].getElementsByTagName('img');is_image=mutation.addedNodes[i].tagName==\"IMG\";iframes=mutation.addedNodes[i].getElementsByTagName('iframe');is_iframe=mutation.addedNodes[i].tagName==\"IFRAME\";rocket_lazy=mutation.addedNodes[i].getElementsByClassName('rocket-lazyload');image_count+=images.length;iframe_count+=iframes.length;rocketlazy_count+=rocket_lazy.length;if(is_image){image_count+=1}\nif(is_iframe){iframe_count+=1}}});if(image_count>0||iframe_count>0||rocketlazy_count>0){lazyLoadInstance.update()}});var b=document.getElementsByTagName(\"body\")[0];var config={childList:!0,subtree:!0};observer.observe(b,config)}},!1)\n  </script>\n  <script async=\"\" data-no-minify=\"1\" src=\"https://www.rev.com/blog/wp-content/plugins/wp-rocket/assets/js/lazyload/12.0/lazyload.min.js\">\n  </script>\n  <script type=\"text/javascript\">\n   /* <![CDATA[ */ var google_conversion_id = 1007079899;\nvar google_custom_params = window.google_tag_params;\nvar google_remarketing_only = true; /* ]]> */\n  </script>\n  <script defer=\"\" src=\"//www.googleadservices.com/pagead/conversion.js\" type=\"text/javascript\">\n  </script>\n  <noscript>\n   <div style=\"display:inline;\">\n    <img alt=\"\" height=\"1\" src=\"//googleads.g.doubleclick.net/pagead/viewthroughconversion/1007079899/?guid=ON&amp;script=0\" style=\"border-style:none;\" width=\"1\"/>\n   </div>\n  </noscript>\n  <script data-minify=\"1\" defer=\"\" src=\"https://www.rev.com/blog/wp-content/cache/min/1/b830df1186075c8e8276017abd4ce9f8.js\">\n  </script>\n </body>\n</html>\n<!-- This website is like a Rocket, isn't it? Performance optimized by WP Rocket. Learn more: https://wp-rocket.me - Debug: cached@1581672951 -->\n\n"
    }
   ],
   "source": [
    "URL = \"https://www.rev.com/blog/transcripts/new-hampshire-democratic-debate-transcript\"\n",
    "r = requests.get(URL)\n",
    "\n",
    "soup = BeautifulSoup(r.content, 'html5lib')\n",
    "print(soup.prettify())"
   ]
  },
  {
   "cell_type": "code",
   "execution_count": 3,
   "metadata": {},
   "outputs": [],
   "source": [
    "temp = soup.find('div', attrs = {'class' : 'fl-callout-text'}).find_all('p')\n",
    "moderator = temp[0].text + \" \" + temp[1].text\n",
    "\n",
    "pars = [moderator]\n",
    "\n",
    "for i, p in enumerate(soup.find('div', attrs = {'class' : 'fl-callout-text'}).find_all('p')):\n",
    "    if (i > 1):\n",
    "        pars.append(p.text)"
   ]
  },
  {
   "cell_type": "code",
   "execution_count": 4,
   "metadata": {},
   "outputs": [],
   "source": [
    "feb = {\n",
    "    \"name\": [],\n",
    "    \"time\": [],\n",
    "    \"text\": [],\n",
    "}\n",
    "\n",
    "for text in pars:\n",
    "    feb[\"name\"].append(text.split(': ',1)[0])\n",
    "    feb[\"time\"].append(text.split(': ',1)[1].split(' ',1)[0])\n",
    "    feb[\"text\"].append(text.split(': ',1)[1].split(' ',1)[1])\n",
    "    \n",
    "feb_df = pd.DataFrame(data = feb)"
   ]
  },
  {
   "cell_type": "code",
   "execution_count": 5,
   "metadata": {},
   "outputs": [
    {
     "data": {
      "text/html": "<div>\n<style scoped>\n    .dataframe tbody tr th:only-of-type {\n        vertical-align: middle;\n    }\n\n    .dataframe tbody tr th {\n        vertical-align: top;\n    }\n\n    .dataframe thead th {\n        text-align: right;\n    }\n</style>\n<table border=\"1\" class=\"dataframe\">\n  <thead>\n    <tr style=\"text-align: right;\">\n      <th></th>\n      <th>name</th>\n      <th>time</th>\n      <th>text</th>\n    </tr>\n  </thead>\n  <tbody>\n    <tr>\n      <th>0</th>\n      <td>George S.</td>\n      <td>(00:14)</td>\n      <td>Candidates, welcome. Vice President Biden, the...</td>\n    </tr>\n    <tr>\n      <th>1</th>\n      <td>George S.</td>\n      <td>(01:08)</td>\n      <td>Why are Senator Sanders and Mayor Buttigieg to...</td>\n    </tr>\n    <tr>\n      <th>2</th>\n      <td>Joe Biden</td>\n      <td>(01:12)</td>\n      <td>Well, you know that with regard to Senator San...</td>\n    </tr>\n    <tr>\n      <th>3</th>\n      <td>George S.</td>\n      <td>(01:53)</td>\n      <td>Senator Sanders, let me give you the chance to...</td>\n    </tr>\n    <tr>\n      <th>4</th>\n      <td>Bernie Sanders</td>\n      <td>(02:14)</td>\n      <td>Because Donald Trump lies all the time. It doe...</td>\n    </tr>\n    <tr>\n      <th>...</th>\n      <td>...</td>\n      <td>...</td>\n      <td>...</td>\n    </tr>\n    <tr>\n      <th>317</th>\n      <td>Amy Klobuchar</td>\n      <td>(01:15:43)</td>\n      <td>There’s an old story of Franklin Delano Roosev...</td>\n    </tr>\n    <tr>\n      <th>318</th>\n      <td>Amy Klobuchar</td>\n      <td>(01:16:20)</td>\n      <td>If you have trouble stretching your paycheck t...</td>\n    </tr>\n    <tr>\n      <th>319</th>\n      <td>George S.</td>\n      <td>(01:17:17)</td>\n      <td>Mr. Steyer.</td>\n    </tr>\n    <tr>\n      <th>320</th>\n      <td>Tom Steyer</td>\n      <td>(01:17:24)</td>\n      <td>The Republicans have a cruel plan and their pl...</td>\n    </tr>\n    <tr>\n      <th>321</th>\n      <td>George S.</td>\n      <td>(01:19:09)</td>\n      <td>Candidates. Thank you. Thanks for a great deba...</td>\n    </tr>\n  </tbody>\n</table>\n<p>322 rows × 3 columns</p>\n</div>",
      "text/plain": "               name        time  \\\n0         George S.     (00:14)   \n1         George S.     (01:08)   \n2         Joe Biden     (01:12)   \n3         George S.     (01:53)   \n4    Bernie Sanders     (02:14)   \n..              ...         ...   \n317   Amy Klobuchar  (01:15:43)   \n318   Amy Klobuchar  (01:16:20)   \n319       George S.  (01:17:17)   \n320      Tom Steyer  (01:17:24)   \n321       George S.  (01:19:09)   \n\n                                                  text  \n0    Candidates, welcome. Vice President Biden, the...  \n1    Why are Senator Sanders and Mayor Buttigieg to...  \n2    Well, you know that with regard to Senator San...  \n3    Senator Sanders, let me give you the chance to...  \n4    Because Donald Trump lies all the time. It doe...  \n..                                                 ...  \n317  There’s an old story of Franklin Delano Roosev...  \n318  If you have trouble stretching your paycheck t...  \n319                                        Mr. Steyer.  \n320  The Republicans have a cruel plan and their pl...  \n321  Candidates. Thank you. Thanks for a great deba...  \n\n[322 rows x 3 columns]"
     },
     "execution_count": 5,
     "metadata": {},
     "output_type": "execute_result"
    }
   ],
   "source": [
    "feb_df"
   ]
  },
  {
   "cell_type": "code",
   "execution_count": 6,
   "metadata": {},
   "outputs": [],
   "source": [
    "feb_df.to_csv(\"../data/february_transcript.csv\")"
   ]
  },
  {
   "cell_type": "code",
   "execution_count": 7,
   "metadata": {},
   "outputs": [
    {
     "name": "stdout",
     "output_type": "stream",
     "text": "er CP: FAQ\">\n                  <a class=\"footer-text-link\" href=\"/caption/faq\">\n                   FAQ\n                  </a>\n                 </li>\n                 <li class=\"list pl0 pt3 mixpanel-link\" data-mixpanel-title=\"Footer CP: Caption Converter\">\n                  <a class=\"footer-text-link\" href=\"/captionconverter\">\n                   Caption Converter\n                  </a>\n                 </li>\n                 <li class=\"list pl0 pt3 mixpanel-link\" data-mixpanel-title=\"Footer CP: Subtitles\">\n                  <a class=\"footer-text-link\" href=\"/subtitle\">\n                   Subtitles\n                  </a>\n                 </li>\n                </ul>\n               </div>\n               <div class=\"pr4 footer-section mb4 w-50 w-auto-ns\">\n                <div class=\"f7 fw5 tracked ttu\">\n                 Translation\n                </div>\n                <ul class=\"f6 o-80 pl0 mt2 ma0\">\n                 <li class=\"list pl0 pt3 mixpanel-link\" data-mixpanel-title=\"Footer TR: Overview\">\n                  <a class=\"footer-text-link\" href=\"/translation\">\n                   Overview\n                  </a>\n                 </li>\n                 <li class=\"list pl0 pt3 mixpanel-link\" data-mixpanel-title=\"Footer TR: Certified Translation\">\n                  <a class=\"footer-text-link\" href=\"/translation/certified\">\n                   Certified Translation\n                  </a>\n                 </li>\n                 <li class=\"list pl0 pt3 mixpanel-link\" data-mixpanel-title=\"Footer TR: Business Translation\">\n                  <a class=\"footer-text-link\" href=\"/translation/business\">\n                   Business Translation\n                  </a>\n                 </li>\n                 <li class=\"list pl0 pt3 mixpanel-link\" data-mixpanel-title=\"Footer TR: FAQ\">\n                  <a class=\"footer-text-link\" href=\"/translation/faq\">\n                   FAQ\n                  </a>\n                 </li>\n                 <li class=\"list pl0 pt3 mixpanel-link\" data-mixpanel-title=\"Footer TR: Request a Quote\">\n                  <a class=\"footer-text-link\" href=\"/order/quote\">\n                   Request a Quote\n                  </a>\n                 </li>\n                </ul>\n               </div>\n               <div class=\"pr4 footer-section mb4 w-50 w-auto-ns\">\n                <div class=\"f7 fw5 tracked ttu\">\n                 About\n                </div>\n                <ul class=\"f6 o-80 pl0 mt2 ma0\">\n                 <li class=\"list pl0 pt3 mixpanel-link\" data-mixpanel-title=\"Footer About: Company\">\n                  <a class=\"footer-text-link\" href=\"/about\">\n                   Company\n                  </a>\n                 </li>\n                 <li class=\"list pl0 pt3 mixpanel-link\" data-mixpanel-title=\"Footer About: Press\">\n                  <a class=\"footer-text-link\" href=\"/press\">\n                   Press\n                  </a>\n                 </li>\n                 <li class=\"list pl0 pt3 mixpanel-link\" data-mixpanel-title=\"Footer About: Careers\">\n                  <a class=\"footer-text-link\" href=\"/careers\">\n                   Careers\n                  </a>\n                 </li>\n                 <li class=\"list pl0 pt3 mixpanel-link\" data-mixpanel-title=\"Footer About: Freelancers\">\n                  <a class=\"footer-text-link\" href=\"/freelancers\">\n                   Freelancers\n                  </a>\n                 </li>\n                 <li class=\"list pl0 pt3 mixpanel-link\" data-mixpanel-title=\"Footer About: Blog\">\n                  <a class=\"footer-text-link\" href=\"/blog\">\n                   Blog\n                  </a>\n                 </li>\n                 <li class=\"list pl0 pt3 mixpanel-link\" data-mixpanel-title=\"Footer About: API\">\n                  <a class=\"footer-text-link\" href=\"/api\">\n                   API\n                  </a>\n                 </li>\n                </ul>\n               </div>\n               <div class=\"w-100 w-auto-ns flex pl0\">\n                <div class=\"mr3\">\n                 <div class=\"f7 fw5 tracked ttu\">\n                  Get in touch\n                 </div>\n                 <div class=\"mt2 mb3 f6 o-80 pt3 lh-title\">\n                  <div class=\"flex flex-column-ns flex-row flex-wrap\">\n                   <div class=\"w-50 w-auto-ns\">\n                    222 Kearny St, 8th Floor\n                    <br/>\n                    San Francisco, CA\n                    <br/>\n                    94108\n                   </div>\n                   <div class=\"w-50 w-auto-ns mt3-ns\">\n                    Contact Us\n                    <br/>\n                    <div>\n                     <a class=\"footer-text-link\" href=\"tel:888-369-0701\">\n                      888-369-0701\n                     </a>\n                    </div>\n                    <a class=\"footer-text-link\" href=\"mailto:support@rev.com\">\n                     support@rev.com\n                    </a>\n                   </div>\n                   <div class=\"mt3 w-50\">\n                    <a aria-label=\"Twitter\" class=\"footer-social-icon\" href=\"https://twitter.com/rev\" id=\"footer-twitter\" rel=\"noopener noreferrer\" target=\"_blank\">\n                    </a>\n                    <a aria-label=\"Facebook\" class=\"footer-social-icon ml2\" href=\"https://www.facebook.com/rev\" id=\"footer-facebook\" rel=\"noopener noreferrer\" target=\"_blank\">\n                    </a>\n                    <a aria-label=\"LinkedIn\" class=\"footer-social-icon ml2\" href=\"https://www.linkedin.com/company/rev-com\" id=\"footer-linkedin\" rel=\"noopener noreferrer\" target=\"_blank\">\n                    </a>\n                   </div>\n                  </div>\n                 </div>\n                </div>\n                <a href=\"https://goo.gl/maps/GNikTTrd5aN2\" id=\"map-ref\" target=\"_blank\">\n                 <div class=\"dn dib-ns\" id=\"footer-map\">\n                 </div>\n                </a>\n               </div>\n               <div class=\"mt3 w-100 f6 o-80\">\n                <span class=\"mr3\">\n                 © Rev.com\n                </span>\n                <a class=\"mh2 footer-text-link\" href=\"/reviews\">\n                 Reviews\n                </a>\n                |\n                <a class=\"mh2 footer-text-link\" href=\"/about/terms\" rel=\"nofollow\">\n                 Terms\n                </a>\n                |\n                <a class=\"mh2 footer-text-link\" href=\"/about/privacy\" rel=\"nofollow\">\n                 Privacy\n                </a>\n               </div>\n              </div>\n             </footer>\n            </div>\n           </div>\n          </div>\n         </div>\n        </div>\n       </div>\n      </div>\n     </div>\n    </div>\n   </footer>\n   <div class=\"uabb-js-breakpoint\" style=\"display: none;\">\n   </div>\n   <div class=\"fl-builder-content fl-builder-content-6610 fl-builder-global-templates-locked\" data-post-id=\"6610\" data-type=\"part\">\n    <div class=\"fl-row fl-row-fixed-width fl-row-bg-none fl-node-5d68f8298049b\" data-node=\"5d68f8298049b\">\n     <div class=\"fl-row-content-wrap\">\n      <div class=\"fl-row-content fl-row-fixed-width fl-node-content\">\n       <div class=\"fl-col-group fl-node-5d68f82983c7b\" data-node=\"5d68f82983c7b\">\n        <div class=\"fl-col fl-node-5d68f82983df1\" data-node=\"5d68f82983df1\">\n         <div class=\"fl-col-content fl-node-content\">\n          <div class=\"fl-module fl-module-modal-popup fl-node-5d68f829802de fl-visible-desktop-medium\" data-node=\"5d68f829802de\">\n           <div class=\"fl-module-content fl-node-content\">\n            <div class=\"uabb-modal-parent-wrapper uabb-module-content uamodal-5d68f829802de\">\n             <div class=\"uabb-modal uabb-drag-fix uabb-center-modal uabb-modal-saved_page_templates uabb-modal-custom uabb-effect-11 uabb-aspect-ratio-16_9\" data-content=\"saved_page_templates\" id=\"modal-5d68f829802de\">\n              <div class=\"uabb-content\">\n               <span class=\"uabb-modal-close uabb-close-custom-popup-top-right\">\n                <i class=\"uabb-close-icon ua-icon ua-icon-cross\">\n                </i>\n               </span>\n               <div class=\"uabb-modal-text uabb-modal-content-data fl-clearfix\">\n                <div class=\"fl-builder-content fl-builder-content-6607 fl-builder-template fl-builder-layout-template fl-builder-global-templates-locked\" data-post-id=\"6607\">\n                 <div class=\"fl-row fl-row-full-width fl-row-bg-color fl-node-5d68efa488b04\" data-node=\"5d68efa488b04\">\n                  <div class=\"fl-row-content-wrap\">\n                   <div class=\"fl-row-content fl-row-full-width fl-node-content\">\n                    <div class=\"fl-col-group fl-node-5d68efa48c77f fl-col-group-equal-height fl-col-group-align-center\" data-node=\"5d68efa48c77f\">\n                     <div class=\"fl-col fl-node-5d68efa48c8f4 fl-col-small\" data-node=\"5d68efa48c8f4\">\n                      <div class=\"fl-col-content fl-node-content\">\n                       <div class=\"fl-module fl-module-photo fl-node-5d68f008b20ff\" data-node=\"5d68f008b20ff\">\n                        <div class=\"fl-module-content fl-node-content\">\n                         <div class=\"fl-photo fl-photo-align-center\" itemscope=\"\" itemtype=\"https://schema.org/ImageObject\">\n                          <div class=\"fl-photo-content fl-photo-img-png\">\n                           <img alt=\"Rev-Email-iconsAffordability\" class=\"fl-photo-img wp-image-6608 size-full\" data-lazy-sizes=\"(max-width: 494px) 100vw, 494px\" data-lazy-src=\"https://www.rev.com/blog/wp-content/uploads/2019/08/Rev-Email-iconsAffordability.png\" data-lazy-srcset=\"https://www.rev.com/blog/wp-content/uploads/2019/08/Rev-Email-iconsAffordability.png 494w, https://www.rev.com/blog/wp-content/uploads/2019/08/Rev-Email-iconsAffordability-300x237.png 300w\" height=\"390\" itemprop=\"image\" src=\"data:image/svg+xml,%3Csvg%20xmlns='http://www.w3.org/2000/svg'%20viewBox='0%200%20494%20390'%3E%3C/svg%3E\" title=\"Rev-Email-iconsAffordability\" width=\"494\"/>\n                           <noscript>\n                            <img alt=\"Rev-Email-iconsAffordability\" class=\"fl-photo-img wp-image-6608 size-full\" height=\"390\" itemprop=\"image\" sizes=\"(max-width: 494px) 100vw, 494px\" src=\"https://www.rev.com/blog/wp-content/uploads/2019/08/Rev-Email-iconsAffordability.png\" srcset=\"https://www.rev.com/blog/wp-content/uploads/2019/08/Rev-Email-iconsAffordability.png 494w, https://www.rev.com/blog/wp-content/uploads/2019/08/Rev-Email-iconsAffordability-300x237.png 300w\" title=\"Rev-Email-iconsAffordability\" width=\"494\"/>\n                           </noscript>\n                          </div>\n                         </div>\n                        </div>\n                       </div>\n                      </div>\n                     </div>\n                     <div class=\"fl-col fl-node-5d68efa48c9a5\" data-node=\"5d68efa48c9a5\">\n                      <div class=\"fl-col-content fl-node-content\">\n                       <div class=\"fl-module fl-module-html fl-node-5d68f5a5e4e02 text-center\" data-node=\"5d68f5a5e4e02\">\n                        <div class=\"fl-module-content fl-node-content\">\n                         <div class=\"fl-html\">\n                          <img alt=\"Rev\" class=\"dib w3 w-25\" data-lazy-src=\"/Content/curve/img/logo.svg\" src=\"data:image/svg+xml,%3Csvg%20xmlns='http://www.w3.org/2000/svg'%20viewBox='0%200%200%200'%3E%3C/svg%3E\"/>\n                          <noscript>\n                           <img alt=\"Rev\" class=\"dib w3 w-25\" src=\"/Content/curve/img/logo.svg\"/>\n                          </noscript>\n                         </div>\n                        </div>\n                       </div>\n                       <div class=\"fl-module fl-module-heading fl-node-5d68f1f351f67\" data-node=\"5d68f1f351f67\">\n                        <div class=\"fl-module-content fl-node-content\">\n                         <h3 class=\"fl-heading\">\n                          <span class=\"fl-heading-text\">\n                           Get $10 off your first order!\n                          </span>\n                         </h3>\n                        </div>\n                       </div>\n                       <div class=\"fl-module fl-module-heading fl-node-5d68f234e6598\" data-node=\"5d68f234e6598\">\n                        <div class=\"fl-module-content fl-node-content\">\n                         <h3 class=\"fl-heading\">\n                          <span class=\"fl-heading-text\">\n                           45 free minutes of Automated Transcription\n                          </span>\n                         </h3>\n                        </div>\n                       </div>\n                       <div class=\"fl-module fl-module-heading fl-node-5d68f2e2388ab\" data-node=\"5d68f2e2388ab\">\n                        <div class=\"fl-module-content fl-node-content\">\n                         <h3 class=\"fl-heading\">\n                          <span class=\"fl-heading-text\">\n                           10 free minutes of Super-accurate\n                           <br/>\n                           Human Transcriptions or Video Captions\n                          </span>\n                         </h3>\n                        </div>\n                       </div>\n                       <div class=\"fl-module fl-module-html fl-node-5d68f4ab4851a text-center\" data-node=\"5d68f4ab4851a\">\n                        <div class=\"fl-module-content fl-node-content\">\n                         <div class=\"fl-html\">\n                          <a class=\"button-green button-large\" href=\"https://www.rev.com/services?coupon=f7558ff6\" id=\"cta-above-fold\">\n                           Get Your Coupon\n                          </a>\n                         </div>\n                        </div>\n                       </div>\n                       <div class=\"fl-module fl-module-rich-text fl-node-5d68f3067480f\" data-node=\"5d68f3067480f\">\n                        <div class=\"fl-module-content fl-node-content\">\n                         <div class=\"fl-rich-text\">\n                          <p>\n                           Offer valid for new customers only. One coupon per person or business.  Can be used for\n                           <a href=\"https://www.rev.com/caption\">\n                            closed captions\n                           </a>\n                           ,\n                           <a href=\"https://www.rev.com/caption\">\n                            subtitles\n                           </a>\n                           ,\n                           <a href=\"https://www.rev.com/subtitle/translator\">\n                            foreign subtitles\n                           </a>\n                           ,\n                           <a href=\"https://www.rev.com/translation\">\n                            translations\n                           </a>\n                           or\n                           <a href=\"https://www.rev.com/transcription\">\n                            transcription\n                           </a>\n                           services.\n                          </p>\n                         </div>\n                        </div>\n                       </div>\n                      </div>\n                     </div>\n                    </div>\n                   </div>\n                  </div>\n                 </div>\n                </div>\n                <div class=\"uabb-js-breakpoint\" style=\"display: none;\">\n                </div>\n               </div>\n              </div>\n             </div>\n             <div class=\"uabb-overlay\">\n             </div>\n            </div>\n            <div class=\"uabb-modal-action-wrap\">\n            </div>\n           </div>\n          </div>\n         </div>\n        </div>\n       </div>\n      </div>\n     </div>\n    </div>\n   </div>\n   <div class=\"uabb-js-breakpoint\" style=\"display: none;\">\n   </div>\n  </div>\n  <div aria-hidden=\"true\" id=\"views-extra-css-ie7\" style=\"display:none;\">\n   <!--[if IE 7]><style>\n.wpv-pagination { *zoom: 1; }\n</style><![endif]-->\n  </div>\n  <script type=\"text/javascript\">\n   /* <![CDATA[ */ var themeopts = {\"medium_breakpoint\":\"992\",\"mobile_breakpoint\":\"768\"}; /* ]]> */\n  </script>\n  <script type=\"text/javascript\">\n   /* <![CDATA[ */ var _wpUtilSettings = {\"ajax\":{\"url\":\"\\/blog\\/wp-admin\\/admin-ajax.php\"}}; /* ]]> */\n  </script>\n  <script type=\"text/javascript\">\n   /* <![CDATA[ */ var wpv_pagination_local = {\"front_ajaxurl\":\"https:\\/\\/www.rev.com\\/blog\\/wp-admin\\/admin-ajax.php\",\"calendar_image\":\"https:\\/\\/www.rev.com\\/blog\\/wp-content\\/plugins\\/wp-views\\/embedded\\/res\\/img\\/calendar.gif\",\"calendar_text\":\"Select date\",\"datepicker_min_date\":null,\"datepicker_max_date\":null,\"datepicker_min_year\":\"1582\",\"datepicker_max_year\":\"3000\",\"resize_debounce_tolerance\":\"100\",\"datepicker_style_url\":\"https:\\/\\/www.rev.com\\/blog\\/wp-content\\/plugins\\/wp-views\\/vendor\\/toolset\\/toolset-common\\/toolset-forms\\/css\\/wpt-jquery-ui\\/jquery-ui-1.11.4.custom.css\",\"wpmlLang\":\"\"}; /* ]]> */\n  </script>\n  <script type=\"text/javascript\">\n   /* <![CDATA[ */ var wpforms_file_upload = {\"url\":\"https:\\/\\/www.rev.com\\/blog\\/wp-admin\\/admin-ajax.php\",\"errors\":{\"file_not_uploaded\":\"This file was not uploaded.\",\"file_limit\":\"File limit has been reached ({fileLimit}).\",\"file_extension\":\"File type is not allowed.\",\"file_size\":\"File exceeds the max size allowed.\",\"post_max_size\":\"File exceeds the upload limit allowed (10 MB).\"},\"loading_message\":\"File upload is in progress. Please submit the form once uploading is completed.\"}; /* ]]> */\n  </script>\n  <script>\n   window.lazyLoadOptions={elements_selector:\"img[data-lazy-src],.rocket-lazyload,iframe[data-lazy-src]\",data_src:\"lazy-src\",data_srcset:\"lazy-srcset\",data_sizes:\"lazy-sizes\",class_loading:\"lazyloading\",class_loaded:\"lazyloaded\",threshold:300,callback_loaded:function(element){if(element.tagName===\"IFRAME\"&&element.dataset.rocketLazyload==\"fitvidscompatible\"){if(element.classList.contains(\"lazyloaded\")){if(typeof window.jQuery!=\"undefined\"){if(jQuery.fn.fitVids){jQuery(element).parent().fitVids()}}}}}};window.addEventListener('LazyLoad::Initialized',function(e){var lazyLoadInstance=e.detail.instance;if(window.MutationObserver){var observer=new MutationObserver(function(mutations){var image_count=0;var iframe_count=0;var rocketlazy_count=0;mutations.forEach(function(mutation){for(i=0;i<mutation.addedNodes.length;i++){if(typeof mutation.addedNodes[i].getElementsByTagName!=='function'){return}\nif(typeof mutation.addedNodes[i].getElementsByClassName!=='function'){return}\nimages=mutation.addedNodes[i].getElementsByTagName('img');is_image=mutation.addedNodes[i].tagName==\"IMG\";iframes=mutation.addedNodes[i].getElementsByTagName('iframe');is_iframe=mutation.addedNodes[i].tagName==\"IFRAME\";rocket_lazy=mutation.addedNodes[i].getElementsByClassName('rocket-lazyload');image_count+=images.length;iframe_count+=iframes.length;rocketlazy_count+=rocket_lazy.length;if(is_image){image_count+=1}\nif(is_iframe){iframe_count+=1}}});if(image_count>0||iframe_count>0||rocketlazy_count>0){lazyLoadInstance.update()}});var b=document.getElementsByTagName(\"body\")[0];var config={childList:!0,subtree:!0};observer.observe(b,config)}},!1)\n  </script>\n  <script async=\"\" data-no-minify=\"1\" src=\"https://www.rev.com/blog/wp-content/plugins/wp-rocket/assets/js/lazyload/12.0/lazyload.min.js\">\n  </script>\n  <script type=\"text/javascript\">\n   /* <![CDATA[ */ var google_conversion_id = 1007079899;\nvar google_custom_params = window.google_tag_params;\nvar google_remarketing_only = true; /* ]]> */\n  </script>\n  <script defer=\"\" src=\"//www.googleadservices.com/pagead/conversion.js\" type=\"text/javascript\">\n  </script>\n  <noscript>\n   <div style=\"display:inline;\">\n    <img alt=\"\" height=\"1\" src=\"//googleads.g.doubleclick.net/pagead/viewthroughconversion/1007079899/?guid=ON&amp;script=0\" style=\"border-style:none;\" width=\"1\"/>\n   </div>\n  </noscript>\n  <script data-minify=\"1\" defer=\"\" src=\"https://www.rev.com/blog/wp-content/cache/min/1/b830df1186075c8e8276017abd4ce9f8.js\">\n  </script>\n </body>\n</html>\n<!-- This website is like a Rocket, isn't it? Performance optimized by WP Rocket. Learn more: https://wp-rocket.me - Debug: cached@1581678202 -->\n\n"
    }
   ],
   "source": [
    "URL = \"https://www.rev.com/blog/transcripts/january-iowa-democratic-debate-transcript\"\n",
    "r = requests.get(URL)\n",
    "\n",
    "soup = BeautifulSoup(r.content, 'html5lib')\n",
    "print(soup.prettify())"
   ]
  },
  {
   "cell_type": "code",
   "execution_count": 8,
   "metadata": {},
   "outputs": [],
   "source": [
    "temp = soup.find('div', attrs = {'class' : 'fl-callout-text'}).find_all('p')\n",
    "wolf = temp[0].text + \" \" + temp[1].text\n",
    "\n",
    "pars = [wolf]\n",
    "\n",
    "for i, p in enumerate(soup.find('div', attrs = {'class' : 'fl-callout-text'}).find_all('p')):\n",
    "    if (i > 1):\n",
    "        pars.append(p.text)\n"
   ]
  },
  {
   "cell_type": "code",
   "execution_count": 9,
   "metadata": {},
   "outputs": [],
   "source": [
    "jan = {\n",
    "    \"name\": [],\n",
    "    \"time\": [],\n",
    "    \"text\": [],\n",
    "}\n",
    "\n",
    "for text in pars:\n",
    "    jan[\"name\"].append(text.split(': ',1)[0])\n",
    "    jan[\"time\"].append(text.split(': ',1)[1].split(' ',1)[0])\n",
    "    jan[\"text\"].append(text.split(': ',1)[1].split(' ',1)[1])\n",
    "    \n",
    "jan_df = pd.DataFrame(data = jan)"
   ]
  },
  {
   "cell_type": "code",
   "execution_count": 10,
   "metadata": {},
   "outputs": [
    {
     "data": {
      "text/html": "<div>\n<style scoped>\n    .dataframe tbody tr th:only-of-type {\n        vertical-align: middle;\n    }\n\n    .dataframe tbody tr th {\n        vertical-align: top;\n    }\n\n    .dataframe thead th {\n        text-align: right;\n    }\n</style>\n<table border=\"1\" class=\"dataframe\">\n  <thead>\n    <tr style=\"text-align: right;\">\n      <th></th>\n      <th>name</th>\n      <th>time</th>\n      <th>text</th>\n    </tr>\n  </thead>\n  <tbody>\n    <tr>\n      <th>0</th>\n      <td>Wolf Blitzer</td>\n      <td>(00:00)</td>\n      <td>All right, so let’s begin right now. Just this...</td>\n    </tr>\n    <tr>\n      <th>1</th>\n      <td>Bernie Sanders</td>\n      <td>(00:02)</td>\n      <td>When the Congress was debating whether or not ...</td>\n    </tr>\n    <tr>\n      <th>2</th>\n      <td>Bernie Sanders</td>\n      <td>(00:48)</td>\n      <td>We got a majority vote in the Senate. We got a...</td>\n    </tr>\n    <tr>\n      <th>3</th>\n      <td>Wolf Blitzer</td>\n      <td>(01:11)</td>\n      <td>Vice President Biden, you talk a lot about you...</td>\n    </tr>\n    <tr>\n      <th>4</th>\n      <td>Joe Biden</td>\n      <td>(01:27)</td>\n      <td>I said 13 years ago, it was a mistake to give ...</td>\n    </tr>\n    <tr>\n      <th>...</th>\n      <td>...</td>\n      <td>...</td>\n      <td>...</td>\n    </tr>\n    <tr>\n      <th>343</th>\n      <td>Bernie Sanders</td>\n      <td>(02:06:44)</td>\n      <td>It’s been a good debate, but we haven’t asked ...</td>\n    </tr>\n    <tr>\n      <th>344</th>\n      <td>Wolf Blitzer</td>\n      <td>(02:07:49)</td>\n      <td>Vice President Biden.</td>\n    </tr>\n    <tr>\n      <th>345</th>\n      <td>Joe Biden</td>\n      <td>(02:07:52)</td>\n      <td>Character is on the ballot this time around. T...</td>\n    </tr>\n    <tr>\n      <th>346</th>\n      <td>Joe Biden</td>\n      <td>(02:08:44)</td>\n      <td>We in fact have to regain the respect of the w...</td>\n    </tr>\n    <tr>\n      <th>347</th>\n      <td>Wolf Blitzer</td>\n      <td>(02:09:04)</td>\n      <td>Candidates, thank you very, very much. That co...</td>\n    </tr>\n  </tbody>\n</table>\n<p>348 rows × 3 columns</p>\n</div>",
      "text/plain": "               name        time  \\\n0      Wolf Blitzer     (00:00)   \n1    Bernie Sanders     (00:02)   \n2    Bernie Sanders     (00:48)   \n3      Wolf Blitzer     (01:11)   \n4         Joe Biden     (01:27)   \n..              ...         ...   \n343  Bernie Sanders  (02:06:44)   \n344    Wolf Blitzer  (02:07:49)   \n345       Joe Biden  (02:07:52)   \n346       Joe Biden  (02:08:44)   \n347    Wolf Blitzer  (02:09:04)   \n\n                                                  text  \n0    All right, so let’s begin right now. Just this...  \n1    When the Congress was debating whether or not ...  \n2    We got a majority vote in the Senate. We got a...  \n3    Vice President Biden, you talk a lot about you...  \n4    I said 13 years ago, it was a mistake to give ...  \n..                                                 ...  \n343  It’s been a good debate, but we haven’t asked ...  \n344                              Vice President Biden.  \n345  Character is on the ballot this time around. T...  \n346  We in fact have to regain the respect of the w...  \n347  Candidates, thank you very, very much. That co...  \n\n[348 rows x 3 columns]"
     },
     "execution_count": 10,
     "metadata": {},
     "output_type": "execute_result"
    }
   ],
   "source": [
    "jan_df"
   ]
  },
  {
   "cell_type": "code",
   "execution_count": 11,
   "metadata": {},
   "outputs": [],
   "source": [
    "jan_df.to_csv(\"../data/january_transcript.csv\")"
   ]
  },
  {
   "cell_type": "markdown",
   "metadata": {},
   "source": [
    "### December Debate"
   ]
  },
  {
   "cell_type": "code",
   "execution_count": 12,
   "metadata": {},
   "outputs": [],
   "source": [
    "URL = \"https://www.rev.com/blog/transcripts/december-democratic-debate-transcript-sixth-debate-from-los-angeles\"\n",
    "r = requests.get(URL)\n",
    "\n",
    "\n",
    "soup = BeautifulSoup(r.content, 'html5lib')"
   ]
  },
  {
   "cell_type": "code",
   "execution_count": 13,
   "metadata": {},
   "outputs": [],
   "source": [
    "pars = []\n",
    "for i, p in enumerate(soup.find('div', attrs = {'class' : 'fl-callout-text'}).find_all('p')):\n",
    "        pars.append(p.text)\n",
    "        \n",
    "dec = {\n",
    "    \"name\": [],\n",
    "    \"time\": [],\n",
    "    \"text\": [],\n",
    "}\n",
    "\n",
    "for text in pars:\n",
    "    dec[\"name\"].append(text.split(': ',1)[0])\n",
    "    dec[\"time\"].append(text.split(': ',1)[1].split(' ',1)[0])\n",
    "    dec[\"text\"].append(text.split(': ',1)[1].split(' ',1)[1])\n",
    "    \n",
    "dec_df = pd.DataFrame(data = dec)"
   ]
  },
  {
   "cell_type": "code",
   "execution_count": 14,
   "metadata": {},
   "outputs": [
    {
     "data": {
      "text/html": "<div>\n<style scoped>\n    .dataframe tbody tr th:only-of-type {\n        vertical-align: middle;\n    }\n\n    .dataframe tbody tr th {\n        vertical-align: top;\n    }\n\n    .dataframe thead th {\n        text-align: right;\n    }\n</style>\n<table border=\"1\" class=\"dataframe\">\n  <thead>\n    <tr style=\"text-align: right;\">\n      <th></th>\n      <th>name</th>\n      <th>time</th>\n      <th>text</th>\n    </tr>\n  </thead>\n  <tbody>\n    <tr>\n      <th>0</th>\n      <td>Judy Woodruff</td>\n      <td>(00:01)</td>\n      <td>Welcome back. A quick reminder of the rules fo...</td>\n    </tr>\n    <tr>\n      <th>1</th>\n      <td>Judy Woodruff</td>\n      <td>(00:23)</td>\n      <td>To the candidates. Last night at this hour, th...</td>\n    </tr>\n    <tr>\n      <th>2</th>\n      <td>Joe Biden</td>\n      <td>(01:05)</td>\n      <td>You know, Judy, it was a constitutional necess...</td>\n    </tr>\n    <tr>\n      <th>3</th>\n      <td>Judy Woodruff</td>\n      <td>(01:59)</td>\n      <td>Senator Sanders, why do you think more people ...</td>\n    </tr>\n    <tr>\n      <th>4</th>\n      <td>Bernie Sanders</td>\n      <td>(02:05)</td>\n      <td>Well, Judy, what I would say is that we have a...</td>\n    </tr>\n    <tr>\n      <th>...</th>\n      <td>...</td>\n      <td>...</td>\n      <td>...</td>\n    </tr>\n    <tr>\n      <th>380</th>\n      <td>Joe Biden</td>\n      <td>(08:06)</td>\n      <td>Thank you very much for listening, seven days ...</td>\n    </tr>\n    <tr>\n      <th>381</th>\n      <td>Joe Biden</td>\n      <td>(08:40)</td>\n      <td>And thirdly, who can deliver legislatively? Th...</td>\n    </tr>\n    <tr>\n      <th>382</th>\n      <td>Judy Woodruff</td>\n      <td>(09:11)</td>\n      <td>Thank you.</td>\n    </tr>\n    <tr>\n      <th>383</th>\n      <td>Judy Woodruff</td>\n      <td>(09:12)</td>\n      <td>Thank you very much. And that concludes the PB...</td>\n    </tr>\n    <tr>\n      <th>384</th>\n      <td>Judy Woodruff</td>\n      <td>(09:32)</td>\n      <td>Thank you all for joining us. Please stick aro...</td>\n    </tr>\n  </tbody>\n</table>\n<p>385 rows × 3 columns</p>\n</div>",
      "text/plain": "               name     time  \\\n0     Judy Woodruff  (00:01)   \n1     Judy Woodruff  (00:23)   \n2         Joe Biden  (01:05)   \n3     Judy Woodruff  (01:59)   \n4    Bernie Sanders  (02:05)   \n..              ...      ...   \n380       Joe Biden  (08:06)   \n381       Joe Biden  (08:40)   \n382   Judy Woodruff  (09:11)   \n383   Judy Woodruff  (09:12)   \n384   Judy Woodruff  (09:32)   \n\n                                                  text  \n0    Welcome back. A quick reminder of the rules fo...  \n1    To the candidates. Last night at this hour, th...  \n2    You know, Judy, it was a constitutional necess...  \n3    Senator Sanders, why do you think more people ...  \n4    Well, Judy, what I would say is that we have a...  \n..                                                 ...  \n380  Thank you very much for listening, seven days ...  \n381  And thirdly, who can deliver legislatively? Th...  \n382                                         Thank you.  \n383  Thank you very much. And that concludes the PB...  \n384  Thank you all for joining us. Please stick aro...  \n\n[385 rows x 3 columns]"
     },
     "execution_count": 14,
     "metadata": {},
     "output_type": "execute_result"
    }
   ],
   "source": [
    "dec_df"
   ]
  },
  {
   "cell_type": "code",
   "execution_count": 15,
   "metadata": {},
   "outputs": [],
   "source": [
    "dec_df.to_csv(\"../data/december_transcript.csv\", index = False)"
   ]
  },
  {
   "cell_type": "markdown",
   "metadata": {},
   "source": [
    "### November Debate"
   ]
  },
  {
   "cell_type": "code",
   "execution_count": 16,
   "metadata": {},
   "outputs": [],
   "source": [
    "URL = \"https://www.rev.com/blog/transcripts/november-democratic-debate-transcript-atlanta-debate-transcript\"\n",
    "r = requests.get(URL)\n",
    "\n",
    "soup = BeautifulSoup(r.content, 'html5lib')"
   ]
  },
  {
   "cell_type": "code",
   "execution_count": 17,
   "metadata": {},
   "outputs": [],
   "source": [
    "pars = []\n",
    "for i, p in enumerate(soup.find('div', attrs = {'class' : 'fl-callout-text'}).find_all('p')):\n",
    "        pars.append(p.text)\n",
    "        \n",
    "nov = {\n",
    "    \"name\": [],\n",
    "    \"time\": [],\n",
    "    \"text\": [],\n",
    "}\n",
    "\n",
    "for i, text in enumerate(pars):\n",
    "    try:\n",
    "        nov[\"name\"].append(text.split(': ',1)[0])\n",
    "        nov[\"time\"].append(text.split(': ',1)[1].split(' ',1)[0])\n",
    "        if(i == 263):\n",
    "            nov[\"text\"].append(\"\")\n",
    "        else:\n",
    "            nov[\"text\"].append(text.split(': ',1)[1].split(' ',1)[1])\n",
    "    except:\n",
    "        print(i)\n",
    "    \n",
    "nov_df = pd.DataFrame(data = nov)"
   ]
  },
  {
   "cell_type": "code",
   "execution_count": 18,
   "metadata": {},
   "outputs": [],
   "source": [
    "nov_df.to_csv(\"../data/november_transcript.csv\", index = False)"
   ]
  },
  {
   "cell_type": "markdown",
   "metadata": {},
   "source": [
    "### October Debate"
   ]
  },
  {
   "cell_type": "code",
   "execution_count": 19,
   "metadata": {},
   "outputs": [],
   "source": [
    "URL = \"https://www.rev.com/blog/transcripts/october-democratic-debate-transcript-4th-debate-from-ohio\"\n",
    "r = requests.get(URL)\n",
    "\n",
    "soup = BeautifulSoup(r.content, 'html5lib')"
   ]
  },
  {
   "cell_type": "code",
   "execution_count": 20,
   "metadata": {},
   "outputs": [],
   "source": [
    "pars = []\n",
    "for i, p in enumerate(soup.find('div', attrs = {'class' : 'fl-callout-text'}).find_all('p')):\n",
    "        pars.append(p.text)\n",
    "        \n",
    "octbr = {\n",
    "    \"name\": [],\n",
    "    \"time\": [],\n",
    "    \"text\": [],\n",
    "}\n",
    "\n",
    "for text in pars:\n",
    "    octbr[\"name\"].append(text.split(': ',1)[0])\n",
    "    octbr[\"time\"].append(text.split(': ',1)[1].split(' ',1)[0])\n",
    "    octbr[\"text\"].append(text.split(': ',1)[1].split(' ',1)[1])\n",
    "    \n",
    "oct_df = pd.DataFrame(data = octbr)"
   ]
  },
  {
   "cell_type": "code",
   "execution_count": 21,
   "metadata": {},
   "outputs": [],
   "source": [
    "oct_df.to_csv(\"../data/october_transcript.csv\", index = False)"
   ]
  },
  {
   "cell_type": "markdown",
   "metadata": {},
   "source": [
    "### September Debate"
   ]
  },
  {
   "cell_type": "code",
   "execution_count": 22,
   "metadata": {},
   "outputs": [],
   "source": [
    "URL = \"https://www.rev.com/blog/transcripts/democratic-debate-transcript-houston-september-12-2019\"\n",
    "r = requests.get(URL)\n",
    "\n",
    "soup = BeautifulSoup(r.content, 'html5lib')"
   ]
  },
  {
   "cell_type": "code",
   "execution_count": null,
   "metadata": {},
   "outputs": [],
   "source": []
  },
  {
   "cell_type": "code",
   "execution_count": 23,
   "metadata": {},
   "outputs": [],
   "source": [
    "pars = []\n",
    "for i, p in enumerate(soup.find('div', attrs = {'class' : 'fl-callout-text'}).find_all('p')):\n",
    "        pars.append(p.text)\n",
    "        \n",
    "sept = {\n",
    "    \"name\": [],\n",
    "    \"time\": [],\n",
    "    \"text\": [],\n",
    "}\n",
    "\n",
    "for i, text in enumerate(pars):\n",
    "    try:\n",
    "        if(i != 225):     \n",
    "            sept[\"name\"].append(text.split(': ',1)[0])\n",
    "            sept[\"time\"].append(text.split(': ',1)[1].split(' ',1)[0])\n",
    "            sept[\"text\"].append(text.split(': ',1)[1].split(' ',1)[1])\n",
    "    except:\n",
    "        print(i)\n",
    "    \n",
    "    \n",
    "    \n",
    "sept_df = pd.DataFrame(data = sept)"
   ]
  },
  {
   "cell_type": "code",
   "execution_count": 24,
   "metadata": {},
   "outputs": [],
   "source": [
    "sept_df.to_csv('../data/september_transcript.csv')"
   ]
  },
  {
   "cell_type": "markdown",
   "metadata": {},
   "source": [
    "### July Debates"
   ]
  },
  {
   "cell_type": "markdown",
   "metadata": {},
   "source": [
    "#### Debate 1"
   ]
  },
  {
   "cell_type": "code",
   "execution_count": 25,
   "metadata": {},
   "outputs": [],
   "source": [
    "URL = \"https://www.rev.com/blog/transcripts/transcript-of-july-democratic-debate-night-1-full-transcript-july-30-2019\"\n",
    "r = requests.get(URL)\n",
    "\n",
    "soup = BeautifulSoup(r.content, 'html5lib')"
   ]
  },
  {
   "cell_type": "code",
   "execution_count": 38,
   "metadata": {},
   "outputs": [],
   "source": [
    "pars = []\n",
    "for i, p in enumerate(soup.find('div', attrs = {'class' : 'fl-callout-text'}).find_all('p')):\n",
    "    if i > 1:\n",
    "        pars.append(p.text)\n",
    "        \n",
    "july1 = {\n",
    "    \"name\": [],\n",
    "    \"time\": [],\n",
    "    \"text\": [],\n",
    "}\n",
    "\n",
    "for i, text in enumerate(pars):\n",
    "    try: \n",
    "        if i != 274 and i != 645:\n",
    "            july1[\"name\"].append(text.split(': ',1)[0])\n",
    "            july1[\"time\"].append(text.split(': ',1)[1].split(' ',1)[0])\n",
    "            july1[\"text\"].append(text.split(': ',1)[1].split(' ',1)[1])\n",
    "    except:\n",
    "        print(i)\n",
    "    \n",
    "    \n",
    "    \n",
    "july1_df = pd.DataFrame(data = july1)"
   ]
  },
  {
   "cell_type": "code",
   "execution_count": 39,
   "metadata": {},
   "outputs": [],
   "source": [
    "july1_df.to_csv(\"../data/july1_transcript.csv\")"
   ]
  },
  {
   "cell_type": "markdown",
   "metadata": {},
   "source": [
    "#### Debate 2"
   ]
  },
  {
   "cell_type": "code",
   "execution_count": 40,
   "metadata": {},
   "outputs": [],
   "source": [
    "URL = \"https://www.rev.com/blog/transcripts/transcript-of-july-democratic-debate-2nd-round-night-2-full-transcript-july-31-2019\"\n",
    "r = requests.get(URL)\n",
    "\n",
    "soup = BeautifulSoup(r.content, 'html5lib')"
   ]
  },
  {
   "cell_type": "code",
   "execution_count": 41,
   "metadata": {},
   "outputs": [],
   "source": [
    "pars = []\n",
    "for i, p in enumerate(soup.find('div', attrs = {'class' : 'fl-callout-text'}).find_all('p')):\n",
    "    if i > 1:\n",
    "        pars.append(p.text)\n",
    "        \n",
    "july2 = {\n",
    "    \"name\": [],\n",
    "    \"time\": [],\n",
    "    \"text\": [],\n",
    "}\n",
    "\n",
    "for i, text in enumerate(pars):\n",
    "    try:    \n",
    "        july2[\"name\"].append(text.split(': ',1)[0])\n",
    "        july2[\"time\"].append(text.split(': ',1)[1].split(' ',1)[0])\n",
    "        july2[\"text\"].append(text.split(': ',1)[1].split(' ',1)[1])\n",
    "    except:\n",
    "        print(i)\n",
    "    \n",
    "    \n",
    "    \n",
    "july2_df = pd.DataFrame(data = july2)"
   ]
  },
  {
   "cell_type": "code",
   "execution_count": 42,
   "metadata": {},
   "outputs": [],
   "source": [
    "july2_df.to_csv(\"../data/july2_transcript.csv\")"
   ]
  },
  {
   "cell_type": "markdown",
   "metadata": {},
   "source": [
    "### June Debates"
   ]
  },
  {
   "cell_type": "markdown",
   "metadata": {},
   "source": [
    "#### Debate 1"
   ]
  },
  {
   "cell_type": "code",
   "execution_count": 43,
   "metadata": {},
   "outputs": [],
   "source": [
    "URL = \"https://www.rev.com/blog/transcripts/transcript-from-first-night-of-democratic-debates\"\n",
    "r = requests.get(URL)\n",
    "\n",
    "soup = BeautifulSoup(r.content, 'html5lib')"
   ]
  },
  {
   "cell_type": "code",
   "execution_count": 44,
   "metadata": {},
   "outputs": [
    {
     "data": {
      "text/plain": "['Bill de Blasio',\n '(00:56) To the working people of America, tonight I bring you a message of hope. We can make change in this country. I know from personal experience it can be done. When I became the mayor of the nation’s largest city, I set us on a path of bold change. They said it couldn’t be done, but we gave pre-K to every child for free. We got rid of Stop and Frisk and we lowered crime. We raise the minimum wage to $15.00 an hour, yes, it can be done. Now tonight we have to get to the heart and soul of who we are as Democrats. There are good people on this stage, but there are real differences. Joe Biden told wealthy donors that nothing fundamentally would change if he were president.']"
     },
     "execution_count": 44,
     "metadata": {},
     "output_type": "execute_result"
    }
   ],
   "source": [
    "pars[0].split(': ',1)"
   ]
  },
  {
   "cell_type": "code",
   "execution_count": 45,
   "metadata": {},
   "outputs": [],
   "source": [
    "pars = []\n",
    "for i, p in enumerate(soup.find('div', attrs = {'class' : 'fl-callout-text'}).find_all('p')):\n",
    "        pars.append(p.text)\n",
    "        \n",
    "june1 = {\n",
    "    \"name\": [],\n",
    "    \"text\": [],\n",
    "}\n",
    "\n",
    "\n",
    "for i, text in enumerate(pars):\n",
    "    try:    \n",
    "        june1[\"name\"].append(text.split(': ',1)[0])\n",
    "        june1[\"text\"].append(text.split(': ',1)[1])\n",
    "    except:\n",
    "        print(i)\n",
    "    \n",
    "    \n",
    "    \n",
    "june1_df = pd.DataFrame(data = june1)"
   ]
  },
  {
   "cell_type": "code",
   "execution_count": 46,
   "metadata": {},
   "outputs": [],
   "source": [
    "june1_df.to_csv(\"../data/june1_transcript.csv\")"
   ]
  },
  {
   "cell_type": "markdown",
   "metadata": {},
   "source": [
    "#### Debate 2"
   ]
  },
  {
   "cell_type": "code",
   "execution_count": 47,
   "metadata": {},
   "outputs": [],
   "source": [
    "URL = \"https://www.rev.com/blog/transcripts/transcript-from-night-2-of-the-2019-democratic-debates\"\n",
    "r = requests.get(URL)\n",
    "\n",
    "soup = BeautifulSoup(r.content, 'html5lib')"
   ]
  },
  {
   "cell_type": "code",
   "execution_count": 48,
   "metadata": {},
   "outputs": [],
   "source": [
    "pars = []\n",
    "for i, p in enumerate(soup.find('div', attrs = {'class' : 'fl-callout-text'}).find_all('p')):\n",
    "    if i > 0:\n",
    "        pars.append(p.text)\n",
    "        \n",
    "june2 = {\n",
    "    \"name\": [],\n",
    "    \"time\": [],\n",
    "    \"text\": [],\n",
    "}\n",
    "\n",
    "for i, text in enumerate(pars):\n",
    "    try:    \n",
    "        june2[\"name\"].append(text.split(': ',1)[0])\n",
    "        june2[\"time\"].append(text.split(': ',1)[1].split(' ',1)[0])\n",
    "        june2[\"text\"].append(text.split(': ',1)[1].split(' ',1)[1])\n",
    "    except:\n",
    "        print(i)\n",
    "    \n",
    "    \n",
    "    \n",
    "june2_df = pd.DataFrame(data = june2)"
   ]
  },
  {
   "cell_type": "code",
   "execution_count": 49,
   "metadata": {},
   "outputs": [],
   "source": [
    "june2_df.to_csv(\"../data/june2_transcript.csv\")"
   ]
  }
 ],
 "metadata": {
  "kernelspec": {
   "display_name": "Python 3",
   "language": "python",
   "name": "python3"
  },
  "language_info": {
   "codemirror_mode": {
    "name": "ipython",
    "version": 3
   },
   "file_extension": ".py",
   "mimetype": "text/x-python",
   "name": "python",
   "nbconvert_exporter": "python",
   "pygments_lexer": "ipython3",
   "version": "3.7.4-final"
  }
 },
 "nbformat": 4,
 "nbformat_minor": 4
}