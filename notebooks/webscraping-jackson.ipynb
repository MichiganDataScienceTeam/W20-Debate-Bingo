{
 "cells": [
  {
   "cell_type": "markdown",
   "metadata": {},
   "source": [
    "## webscraping "
   ]
  },
  {
   "cell_type": "code",
   "execution_count": 1,
   "metadata": {},
   "outputs": [],
   "source": [
    "from bs4 import BeautifulSoup\n",
    "import requests\n",
    "import pandas as pd\n",
    "import numpy as np"
   ]
  },
  {
   "cell_type": "markdown",
   "metadata": {},
   "source": [
    "### February Debate"
   ]
  },
  {
   "cell_type": "code",
   "execution_count": 2,
   "metadata": {},
   "outputs": [],
   "source": [
    "URL = \"https://www.rev.com/blog/transcripts/new-hampshire-democratic-debate-transcript\"\n",
    "r = requests.get(URL)\n",
    "\n",
    "soup = BeautifulSoup(r.content, 'html5lib')"
   ]
  },
  {
   "cell_type": "code",
   "execution_count": 3,
   "metadata": {},
   "outputs": [],
   "source": [
    "temp = soup.find('div', attrs = {'class' : 'fl-callout-text'}).find_all('p')\n",
    "moderator = temp[0].text + \" \" + temp[1].text\n",
    "\n",
    "pars = [moderator]\n",
    "\n",
    "for i, p in enumerate(soup.find('div', attrs = {'class' : 'fl-callout-text'}).find_all('p')):\n",
    "    if (i > 1):\n",
    "        pars.append(p.text)"
   ]
  },
  {
   "cell_type": "code",
   "execution_count": 4,
   "metadata": {},
   "outputs": [],
   "source": [
    "feb = {\n",
    "    \"name\": [],\n",
    "    \"time\": [],\n",
    "    \"text\": [],\n",
    "}\n",
    "\n",
    "for text in pars:\n",
    "    feb[\"name\"].append(text.split(': ',1)[0])\n",
    "    feb[\"time\"].append(text.split(': ',1)[1].split(' ',1)[0])\n",
    "    feb[\"text\"].append(text.split(': ',1)[1].split(' ',1)[1])\n",
    "    \n",
    "feb_df = pd.DataFrame(data = feb)"
   ]
  },
  {
   "cell_type": "code",
   "execution_count": 5,
   "metadata": {},
   "outputs": [
    {
     "data": {
      "text/html": [
       "<div>\n",
       "<style scoped>\n",
       "    .dataframe tbody tr th:only-of-type {\n",
       "        vertical-align: middle;\n",
       "    }\n",
       "\n",
       "    .dataframe tbody tr th {\n",
       "        vertical-align: top;\n",
       "    }\n",
       "\n",
       "    .dataframe thead th {\n",
       "        text-align: right;\n",
       "    }\n",
       "</style>\n",
       "<table border=\"1\" class=\"dataframe\">\n",
       "  <thead>\n",
       "    <tr style=\"text-align: right;\">\n",
       "      <th></th>\n",
       "      <th>name</th>\n",
       "      <th>time</th>\n",
       "      <th>text</th>\n",
       "    </tr>\n",
       "  </thead>\n",
       "  <tbody>\n",
       "    <tr>\n",
       "      <td>0</td>\n",
       "      <td>George S.</td>\n",
       "      <td>(00:14)</td>\n",
       "      <td>Candidates, welcome. Vice President Biden, the...</td>\n",
       "    </tr>\n",
       "    <tr>\n",
       "      <td>1</td>\n",
       "      <td>George S.</td>\n",
       "      <td>(01:08)</td>\n",
       "      <td>Why are Senator Sanders and Mayor Buttigieg to...</td>\n",
       "    </tr>\n",
       "    <tr>\n",
       "      <td>2</td>\n",
       "      <td>Joe Biden</td>\n",
       "      <td>(01:12)</td>\n",
       "      <td>Well, you know that with regard to Senator San...</td>\n",
       "    </tr>\n",
       "    <tr>\n",
       "      <td>3</td>\n",
       "      <td>George S.</td>\n",
       "      <td>(01:53)</td>\n",
       "      <td>Senator Sanders, let me give you the chance to...</td>\n",
       "    </tr>\n",
       "    <tr>\n",
       "      <td>4</td>\n",
       "      <td>Bernie Sanders</td>\n",
       "      <td>(02:14)</td>\n",
       "      <td>Because Donald Trump lies all the time. It doe...</td>\n",
       "    </tr>\n",
       "    <tr>\n",
       "      <td>...</td>\n",
       "      <td>...</td>\n",
       "      <td>...</td>\n",
       "      <td>...</td>\n",
       "    </tr>\n",
       "    <tr>\n",
       "      <td>317</td>\n",
       "      <td>Amy Klobuchar</td>\n",
       "      <td>(01:15:43)</td>\n",
       "      <td>There’s an old story of Franklin Delano Roosev...</td>\n",
       "    </tr>\n",
       "    <tr>\n",
       "      <td>318</td>\n",
       "      <td>Amy Klobuchar</td>\n",
       "      <td>(01:16:20)</td>\n",
       "      <td>If you have trouble stretching your paycheck t...</td>\n",
       "    </tr>\n",
       "    <tr>\n",
       "      <td>319</td>\n",
       "      <td>George S.</td>\n",
       "      <td>(01:17:17)</td>\n",
       "      <td>Mr. Steyer.</td>\n",
       "    </tr>\n",
       "    <tr>\n",
       "      <td>320</td>\n",
       "      <td>Tom Steyer</td>\n",
       "      <td>(01:17:24)</td>\n",
       "      <td>The Republicans have a cruel plan and their pl...</td>\n",
       "    </tr>\n",
       "    <tr>\n",
       "      <td>321</td>\n",
       "      <td>George S.</td>\n",
       "      <td>(01:19:09)</td>\n",
       "      <td>Candidates. Thank you. Thanks for a great deba...</td>\n",
       "    </tr>\n",
       "  </tbody>\n",
       "</table>\n",
       "<p>322 rows × 3 columns</p>\n",
       "</div>"
      ],
      "text/plain": [
       "               name        time  \\\n",
       "0         George S.     (00:14)   \n",
       "1         George S.     (01:08)   \n",
       "2         Joe Biden     (01:12)   \n",
       "3         George S.     (01:53)   \n",
       "4    Bernie Sanders     (02:14)   \n",
       "..              ...         ...   \n",
       "317   Amy Klobuchar  (01:15:43)   \n",
       "318   Amy Klobuchar  (01:16:20)   \n",
       "319       George S.  (01:17:17)   \n",
       "320      Tom Steyer  (01:17:24)   \n",
       "321       George S.  (01:19:09)   \n",
       "\n",
       "                                                  text  \n",
       "0    Candidates, welcome. Vice President Biden, the...  \n",
       "1    Why are Senator Sanders and Mayor Buttigieg to...  \n",
       "2    Well, you know that with regard to Senator San...  \n",
       "3    Senator Sanders, let me give you the chance to...  \n",
       "4    Because Donald Trump lies all the time. It doe...  \n",
       "..                                                 ...  \n",
       "317  There’s an old story of Franklin Delano Roosev...  \n",
       "318  If you have trouble stretching your paycheck t...  \n",
       "319                                        Mr. Steyer.  \n",
       "320  The Republicans have a cruel plan and their pl...  \n",
       "321  Candidates. Thank you. Thanks for a great deba...  \n",
       "\n",
       "[322 rows x 3 columns]"
      ]
     },
     "execution_count": 5,
     "metadata": {},
     "output_type": "execute_result"
    }
   ],
   "source": [
    "feb_df"
   ]
  },
  {
   "cell_type": "code",
   "execution_count": 6,
   "metadata": {},
   "outputs": [],
   "source": [
    "feb_df.to_csv(\"../data/february_transcript.csv\", index = False)"
   ]
  },
  {
   "cell_type": "markdown",
   "metadata": {},
   "source": [
    "### January Debate"
   ]
  },
  {
   "cell_type": "code",
   "execution_count": 7,
   "metadata": {},
   "outputs": [],
   "source": [
    "URL = \"https://www.rev.com/blog/transcripts/january-iowa-democratic-debate-transcript\"\n",
    "r = requests.get(URL)\n",
    "\n",
    "soup = BeautifulSoup(r.content, 'html5lib')"
   ]
  },
  {
   "cell_type": "code",
   "execution_count": 8,
   "metadata": {},
   "outputs": [],
   "source": [
    "temp = soup.find('div', attrs = {'class' : 'fl-callout-text'}).find_all('p')\n",
    "wolf = temp[0].text + \" \" + temp[1].text\n",
    "\n",
    "pars = [wolf]\n",
    "\n",
    "for i, p in enumerate(soup.find('div', attrs = {'class' : 'fl-callout-text'}).find_all('p')):\n",
    "    if (i > 1):\n",
    "        pars.append(p.text)\n"
   ]
  },
  {
   "cell_type": "code",
   "execution_count": 9,
   "metadata": {},
   "outputs": [],
   "source": [
    "jan = {\n",
    "    \"name\": [],\n",
    "    \"time\": [],\n",
    "    \"text\": [],\n",
    "}\n",
    "\n",
    "for text in pars:\n",
    "    jan[\"name\"].append(text.split(': ',1)[0])\n",
    "    jan[\"time\"].append(text.split(': ',1)[1].split(' ',1)[0])\n",
    "    jan[\"text\"].append(text.split(': ',1)[1].split(' ',1)[1])\n",
    "    \n",
    "jan_df = pd.DataFrame(data = jan)"
   ]
  },
  {
   "cell_type": "code",
   "execution_count": 10,
   "metadata": {},
   "outputs": [
    {
     "data": {
      "text/html": [
       "<div>\n",
       "<style scoped>\n",
       "    .dataframe tbody tr th:only-of-type {\n",
       "        vertical-align: middle;\n",
       "    }\n",
       "\n",
       "    .dataframe tbody tr th {\n",
       "        vertical-align: top;\n",
       "    }\n",
       "\n",
       "    .dataframe thead th {\n",
       "        text-align: right;\n",
       "    }\n",
       "</style>\n",
       "<table border=\"1\" class=\"dataframe\">\n",
       "  <thead>\n",
       "    <tr style=\"text-align: right;\">\n",
       "      <th></th>\n",
       "      <th>name</th>\n",
       "      <th>time</th>\n",
       "      <th>text</th>\n",
       "    </tr>\n",
       "  </thead>\n",
       "  <tbody>\n",
       "    <tr>\n",
       "      <td>0</td>\n",
       "      <td>Wolf Blitzer</td>\n",
       "      <td>(00:00)</td>\n",
       "      <td>All right, so let’s begin right now. Just this...</td>\n",
       "    </tr>\n",
       "    <tr>\n",
       "      <td>1</td>\n",
       "      <td>Bernie Sanders</td>\n",
       "      <td>(00:02)</td>\n",
       "      <td>When the Congress was debating whether or not ...</td>\n",
       "    </tr>\n",
       "    <tr>\n",
       "      <td>2</td>\n",
       "      <td>Bernie Sanders</td>\n",
       "      <td>(00:48)</td>\n",
       "      <td>We got a majority vote in the Senate. We got a...</td>\n",
       "    </tr>\n",
       "    <tr>\n",
       "      <td>3</td>\n",
       "      <td>Wolf Blitzer</td>\n",
       "      <td>(01:11)</td>\n",
       "      <td>Vice President Biden, you talk a lot about you...</td>\n",
       "    </tr>\n",
       "    <tr>\n",
       "      <td>4</td>\n",
       "      <td>Joe Biden</td>\n",
       "      <td>(01:27)</td>\n",
       "      <td>I said 13 years ago, it was a mistake to give ...</td>\n",
       "    </tr>\n",
       "    <tr>\n",
       "      <td>...</td>\n",
       "      <td>...</td>\n",
       "      <td>...</td>\n",
       "      <td>...</td>\n",
       "    </tr>\n",
       "    <tr>\n",
       "      <td>343</td>\n",
       "      <td>Bernie Sanders</td>\n",
       "      <td>(02:06:44)</td>\n",
       "      <td>It’s been a good debate, but we haven’t asked ...</td>\n",
       "    </tr>\n",
       "    <tr>\n",
       "      <td>344</td>\n",
       "      <td>Wolf Blitzer</td>\n",
       "      <td>(02:07:49)</td>\n",
       "      <td>Vice President Biden.</td>\n",
       "    </tr>\n",
       "    <tr>\n",
       "      <td>345</td>\n",
       "      <td>Joe Biden</td>\n",
       "      <td>(02:07:52)</td>\n",
       "      <td>Character is on the ballot this time around. T...</td>\n",
       "    </tr>\n",
       "    <tr>\n",
       "      <td>346</td>\n",
       "      <td>Joe Biden</td>\n",
       "      <td>(02:08:44)</td>\n",
       "      <td>We in fact have to regain the respect of the w...</td>\n",
       "    </tr>\n",
       "    <tr>\n",
       "      <td>347</td>\n",
       "      <td>Wolf Blitzer</td>\n",
       "      <td>(02:09:04)</td>\n",
       "      <td>Candidates, thank you very, very much. That co...</td>\n",
       "    </tr>\n",
       "  </tbody>\n",
       "</table>\n",
       "<p>348 rows × 3 columns</p>\n",
       "</div>"
      ],
      "text/plain": [
       "               name        time  \\\n",
       "0      Wolf Blitzer     (00:00)   \n",
       "1    Bernie Sanders     (00:02)   \n",
       "2    Bernie Sanders     (00:48)   \n",
       "3      Wolf Blitzer     (01:11)   \n",
       "4         Joe Biden     (01:27)   \n",
       "..              ...         ...   \n",
       "343  Bernie Sanders  (02:06:44)   \n",
       "344    Wolf Blitzer  (02:07:49)   \n",
       "345       Joe Biden  (02:07:52)   \n",
       "346       Joe Biden  (02:08:44)   \n",
       "347    Wolf Blitzer  (02:09:04)   \n",
       "\n",
       "                                                  text  \n",
       "0    All right, so let’s begin right now. Just this...  \n",
       "1    When the Congress was debating whether or not ...  \n",
       "2    We got a majority vote in the Senate. We got a...  \n",
       "3    Vice President Biden, you talk a lot about you...  \n",
       "4    I said 13 years ago, it was a mistake to give ...  \n",
       "..                                                 ...  \n",
       "343  It’s been a good debate, but we haven’t asked ...  \n",
       "344                              Vice President Biden.  \n",
       "345  Character is on the ballot this time around. T...  \n",
       "346  We in fact have to regain the respect of the w...  \n",
       "347  Candidates, thank you very, very much. That co...  \n",
       "\n",
       "[348 rows x 3 columns]"
      ]
     },
     "execution_count": 10,
     "metadata": {},
     "output_type": "execute_result"
    }
   ],
   "source": [
    "jan_df"
   ]
  },
  {
   "cell_type": "code",
   "execution_count": 11,
   "metadata": {},
   "outputs": [],
   "source": [
    "jan_df.to_csv(\"../data/january_transcript.csv\", index = False)"
   ]
  },
  {
   "cell_type": "markdown",
   "metadata": {},
   "source": [
    "### December Debate"
   ]
  },
  {
   "cell_type": "code",
   "execution_count": 12,
   "metadata": {},
   "outputs": [],
   "source": [
    "URL = \"https://www.rev.com/blog/transcripts/december-democratic-debate-transcript-sixth-debate-from-los-angeles\"\n",
    "r = requests.get(URL)\n",
    "\n",
    "\n",
    "soup = BeautifulSoup(r.content, 'html5lib')"
   ]
  },
  {
   "cell_type": "code",
   "execution_count": 13,
   "metadata": {},
   "outputs": [],
   "source": [
    "pars = []\n",
    "for i, p in enumerate(soup.find('div', attrs = {'class' : 'fl-callout-text'}).find_all('p')):\n",
    "        pars.append(p.text)\n",
    "        \n",
    "dec = {\n",
    "    \"name\": [],\n",
    "    \"time\": [],\n",
    "    \"text\": [],\n",
    "}\n",
    "\n",
    "for text in pars:\n",
    "    dec[\"name\"].append(text.split(': ',1)[0])\n",
    "    dec[\"time\"].append(text.split(': ',1)[1].split(' ',1)[0])\n",
    "    dec[\"text\"].append(text.split(': ',1)[1].split(' ',1)[1])\n",
    "    \n",
    "dec_df = pd.DataFrame(data = dec)"
   ]
  },
  {
   "cell_type": "code",
   "execution_count": 14,
   "metadata": {},
   "outputs": [
    {
     "data": {
      "text/html": [
       "<div>\n",
       "<style scoped>\n",
       "    .dataframe tbody tr th:only-of-type {\n",
       "        vertical-align: middle;\n",
       "    }\n",
       "\n",
       "    .dataframe tbody tr th {\n",
       "        vertical-align: top;\n",
       "    }\n",
       "\n",
       "    .dataframe thead th {\n",
       "        text-align: right;\n",
       "    }\n",
       "</style>\n",
       "<table border=\"1\" class=\"dataframe\">\n",
       "  <thead>\n",
       "    <tr style=\"text-align: right;\">\n",
       "      <th></th>\n",
       "      <th>name</th>\n",
       "      <th>time</th>\n",
       "      <th>text</th>\n",
       "    </tr>\n",
       "  </thead>\n",
       "  <tbody>\n",
       "    <tr>\n",
       "      <td>0</td>\n",
       "      <td>Judy Woodruff</td>\n",
       "      <td>(00:01)</td>\n",
       "      <td>Welcome back. A quick reminder of the rules fo...</td>\n",
       "    </tr>\n",
       "    <tr>\n",
       "      <td>1</td>\n",
       "      <td>Judy Woodruff</td>\n",
       "      <td>(00:23)</td>\n",
       "      <td>To the candidates. Last night at this hour, th...</td>\n",
       "    </tr>\n",
       "    <tr>\n",
       "      <td>2</td>\n",
       "      <td>Joe Biden</td>\n",
       "      <td>(01:05)</td>\n",
       "      <td>You know, Judy, it was a constitutional necess...</td>\n",
       "    </tr>\n",
       "    <tr>\n",
       "      <td>3</td>\n",
       "      <td>Judy Woodruff</td>\n",
       "      <td>(01:59)</td>\n",
       "      <td>Senator Sanders, why do you think more people ...</td>\n",
       "    </tr>\n",
       "    <tr>\n",
       "      <td>4</td>\n",
       "      <td>Bernie Sanders</td>\n",
       "      <td>(02:05)</td>\n",
       "      <td>Well, Judy, what I would say is that we have a...</td>\n",
       "    </tr>\n",
       "    <tr>\n",
       "      <td>...</td>\n",
       "      <td>...</td>\n",
       "      <td>...</td>\n",
       "      <td>...</td>\n",
       "    </tr>\n",
       "    <tr>\n",
       "      <td>380</td>\n",
       "      <td>Joe Biden</td>\n",
       "      <td>(08:06)</td>\n",
       "      <td>Thank you very much for listening, seven days ...</td>\n",
       "    </tr>\n",
       "    <tr>\n",
       "      <td>381</td>\n",
       "      <td>Joe Biden</td>\n",
       "      <td>(08:40)</td>\n",
       "      <td>And thirdly, who can deliver legislatively? Th...</td>\n",
       "    </tr>\n",
       "    <tr>\n",
       "      <td>382</td>\n",
       "      <td>Judy Woodruff</td>\n",
       "      <td>(09:11)</td>\n",
       "      <td>Thank you.</td>\n",
       "    </tr>\n",
       "    <tr>\n",
       "      <td>383</td>\n",
       "      <td>Judy Woodruff</td>\n",
       "      <td>(09:12)</td>\n",
       "      <td>Thank you very much. And that concludes the PB...</td>\n",
       "    </tr>\n",
       "    <tr>\n",
       "      <td>384</td>\n",
       "      <td>Judy Woodruff</td>\n",
       "      <td>(09:32)</td>\n",
       "      <td>Thank you all for joining us. Please stick aro...</td>\n",
       "    </tr>\n",
       "  </tbody>\n",
       "</table>\n",
       "<p>385 rows × 3 columns</p>\n",
       "</div>"
      ],
      "text/plain": [
       "               name     time  \\\n",
       "0     Judy Woodruff  (00:01)   \n",
       "1     Judy Woodruff  (00:23)   \n",
       "2         Joe Biden  (01:05)   \n",
       "3     Judy Woodruff  (01:59)   \n",
       "4    Bernie Sanders  (02:05)   \n",
       "..              ...      ...   \n",
       "380       Joe Biden  (08:06)   \n",
       "381       Joe Biden  (08:40)   \n",
       "382   Judy Woodruff  (09:11)   \n",
       "383   Judy Woodruff  (09:12)   \n",
       "384   Judy Woodruff  (09:32)   \n",
       "\n",
       "                                                  text  \n",
       "0    Welcome back. A quick reminder of the rules fo...  \n",
       "1    To the candidates. Last night at this hour, th...  \n",
       "2    You know, Judy, it was a constitutional necess...  \n",
       "3    Senator Sanders, why do you think more people ...  \n",
       "4    Well, Judy, what I would say is that we have a...  \n",
       "..                                                 ...  \n",
       "380  Thank you very much for listening, seven days ...  \n",
       "381  And thirdly, who can deliver legislatively? Th...  \n",
       "382                                         Thank you.  \n",
       "383  Thank you very much. And that concludes the PB...  \n",
       "384  Thank you all for joining us. Please stick aro...  \n",
       "\n",
       "[385 rows x 3 columns]"
      ]
     },
     "execution_count": 14,
     "metadata": {},
     "output_type": "execute_result"
    }
   ],
   "source": [
    "dec_df"
   ]
  },
  {
   "cell_type": "code",
   "execution_count": 15,
   "metadata": {},
   "outputs": [],
   "source": [
    "dec_df.to_csv(\"../data/december_transcript.csv\", index = False)"
   ]
  },
  {
   "cell_type": "markdown",
   "metadata": {},
   "source": [
    "### November Debate"
   ]
  },
  {
   "cell_type": "code",
   "execution_count": 16,
   "metadata": {},
   "outputs": [],
   "source": [
    "URL = \"https://www.rev.com/blog/transcripts/november-democratic-debate-transcript-atlanta-debate-transcript\"\n",
    "r = requests.get(URL)\n",
    "\n",
    "soup = BeautifulSoup(r.content, 'html5lib')"
   ]
  },
  {
   "cell_type": "code",
   "execution_count": 17,
   "metadata": {},
   "outputs": [],
   "source": [
    "pars = []\n",
    "for i, p in enumerate(soup.find('div', attrs = {'class' : 'fl-callout-text'}).find_all('p')):\n",
    "        pars.append(p.text)\n",
    "        \n",
    "nov = {\n",
    "    \"name\": [],\n",
    "    \"time\": [],\n",
    "    \"text\": [],\n",
    "}\n",
    "\n",
    "for i, text in enumerate(pars):\n",
    "    try:\n",
    "        nov[\"name\"].append(text.split(': ',1)[0])\n",
    "        nov[\"time\"].append(text.split(': ',1)[1].split(' ',1)[0])\n",
    "        if(i == 263):\n",
    "            nov[\"text\"].append(\"\")\n",
    "        else:\n",
    "            nov[\"text\"].append(text.split(': ',1)[1].split(' ',1)[1])\n",
    "    except:\n",
    "        print(i)\n",
    "    \n",
    "nov_df = pd.DataFrame(data = nov)"
   ]
  },
  {
   "cell_type": "code",
   "execution_count": 18,
   "metadata": {},
   "outputs": [],
   "source": [
    "nov_df.to_csv(\"../data/november_transcript.csv\", index = False)"
   ]
  },
  {
   "cell_type": "markdown",
   "metadata": {},
   "source": [
    "### October Debate"
   ]
  },
  {
   "cell_type": "code",
   "execution_count": 19,
   "metadata": {},
   "outputs": [],
   "source": [
    "URL = \"https://www.rev.com/blog/transcripts/october-democratic-debate-transcript-4th-debate-from-ohio\"\n",
    "r = requests.get(URL)\n",
    "\n",
    "soup = BeautifulSoup(r.content, 'html5lib')"
   ]
  },
  {
   "cell_type": "code",
   "execution_count": 20,
   "metadata": {},
   "outputs": [],
   "source": [
    "pars = []\n",
    "for i, p in enumerate(soup.find('div', attrs = {'class' : 'fl-callout-text'}).find_all('p')):\n",
    "        pars.append(p.text)\n",
    "        \n",
    "octbr = {\n",
    "    \"name\": [],\n",
    "    \"time\": [],\n",
    "    \"text\": [],\n",
    "}\n",
    "\n",
    "for text in pars:\n",
    "    octbr[\"name\"].append(text.split(': ',1)[0])\n",
    "    octbr[\"time\"].append(text.split(': ',1)[1].split(' ',1)[0])\n",
    "    octbr[\"text\"].append(text.split(': ',1)[1].split(' ',1)[1])\n",
    "    \n",
    "oct_df = pd.DataFrame(data = octbr)"
   ]
  },
  {
   "cell_type": "code",
   "execution_count": 21,
   "metadata": {},
   "outputs": [],
   "source": [
    "oct_df.to_csv(\"../data/october_transcript.csv\", index = False)"
   ]
  },
  {
   "cell_type": "markdown",
   "metadata": {},
   "source": [
    "### September Debate"
   ]
  },
  {
   "cell_type": "code",
   "execution_count": 22,
   "metadata": {},
   "outputs": [],
   "source": [
    "URL = \"https://www.rev.com/blog/transcripts/democratic-debate-transcript-houston-september-12-2019\"\n",
    "r = requests.get(URL)\n",
    "\n",
    "soup = BeautifulSoup(r.content, 'html5lib')"
   ]
  },
  {
   "cell_type": "code",
   "execution_count": 23,
   "metadata": {},
   "outputs": [],
   "source": [
    "pars = []\n",
    "for i, p in enumerate(soup.find('div', attrs = {'class' : 'fl-callout-text'}).find_all('p')):\n",
    "        pars.append(p.text)\n",
    "        \n",
    "sept = {\n",
    "    \"name\": [],\n",
    "    \"time\": [],\n",
    "    \"text\": [],\n",
    "}\n",
    "\n",
    "for i, text in enumerate(pars):\n",
    "    try:\n",
    "        if(i != 225):     \n",
    "            sept[\"name\"].append(text.split(': ',1)[0])\n",
    "            sept[\"time\"].append(text.split(': ',1)[1].split(' ',1)[0])\n",
    "            sept[\"text\"].append(text.split(': ',1)[1].split(' ',1)[1])\n",
    "    except:\n",
    "        print(i)\n",
    "    \n",
    "    \n",
    "    \n",
    "sept_df = pd.DataFrame(data = sept)"
   ]
  },
  {
   "cell_type": "code",
   "execution_count": 24,
   "metadata": {},
   "outputs": [],
   "source": [
    "sept_df.to_csv('../data/september_transcript.csv', index = False)"
   ]
  },
  {
   "cell_type": "markdown",
   "metadata": {},
   "source": [
    "### July Debates"
   ]
  },
  {
   "cell_type": "markdown",
   "metadata": {},
   "source": [
    "#### Debate 1"
   ]
  },
  {
   "cell_type": "code",
   "execution_count": 25,
   "metadata": {},
   "outputs": [],
   "source": [
    "URL = \"https://www.rev.com/blog/transcripts/transcript-of-july-democratic-debate-night-1-full-transcript-july-30-2019\"\n",
    "r = requests.get(URL)\n",
    "\n",
    "soup = BeautifulSoup(r.content, 'html5lib')"
   ]
  },
  {
   "cell_type": "code",
   "execution_count": 26,
   "metadata": {},
   "outputs": [],
   "source": [
    "pars = []\n",
    "for i, p in enumerate(soup.find('div', attrs = {'class' : 'fl-callout-text'}).find_all('p')):\n",
    "    if i > 1:\n",
    "        pars.append(p.text)\n",
    "        \n",
    "july1 = {\n",
    "    \"name\": [],\n",
    "    \"time\": [],\n",
    "    \"text\": [],\n",
    "}\n",
    "\n",
    "for i, text in enumerate(pars):\n",
    "    try: \n",
    "        if i != 274 and i != 645:\n",
    "            july1[\"name\"].append(text.split(': ',1)[0])\n",
    "            july1[\"time\"].append(text.split(': ',1)[1].split(' ',1)[0])\n",
    "            july1[\"text\"].append(text.split(': ',1)[1].split(' ',1)[1])\n",
    "    except:\n",
    "        print(i)\n",
    "    \n",
    "    \n",
    "    \n",
    "july1_df = pd.DataFrame(data = july1)"
   ]
  },
  {
   "cell_type": "code",
   "execution_count": 27,
   "metadata": {},
   "outputs": [],
   "source": [
    "july1_df.to_csv(\"../data/july1_transcript.csv\", index = False)"
   ]
  },
  {
   "cell_type": "markdown",
   "metadata": {},
   "source": [
    "#### Debate 2"
   ]
  },
  {
   "cell_type": "code",
   "execution_count": 28,
   "metadata": {},
   "outputs": [],
   "source": [
    "URL = \"https://www.rev.com/blog/transcripts/transcript-of-july-democratic-debate-2nd-round-night-2-full-transcript-july-31-2019\"\n",
    "r = requests.get(URL)\n",
    "\n",
    "soup = BeautifulSoup(r.content, 'html5lib')"
   ]
  },
  {
   "cell_type": "code",
   "execution_count": 29,
   "metadata": {},
   "outputs": [],
   "source": [
    "pars = []\n",
    "for i, p in enumerate(soup.find('div', attrs = {'class' : 'fl-callout-text'}).find_all('p')):\n",
    "    if i > 1:\n",
    "        pars.append(p.text)\n",
    "        \n",
    "july2 = {\n",
    "    \"name\": [],\n",
    "    \"time\": [],\n",
    "    \"text\": [],\n",
    "}\n",
    "\n",
    "for i, text in enumerate(pars):\n",
    "    try:    \n",
    "        july2[\"name\"].append(text.split(': ',1)[0])\n",
    "        july2[\"time\"].append(text.split(': ',1)[1].split(' ',1)[0])\n",
    "        july2[\"text\"].append(text.split(': ',1)[1].split(' ',1)[1])\n",
    "    except:\n",
    "        print(i)\n",
    "    \n",
    "    \n",
    "    \n",
    "july2_df = pd.DataFrame(data = july2)"
   ]
  },
  {
   "cell_type": "code",
   "execution_count": 30,
   "metadata": {},
   "outputs": [],
   "source": [
    "july2_df.to_csv(\"../data/july2_transcript.csv\", index = False)"
   ]
  },
  {
   "cell_type": "markdown",
   "metadata": {},
   "source": [
    "### June Debates"
   ]
  },
  {
   "cell_type": "markdown",
   "metadata": {},
   "source": [
    "#### Debate 1"
   ]
  },
  {
   "cell_type": "code",
   "execution_count": 31,
   "metadata": {},
   "outputs": [],
   "source": [
    "URL = \"https://www.rev.com/blog/transcripts/transcript-from-first-night-of-democratic-debates\"\n",
    "r = requests.get(URL)\n",
    "\n",
    "soup = BeautifulSoup(r.content, 'html5lib')"
   ]
  },
  {
   "cell_type": "code",
   "execution_count": 32,
   "metadata": {},
   "outputs": [
    {
     "data": {
      "text/plain": [
       "['Bill de Blasio',\n",
       " '(00:56) To the working people of America, tonight I bring you a message of hope. We can make change in this country. I know from personal experience it can be done. When I became the mayor of the nation’s largest city, I set us on a path of bold change. They said it couldn’t be done, but we gave pre-K to every child for free. We got rid of Stop and Frisk and we lowered crime. We raise the minimum wage to $15.00 an hour, yes, it can be done. Now tonight we have to get to the heart and soul of who we are as Democrats. There are good people on this stage, but there are real differences. Joe Biden told wealthy donors that nothing fundamentally would change if he were president.']"
      ]
     },
     "execution_count": 32,
     "metadata": {},
     "output_type": "execute_result"
    }
   ],
   "source": [
    "pars[0].split(': ',1)"
   ]
  },
  {
   "cell_type": "code",
   "execution_count": 33,
   "metadata": {},
   "outputs": [],
   "source": [
    "pars = []\n",
    "for i, p in enumerate(soup.find('div', attrs = {'class' : 'fl-callout-text'}).find_all('p')):\n",
    "        pars.append(p.text)\n",
    "        \n",
    "june1 = {\n",
    "    \"name\": [],\n",
    "    \"text\": [],\n",
    "}\n",
    "\n",
    "\n",
    "for i, text in enumerate(pars):\n",
    "    try:    \n",
    "        june1[\"name\"].append(text.split(': ',1)[0])\n",
    "        june1[\"text\"].append(text.split(': ',1)[1])\n",
    "    except:\n",
    "        print(i)\n",
    "    \n",
    "    \n",
    "    \n",
    "june1_df = pd.DataFrame(data = june1)"
   ]
  },
  {
   "cell_type": "code",
   "execution_count": 34,
   "metadata": {},
   "outputs": [],
   "source": [
    "june1_df.to_csv(\"../data/june1_transcript.csv\", index = False)"
   ]
  },
  {
   "cell_type": "markdown",
   "metadata": {},
   "source": [
    "#### Debate 2"
   ]
  },
  {
   "cell_type": "code",
   "execution_count": 35,
   "metadata": {},
   "outputs": [],
   "source": [
    "URL = \"https://www.rev.com/blog/transcripts/transcript-from-night-2-of-the-2019-democratic-debates\"\n",
    "r = requests.get(URL)\n",
    "\n",
    "soup = BeautifulSoup(r.content, 'html5lib')"
   ]
  },
  {
   "cell_type": "code",
   "execution_count": 36,
   "metadata": {},
   "outputs": [],
   "source": [
    "pars = []\n",
    "for i, p in enumerate(soup.find('div', attrs = {'class' : 'fl-callout-text'}).find_all('p')):\n",
    "    if i > 0:\n",
    "        pars.append(p.text)\n",
    "        \n",
    "june2 = {\n",
    "    \"name\": [],\n",
    "    \"time\": [],\n",
    "    \"text\": [],\n",
    "}\n",
    "\n",
    "for i, text in enumerate(pars):\n",
    "    try:    \n",
    "        june2[\"name\"].append(text.split(': ',1)[0])\n",
    "        june2[\"time\"].append(text.split(': ',1)[1].split(' ',1)[0])\n",
    "        june2[\"text\"].append(text.split(': ',1)[1].split(' ',1)[1])\n",
    "    except:\n",
    "        print(i)\n",
    "    \n",
    "    \n",
    "    \n",
    "june2_df = pd.DataFrame(data = june2)"
   ]
  },
  {
   "cell_type": "code",
   "execution_count": 37,
   "metadata": {},
   "outputs": [],
   "source": [
    "june2_df.to_csv(\"../data/june2_transcript.csv\", index = False)"
   ]
  },
  {
   "cell_type": "code",
   "execution_count": null,
   "metadata": {},
   "outputs": [],
   "source": []
  }
 ],
 "metadata": {
  "kernelspec": {
   "display_name": "Python 3",
   "language": "python",
   "name": "python3"
  },
  "language_info": {
   "codemirror_mode": {
    "name": "ipython",
    "version": 3
   },
   "file_extension": ".py",
   "mimetype": "text/x-python",
   "name": "python",
   "nbconvert_exporter": "python",
   "pygments_lexer": "ipython3",
   "version": "3.7.4"
  }
 },
 "nbformat": 4,
 "nbformat_minor": 4
}
