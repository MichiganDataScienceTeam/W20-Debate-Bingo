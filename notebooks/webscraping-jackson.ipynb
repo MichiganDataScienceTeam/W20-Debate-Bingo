{
 "cells": [
  {
   "cell_type": "markdown",
   "metadata": {},
   "source": [
    "## webscraping "
   ]
  },
  {
   "cell_type": "code",
   "execution_count": 2,
   "metadata": {},
   "outputs": [],
   "source": [
    "from bs4 import BeautifulSoup\n",
    "import requests\n",
    "import pandas as pd\n",
    "import numpy as np"
   ]
  },
  {
   "cell_type": "markdown",
   "metadata": {},
   "source": [
    "### February Debate"
   ]
  },
  {
   "cell_type": "code",
   "execution_count": 3,
   "metadata": {},
   "outputs": [],
   "source": [
    "URL = \"https://www.rev.com/blog/transcripts/new-hampshire-democratic-debate-transcript\"\n",
    "r = requests.get(URL)\n",
    "\n",
    "soup = BeautifulSoup(r.content, 'html5lib')"
   ]
  },
  {
   "cell_type": "code",
   "execution_count": 4,
   "metadata": {},
   "outputs": [],
   "source": [
    "temp = soup.find('div', attrs = {'class' : 'fl-callout-text'}).find_all('p')\n",
    "moderator = temp[0].text + \" \" + temp[1].text\n",
    "\n",
    "pars = [moderator]\n",
    "\n",
    "for i, p in enumerate(soup.find('div', attrs = {'class' : 'fl-callout-text'}).find_all('p')):\n",
    "    if (i > 1):\n",
    "        pars.append(p.text)"
   ]
  },
  {
   "cell_type": "code",
   "execution_count": 5,
   "metadata": {},
   "outputs": [],
   "source": [
    "feb = {\n",
    "    \"name\": [],\n",
    "    \"time\": [],\n",
    "    \"text\": [],\n",
    "}\n",
    "\n",
    "for text in pars:\n",
    "    feb[\"name\"].append(text.split(': ',1)[0])\n",
    "    feb[\"time\"].append(text.split(': ',1)[1].split(' ',1)[0])\n",
    "    feb[\"text\"].append(text.split(': ',1)[1].split(' ',1)[1])\n",
    "    \n",
    "feb_df = pd.DataFrame(data = feb)"
   ]
  },
  {
   "cell_type": "code",
   "execution_count": 6,
   "metadata": {},
   "outputs": [
    {
     "data": {
      "text/html": "<div>\n<style scoped>\n    .dataframe tbody tr th:only-of-type {\n        vertical-align: middle;\n    }\n\n    .dataframe tbody tr th {\n        vertical-align: top;\n    }\n\n    .dataframe thead th {\n        text-align: right;\n    }\n</style>\n<table border=\"1\" class=\"dataframe\">\n  <thead>\n    <tr style=\"text-align: right;\">\n      <th></th>\n      <th>name</th>\n      <th>time</th>\n      <th>text</th>\n    </tr>\n  </thead>\n  <tbody>\n    <tr>\n      <th>0</th>\n      <td>George S.</td>\n      <td>(00:14)</td>\n      <td>Candidates, welcome. Vice President Biden, the...</td>\n    </tr>\n    <tr>\n      <th>1</th>\n      <td>George S.</td>\n      <td>(01:08)</td>\n      <td>Why are Senator Sanders and Mayor Buttigieg to...</td>\n    </tr>\n    <tr>\n      <th>2</th>\n      <td>Joe Biden</td>\n      <td>(01:12)</td>\n      <td>Well, you know that with regard to Senator San...</td>\n    </tr>\n    <tr>\n      <th>3</th>\n      <td>George S.</td>\n      <td>(01:53)</td>\n      <td>Senator Sanders, let me give you the chance to...</td>\n    </tr>\n    <tr>\n      <th>4</th>\n      <td>Bernie Sanders</td>\n      <td>(02:14)</td>\n      <td>Because Donald Trump lies all the time. It doe...</td>\n    </tr>\n    <tr>\n      <th>...</th>\n      <td>...</td>\n      <td>...</td>\n      <td>...</td>\n    </tr>\n    <tr>\n      <th>317</th>\n      <td>Amy Klobuchar</td>\n      <td>(01:15:43)</td>\n      <td>There’s an old story of Franklin Delano Roosev...</td>\n    </tr>\n    <tr>\n      <th>318</th>\n      <td>Amy Klobuchar</td>\n      <td>(01:16:20)</td>\n      <td>If you have trouble stretching your paycheck t...</td>\n    </tr>\n    <tr>\n      <th>319</th>\n      <td>George S.</td>\n      <td>(01:17:17)</td>\n      <td>Mr. Steyer.</td>\n    </tr>\n    <tr>\n      <th>320</th>\n      <td>Tom Steyer</td>\n      <td>(01:17:24)</td>\n      <td>The Republicans have a cruel plan and their pl...</td>\n    </tr>\n    <tr>\n      <th>321</th>\n      <td>George S.</td>\n      <td>(01:19:09)</td>\n      <td>Candidates. Thank you. Thanks for a great deba...</td>\n    </tr>\n  </tbody>\n</table>\n<p>322 rows × 3 columns</p>\n</div>",
      "text/plain": "               name        time  \\\n0         George S.     (00:14)   \n1         George S.     (01:08)   \n2         Joe Biden     (01:12)   \n3         George S.     (01:53)   \n4    Bernie Sanders     (02:14)   \n..              ...         ...   \n317   Amy Klobuchar  (01:15:43)   \n318   Amy Klobuchar  (01:16:20)   \n319       George S.  (01:17:17)   \n320      Tom Steyer  (01:17:24)   \n321       George S.  (01:19:09)   \n\n                                                  text  \n0    Candidates, welcome. Vice President Biden, the...  \n1    Why are Senator Sanders and Mayor Buttigieg to...  \n2    Well, you know that with regard to Senator San...  \n3    Senator Sanders, let me give you the chance to...  \n4    Because Donald Trump lies all the time. It doe...  \n..                                                 ...  \n317  There’s an old story of Franklin Delano Roosev...  \n318  If you have trouble stretching your paycheck t...  \n319                                        Mr. Steyer.  \n320  The Republicans have a cruel plan and their pl...  \n321  Candidates. Thank you. Thanks for a great deba...  \n\n[322 rows x 3 columns]"
     },
     "execution_count": 6,
     "metadata": {},
     "output_type": "execute_result"
    }
   ],
   "source": [
    "feb_df"
   ]
  },
  {
   "cell_type": "code",
   "execution_count": 7,
   "metadata": {},
   "outputs": [],
   "source": [
    "feb_df.to_csv(\"../data/february_transcript.csv\", index = False)"
   ]
  },
  {
   "cell_type": "markdown",
   "metadata": {},
   "source": [
    "### January Debate"
   ]
  },
  {
   "cell_type": "code",
   "execution_count": 8,
   "metadata": {},
   "outputs": [],
   "source": [
    "URL = \"https://www.rev.com/blog/transcripts/january-iowa-democratic-debate-transcript\"\n",
    "r = requests.get(URL)\n",
    "\n",
    "soup = BeautifulSoup(r.content, 'html5lib')"
   ]
  },
  {
   "cell_type": "code",
   "execution_count": 11,
   "metadata": {},
   "outputs": [
    {
     "name": "stdout",
     "output_type": "stream",
     "text": "already told Americans last month in Florida, you don’t like me and I don’t like you, but you’re all going to vote for me because the Democrats are going to destroy the economy in 15 minutes if they get in control. So let’s be clear, I started a business by myself in one room. I didn’t inherit a penny from my parents. I spent 30 years building that business into a multi-billion dollar international business. Then I walked away from it and took the giving pledge and started organizing coalitions of ordinary Americans to take on unchecked corporate power. But whoever is going to beat Mr. Trump is going to have to beat him on the economy and I have the experience and the expertise to show that he’s a [inaudible 01:50:58] and a fraud. Look, Mayor Pete has three years as an analyst at McKinsey. I have 30 years of international business experience, I can beat Trump on the economy. We’re going to have to beat him on the economy and I look forward to taking him down in the fall on the debate stage.</p>, <p>Abby Phillips: (<a href=\"https://www.rev.com/transcript-editor/shared/xWJ17d74oC6NGxvOf184m8XBu3jB2fMkptufx8Wlym2-kXQw3kdJisMryD-BxVWAw7WAq5Psr0H7W3DIH3NSsWasSpI?loadFrom=PastedDeeplink&amp;ts=6675.45\">01:51:15</a>)<br/> Mayor Buttigieg.</p>, <p>Pete Buttigieg: (<a href=\"https://www.rev.com/transcript-editor/shared/xWJ17d74oC6NGxvOf184m8XBu3jB2fMkptufx8Wlym2-kXQw3kdJisMryD-BxVWAw7WAq5Psr0H7W3DIH3NSsWasSpI?loadFrom=PastedDeeplink&amp;ts=6677.04\">01:51:17</a>)<br/> You demoted me, I was actually an associate but that’s okay. It was not the biggest part of my career, but I am ready to take on this president on the economy because I am from the exact kind of industrial Midwestern community that he pretends to speak to and has proven to turn his back on and guided that community through a historic transformation. When at the beginning of the decade I took office, we were described as a dying city. I’m ready to take on Donald Trump because when he gets to the tough talk and the chest thumping, he’ll have to stand next to an American war veteran and explain how he pretended bone spurs made him ineligible to serve.</p>, <p>Pete Buttigieg: (<a href=\"https://www.rev.com/transcript-editor/shared/xWJ17d74oC6NGxvOf184m8XBu3jB2fMkptufx8Wlym2-kXQw3kdJisMryD-BxVWAw7WAq5Psr0H7W3DIH3NSsWasSpI?loadFrom=PastedDeeplink&amp;ts=6715.54\">01:51:55</a>)<br/> And if and if he keeps trying to use religion … If a guy like Donald Trump keeps trying to use religion to somehow recruit Christianity into the G.O.P., I will be standing there not afraid to talk about a different way to answer the call of faith and insist that God does not belong to a political party. I am ready to take on this president on every front.</p>, <p>Abby Phillips: (<a href=\"https://www.rev.com/transcript-editor/shared/xWJ17d74oC6NGxvOf184m8XBu3jB2fMkptufx8Wlym2-kXQw3kdJisMryD-BxVWAw7WAq5Psr0H7W3DIH3NSsWasSpI?loadFrom=PastedDeeplink&amp;ts=6741.19\">01:52:21</a>)<br/> Thank you. Senator Klobuchar, you’re pitching yourself as a practical candidate who can get things done. And even tonight you’ve dismissed some of the ideas that are offered in this primary as pipe dreams. How are you going to inspire democratic voters with a message of pragmatism?</p>, <p>Amy Klobuchar: (<a href=\"https://www.rev.com/transcript-editor/shared/xWJ17d74oC6NGxvOf184m8XBu3jB2fMkptufx8Wlym2-kXQw3kdJisMryD-BxVWAw7WAq5Psr0H7W3DIH3NSsWasSpI?loadFrom=PastedDeeplink&amp;ts=6760.87\">01:52:40</a>)<br/> Our voters, actually all Americans have seen now a number of years of a guy that has, I think, told over 15,000 lies. He is someone that literally has a rap sheet of divisive rhetoric. And I think what Americans want is something different. I am going to be able to stand across from him on that debate stage and say to my friends in Iowa, the Midwest is not flyover country for me, I live here. I’m going to be able to look at him and say, you’ve treated these workers and farmers like poker chips. For me, these are my friends and these are my neighbors. I’m going to be able to look at him and say, you know what? You got $413 million over the course of your career, that’s how you built your fortune.</p>, <p>Amy Klobuchar: (<a href=\"https://www.rev.com/transcript-editor/shared/xWJ17d74oC6NGxvOf184m8XBu3jB2fMkptufx8Wlym2-kXQw3kdJisMryD-BxVWAw7WAq5Psr0H7W3DIH3NSsWasSpI?loadFrom=PastedDeeplink&amp;ts=6811.19\">01:53:31</a>)<br/> And what I’m going to say is this, my grandpa worked 1500 feet underground in the iron ore mines, saved money in a coffee can in the basement to send my dad to a two year community college. That’s my family trust. And when you have been given an opportunity like that, you go into the world, not with the sense of entitlement, Donald Trump, but with a sense of obligation.</p>, <p>Abby Phillips: (<a href=\"https://www.rev.com/transcript-editor/shared/xWJ17d74oC6NGxvOf184m8XBu3jB2fMkptufx8Wlym2-kXQw3kdJisMryD-BxVWAw7WAq5Psr0H7W3DIH3NSsWasSpI?loadFrom=PastedDeeplink&amp;ts=6835.1\">01:53:55</a>)<br/> Thank you. Senator Warren, what do you say to voters who like your policies but they’re worried they will scare away swing voters you need to win this race in November?</p>, <p>E. Warren: (<a href=\"https://www.rev.com/transcript-editor/shared/xWJ17d74oC6NGxvOf184m8XBu3jB2fMkptufx8Wlym2-kXQw3kdJisMryD-BxVWAw7WAq5Psr0H7W3DIH3NSsWasSpI?loadFrom=PastedDeeplink&amp;ts=6843.23\">01:54:03</a>)<br/> So I was born and raised in Oklahoma. I have three older brothers who are all retired, who are all back there still. And two of my three brothers are Republicans. And sure, there are a lot of things we disagree on and we can take to our corners and do the Democratic, Republican talking points. But the truth is there’s a whole lot we agree on. You know, my brothers just furious over Chevron and Eli Lilly and Amazon, that are giant corporations make billions of dollars in taxes … make billions of dollars in profits and pay nothing in taxes. My brother said, “I don’t get this. I have to pay my taxes. Somebody has to keep the roads paved and the schools open and pay for our defense.”</p>, <p>E. Warren: (<a href=\"https://www.rev.com/transcript-editor/shared/xWJ17d74oC6NGxvOf184m8XBu3jB2fMkptufx8Wlym2-kXQw3kdJisMryD-BxVWAw7WAq5Psr0H7W3DIH3NSsWasSpI?loadFrom=PastedDeeplink&amp;ts=6885.66\">01:54:45</a>)<br/> They understand that we have an America right now that’s working great for those at the top. It’s just not working for anyone else. We have a chance to unite, unite as Democrats, but also with independents and Republicans, who are sick of living in a country that’s working great for the politicians that are taking the money. It’s working great for the lobbyists. It’s working great for the corporate executives. It’s just not working for everyone else. I’m building the grassroots movement, leading the fight. We’re going to make this America work for everyone else. That is how we’re going to beat Donald Trump.</p>, <p>Abby Phillips: (<a href=\"https://www.rev.com/transcript-editor/shared/xWJ17d74oC6NGxvOf184m8XBu3jB2fMkptufx8Wlym2-kXQw3kdJisMryD-BxVWAw7WAq5Psr0H7W3DIH3NSsWasSpI?loadFrom=PastedDeeplink&amp;ts=6923.25\">01:55:23</a>)<br/> Vice President Biden, the eventual nominee will face President Trump, who has no problem mocking people using insulting nicknames, slinging mud, and telling lies. The debate against him will make tonight’s debate look like child’s play. Are you prepared for that?</p>, <p>Joe Biden: (<a href=\"https://www.rev.com/transcript-editor/shared/xWJ17d74oC6NGxvOf184m8XBu3jB2fMkptufx8Wlym2-kXQw3kdJisMryD-BxVWAw7WAq5Psr0H7W3DIH3NSsWasSpI?loadFrom=PastedDeeplink&amp;ts=6937.16\">01:55:37</a>)<br/> I am prepared for that. Look, I’ve been the object of his affection now more than anybody else on this stage. I’ve taken all the hits he can deliver and I’m getting better in the polls, my going up. And by the way, I have overwhelming support from the African American community, overwhelming more than everybody else in this operation, number one. Number two, working class people, where I come from in Pennsylvania and the places I come from in Delaware, I have great support. I have support across the board and I’m not worried about taking on Donald Trump at all. And with regard to the economy, I can hardly wait to have that debate with him. Where I come from, the neighborhoods I come from, they’re in real trouble, working class people and middle class people. When the middle class does well, working class has a way up and the wealthy do well. But what’s happening now? They’re being clobbered, they’re being killed.</p>, <p>Joe Biden: (<a href=\"https://www.rev.com/transcript-editor/shared/xWJ17d74oC6NGxvOf184m8XBu3jB2fMkptufx8Wlym2-kXQw3kdJisMryD-BxVWAw7WAq5Psr0H7W3DIH3NSsWasSpI?loadFrom=PastedDeeplink&amp;ts=6984.03\">01:56:24</a>)<br/> They now have a situation where if they … the vast majority believe their children will never reach the stage that they’ve reached an economic security. I love that debate because the American public is getting clobbered. The wealthy are the only ones doing well, period. I’m looking forward to the economic debate.</p>, <p>Wolf Blitzer: (<a href=\"https://www.rev.com/transcript-editor/shared/xWJ17d74oC6NGxvOf184m8XBu3jB2fMkptufx8Wlym2-kXQw3kdJisMryD-BxVWAw7WAq5Psr0H7W3DIH3NSsWasSpI?loadFrom=PastedDeeplink&amp;ts=7003.92\">01:56:43</a>)<br/> We’ll be right back with more from CNN’s Democratic presidential debate, live from Des Moines, Iowa. Stay right here.</p>, <p>Wolf Blitzer: (<a href=\"https://www.rev.com/transcript-editor/shared/xWJ17d74oC6NGxvOf184m8XBu3jB2fMkptufx8Wlym2-kXQw3kdJisMryD-BxVWAw7WAq5Psr0H7W3DIH3NSsWasSpI?loadFrom=PastedDeeplink&amp;ts=7298.76\">02:01:38</a>)<br/> …. Iowa. Time now for closing statements, you each have one minute. Senator Klobuchar, let’s begin with you.</p>, <p>Amy Klobuchar: (<a href=\"https://www.rev.com/transcript-editor/shared/xWJ17d74oC6NGxvOf184m8XBu3jB2fMkptufx8Wlym2-kXQw3kdJisMryD-BxVWAw7WAq5Psr0H7W3DIH3NSsWasSpI?loadFrom=PastedDeeplink&amp;ts=7306.53\">02:01:46</a>)<br/> Donald Trump thinks this is all about him. I think it’s about you. It’s not about his resorts or his tweets or even his ego. It is about your healthcare. It is about your schools. It is about your lives and your future. So if you want to do something about racial justice and immigration reform and climate change and gun safety, we need a candidate who is actually going to bring people with her. I have won every race, every place, every time. I have gotten the highest voter turnout in the country when I’ve led the ticket. I have passed more bills as the lead Democrat than anyone who’s in Congress that’s running for president. I believe that we need a president that’s going to look out for you. It is easy to hurl insults. It is easy to draw lines in the sand and sketch out grand ideological sketches that will never see the light of day.</p>, <p>Amy Klobuchar: (<a href=\"https://www.rev.com/transcript-editor/shared/xWJ17d74oC6NGxvOf184m8XBu3jB2fMkptufx8Wlym2-kXQw3kdJisMryD-BxVWAw7WAq5Psr0H7W3DIH3NSsWasSpI?loadFrom=PastedDeeplink&amp;ts=7366.92\">02:02:46</a>)<br/> What is hard is bringing people together and finding common ground instead of scorched earth. What is hard is the work of governing. So if you are tired of the extremes in our politics and the noise and the nonsense, you have a home with me. Join me at amyklobuchar.com.</p>, <p>Wolf Blitzer: (<a href=\"https://www.rev.com/transcript-editor/shared/xWJ17d74oC6NGxvOf184m8XBu3jB2fMkptufx8Wlym2-kXQw3kdJisMryD-BxVWAw7WAq5Psr0H7W3DIH3NSsWasSpI?loadFrom=PastedDeeplink&amp;ts=7385.84\">02:03:05</a>)<br/> Mr. Steyer.</p>, <p>Tom Steyer: (<a href=\"https://www.rev.com/transcript-editor/shared/xWJ17d74oC6NGxvOf184m8XBu3jB2fMkptufx8Wlym2-kXQw3kdJisMryD-BxVWAw7WAq5Psr0H7W3DIH3NSsWasSpI?loadFrom=PastedDeeplink&amp;ts=7388.12\">02:03:08</a>)<br/> I know that Iowans are going to caucus within three weeks and I want to tell you how I feel about the American people. Look, I played team sports my entire life. The bond between teammates is deep and emotional and full of love and as far as I’m concerned, the American people are my teammates. And if there’s one thing I will not permit, it is someone to run down the field and kick my teammate in the face. And that is exactly what I’ve seen over the last seven years traveling around this country, seeing these Republicans led by Mr. Trump, basically kicking the American people in the face. I am prepared to take on Mr. Trump on the debate stage and take him down on the economy. But I am asking for your support because I know that if I’m going to be a good teammate to you and give you absolutely everything without any compromise, I need the support of you on caucus night so I can turn around and together we can take back this country and together we can save the world.</p>, <p>Wolf Blitzer: (<a href=\"https://www.rev.com/transcript-editor/shared/xWJ17d74oC6NGxvOf184m8XBu3jB2fMkptufx8Wlym2-kXQw3kdJisMryD-BxVWAw7WAq5Psr0H7W3DIH3NSsWasSpI?loadFrom=PastedDeeplink&amp;ts=7448.66\">02:04:08</a>)<br/> Mayor Buttigieg.</p>, <p>Pete Buttigieg: (<a href=\"https://www.rev.com/transcript-editor/shared/xWJ17d74oC6NGxvOf184m8XBu3jB2fMkptufx8Wlym2-kXQw3kdJisMryD-BxVWAw7WAq5Psr0H7W3DIH3NSsWasSpI?loadFrom=PastedDeeplink&amp;ts=7450.39\">02:04:10</a>)<br/> This is our moment. This is our one shot to defeat Donald Trump and to do it by such a big margin that we send Trumpism into the dustbin of history too. Well, we cannot take the risk with so much on the line of trying to confront this president with the same Washington mindset and political warfare that led us to this point. If you are watching this at home and you were exhausted by the spectacle of division and dysfunction, I’m asking you to join me to help turn the page on our politics. You’re seeing the President boast about the Dow Jones wondering whether any of that will ever get to your kitchen table. Join me if you’re a voter of color feeling taken for granted by politics as usual. Join me if you’re used to voting for the other party, but right now cannot look your kids in the eye and explain this president to them, join me.</p>, <p>Pete Buttigieg: (<a href=\"https://www.rev.com/transcript-editor/shared/xWJ17d74oC6NGxvOf184m8XBu3jB2fMkptufx8Wlym2-kXQw3kdJisMryD-BxVWAw7WAq5Psr0H7W3DIH3NSsWasSpI?loadFrom=PastedDeeplink&amp;ts=7507.83\">02:05:07</a>)<br/> We have a chance to change all of this if we can summon the courage to break from the past. That is why I am running for president. It is why I’m asking you to caucus for me on February 3rd and I hope that you will go to peteforamerica.com and join me in this effort.</p>, <p>Wolf Blitzer: (<a href=\"https://www.rev.com/transcript-editor/shared/xWJ17d74oC6NGxvOf184m8XBu3jB2fMkptufx8Wlym2-kXQw3kdJisMryD-BxVWAw7WAq5Psr0H7W3DIH3NSsWasSpI?loadFrom=PastedDeeplink&amp;ts=7524.04\">02:05:24</a>)<br/> Senator Warren.</p>, <p>E. Warren: (<a href=\"https://www.rev.com/transcript-editor/shared/xWJ17d74oC6NGxvOf184m8XBu3jB2fMkptufx8Wlym2-kXQw3kdJisMryD-BxVWAw7WAq5Psr0H7W3DIH3NSsWasSpI?loadFrom=PastedDeeplink&amp;ts=7525.83\">02:05:25</a>)<br/> So, much is broken in this country. I sat here in the break and just made notes about many of the things we didn’t get to talk about tonight. How the disability community is struggling for true equality, how gun violence and active shooter drills worry every mother in this country. How children are living in poverty and seeing their life chances shrink. How trans women, particularly trans women of color are at risk. Black infant mortality, climate change that particularly hits black and brown communities. People who are being crushed by student loan debt, farmers who are barely holding on, people struggling with mental illness. And yet I come here tonight with a heart filled with hope and it’s filled with hope because I see this as our moment in history, our moment when no one is left on the sidelines. Our moment when we understand that it comes to us to decide the future of this country. Our moment when we build the movement to make real change, hope and courage. That is how I will make you proud every day as your nominee and as the first woman president of the United States of America.</p>, <p>Wolf Blitzer: (<a href=\"https://www.rev.com/transcript-editor/shared/xWJ17d74oC6NGxvOf184m8XBu3jB2fMkptufx8Wlym2-kXQw3kdJisMryD-BxVWAw7WAq5Psr0H7W3DIH3NSsWasSpI?loadFrom=PastedDeeplink&amp;ts=7601.27\">02:06:41</a>)<br/> Senator Sanders.</p>, <p>Bernie Sanders: (<a href=\"https://www.rev.com/transcript-editor/shared/xWJ17d74oC6NGxvOf184m8XBu3jB2fMkptufx8Wlym2-kXQw3kdJisMryD-BxVWAw7WAq5Psr0H7W3DIH3NSsWasSpI?loadFrom=PastedDeeplink&amp;ts=7604.57\">02:06:44</a>)<br/> It’s been a good debate, but we haven’t asked the major question. The major question is how does it happen in the richest country in the history of the world that half of our people are living paycheck to paycheck, trying to get by, $9, $10 bucks an hour? How does it happen that when the top one percent owns more wealth than the bottom 92%, half a million people are sleeping out on the streets tonight? How does it happen in this great country we are the only major nation not to guarantee healthcare to all. How does that happen that we have a child care system which is dysfunctional, a criminal justice system which is broken and racist, an immigration system that needs reform. This is the moment when we have got to think big, not small. This is the moment where we have got to have the courage to take on the one percent, take on the greed and corruption of the corporate elite and create an economy and create a government that works for all of us, not just the one percent. Thank you.</p>, <p>Wolf Blitzer: (<a href=\"https://www.rev.com/transcript-editor/shared/xWJ17d74oC6NGxvOf184m8XBu3jB2fMkptufx8Wlym2-kXQw3kdJisMryD-BxVWAw7WAq5Psr0H7W3DIH3NSsWasSpI?loadFrom=PastedDeeplink&amp;ts=7669.29\">02:07:49</a>)<br/> Vice President Biden.</p>, <p>Joe Biden: (<a href=\"https://www.rev.com/transcript-editor/shared/xWJ17d74oC6NGxvOf184m8XBu3jB2fMkptufx8Wlym2-kXQw3kdJisMryD-BxVWAw7WAq5Psr0H7W3DIH3NSsWasSpI?loadFrom=PastedDeeplink&amp;ts=7672.18\">02:07:52</a>)<br/> Character is on the ballot this time around. The American character is on the ballot. Not what Donald Trump is spewing out, the hate, the xenophobia, the racism. That’s not who we are as a nation. Everyone in this country is entitled to be treated with respect and dignity. Every single solitary person has to have in a position that may in fact we treat them with decency. It’s about fundamental, basic decency. We in the United States of America can put up with … we can overcome four years of Donald Trump, but eight years of Donald Trump will be an absolute disaster and fundamentally change this nation. We have to restore America’s soul. As I’ve said from the moment I announced, it is in jeopardy under this President of the United States. We lead the world when we lead by example, not by our power.</p>, <p>Joe Biden: (<a href=\"https://www.rev.com/transcript-editor/shared/xWJ17d74oC6NGxvOf184m8XBu3jB2fMkptufx8Wlym2-kXQw3kdJisMryD-BxVWAw7WAq5Psr0H7W3DIH3NSsWasSpI?loadFrom=PastedDeeplink&amp;ts=7724.72\">02:08:44</a>)<br/> We in fact have to regain the respect of the world in order to be able to change things. Ladies and gentlemen, we are in a position right now we have to remember who we are. This is the United States of America. There’s not a single thing beyond our capacity to do if we do it together, let’s go do it.</p>, <p>Wolf Blitzer: (<a href=\"https://www.rev.com/transcript-editor/shared/xWJ17d74oC6NGxvOf184m8XBu3jB2fMkptufx8Wlym2-kXQw3kdJisMryD-BxVWAw7WAq5Psr0H7W3DIH3NSsWasSpI?loadFrom=PastedDeeplink&amp;ts=7744.11\">02:09:04</a>)<br/> Candidates, thank you very, very much. That concludes the first Democratic presidential debate of 2020. The Iowa caucuses are only 20 days away. Tune into CNN for continuing coverage of this presidential election. Anderson Cooper and Chris Cuomo pickup our coverage right now.</p>]\n"
    }
   ],
   "source": [
    "temp = soup.find('div', attrs = {'class' : 'fl-callout-text'}).find_all('p')\n",
    "wolf = temp[0].text + \" \" + temp[1].text\n",
    "\n",
    "pars = [wolf]\n",
    "\n",
    "for i, p in enumerate(soup.find('div', attrs = {'class' : 'fl-callout-text'}).find_all('p')):\n",
    "    if (i > 1):\n",
    "        pars.append(p.text)\n",
    "\n",
    "print(temp)"
   ]
  },
  {
   "cell_type": "code",
   "execution_count": 9,
   "metadata": {},
   "outputs": [],
   "source": [
    "jan = {\n",
    "    \"name\": [],\n",
    "    \"time\": [],\n",
    "    \"text\": [],\n",
    "}\n",
    "\n",
    "for text in pars:\n",
    "    jan[\"name\"].append(text.split(': ',1)[0])\n",
    "    jan[\"time\"].append(text.split(': ',1)[1].split(' ',1)[0])\n",
    "    jan[\"text\"].append(text.split(': ',1)[1].split(' ',1)[1])\n",
    "    \n",
    "jan_df = pd.DataFrame(data = jan)"
   ]
  },
  {
   "cell_type": "code",
   "execution_count": 10,
   "metadata": {},
   "outputs": [
    {
     "data": {
      "text/html": "<div>\n<style scoped>\n    .dataframe tbody tr th:only-of-type {\n        vertical-align: middle;\n    }\n\n    .dataframe tbody tr th {\n        vertical-align: top;\n    }\n\n    .dataframe thead th {\n        text-align: right;\n    }\n</style>\n<table border=\"1\" class=\"dataframe\">\n  <thead>\n    <tr style=\"text-align: right;\">\n      <th></th>\n      <th>name</th>\n      <th>time</th>\n      <th>text</th>\n    </tr>\n  </thead>\n  <tbody>\n    <tr>\n      <th>0</th>\n      <td>Wolf Blitzer</td>\n      <td>(00:00)</td>\n      <td>All right, so let’s begin right now. Just this...</td>\n    </tr>\n    <tr>\n      <th>1</th>\n      <td>Bernie Sanders</td>\n      <td>(00:02)</td>\n      <td>When the Congress was debating whether or not ...</td>\n    </tr>\n    <tr>\n      <th>2</th>\n      <td>Bernie Sanders</td>\n      <td>(00:48)</td>\n      <td>We got a majority vote in the Senate. We got a...</td>\n    </tr>\n    <tr>\n      <th>3</th>\n      <td>Wolf Blitzer</td>\n      <td>(01:11)</td>\n      <td>Vice President Biden, you talk a lot about you...</td>\n    </tr>\n    <tr>\n      <th>4</th>\n      <td>Joe Biden</td>\n      <td>(01:27)</td>\n      <td>I said 13 years ago, it was a mistake to give ...</td>\n    </tr>\n    <tr>\n      <th>...</th>\n      <td>...</td>\n      <td>...</td>\n      <td>...</td>\n    </tr>\n    <tr>\n      <th>343</th>\n      <td>Bernie Sanders</td>\n      <td>(02:06:44)</td>\n      <td>It’s been a good debate, but we haven’t asked ...</td>\n    </tr>\n    <tr>\n      <th>344</th>\n      <td>Wolf Blitzer</td>\n      <td>(02:07:49)</td>\n      <td>Vice President Biden.</td>\n    </tr>\n    <tr>\n      <th>345</th>\n      <td>Joe Biden</td>\n      <td>(02:07:52)</td>\n      <td>Character is on the ballot this time around. T...</td>\n    </tr>\n    <tr>\n      <th>346</th>\n      <td>Joe Biden</td>\n      <td>(02:08:44)</td>\n      <td>We in fact have to regain the respect of the w...</td>\n    </tr>\n    <tr>\n      <th>347</th>\n      <td>Wolf Blitzer</td>\n      <td>(02:09:04)</td>\n      <td>Candidates, thank you very, very much. That co...</td>\n    </tr>\n  </tbody>\n</table>\n<p>348 rows × 3 columns</p>\n</div>",
      "text/plain": "               name        time  \\\n0      Wolf Blitzer     (00:00)   \n1    Bernie Sanders     (00:02)   \n2    Bernie Sanders     (00:48)   \n3      Wolf Blitzer     (01:11)   \n4         Joe Biden     (01:27)   \n..              ...         ...   \n343  Bernie Sanders  (02:06:44)   \n344    Wolf Blitzer  (02:07:49)   \n345       Joe Biden  (02:07:52)   \n346       Joe Biden  (02:08:44)   \n347    Wolf Blitzer  (02:09:04)   \n\n                                                  text  \n0    All right, so let’s begin right now. Just this...  \n1    When the Congress was debating whether or not ...  \n2    We got a majority vote in the Senate. We got a...  \n3    Vice President Biden, you talk a lot about you...  \n4    I said 13 years ago, it was a mistake to give ...  \n..                                                 ...  \n343  It’s been a good debate, but we haven’t asked ...  \n344                              Vice President Biden.  \n345  Character is on the ballot this time around. T...  \n346  We in fact have to regain the respect of the w...  \n347  Candidates, thank you very, very much. That co...  \n\n[348 rows x 3 columns]"
     },
     "execution_count": 10,
     "metadata": {},
     "output_type": "execute_result"
    }
   ],
   "source": [
    "jan_df"
   ]
  },
  {
   "cell_type": "code",
   "execution_count": 11,
   "metadata": {},
   "outputs": [],
   "source": [
    "jan_df.to_csv(\"../data/january_transcript.csv\", index = False)"
   ]
  },
  {
   "cell_type": "markdown",
   "metadata": {},
   "source": [
    "### December Debate"
   ]
  },
  {
   "cell_type": "code",
   "execution_count": 12,
   "metadata": {},
   "outputs": [],
   "source": [
    "URL = \"https://www.rev.com/blog/transcripts/december-democratic-debate-transcript-sixth-debate-from-los-angeles\"\n",
    "r = requests.get(URL)\n",
    "\n",
    "\n",
    "soup = BeautifulSoup(r.content, 'html5lib')"
   ]
  },
  {
   "cell_type": "code",
   "execution_count": 13,
   "metadata": {},
   "outputs": [],
   "source": [
    "pars = []\n",
    "for i, p in enumerate(soup.find('div', attrs = {'class' : 'fl-callout-text'}).find_all('p')):\n",
    "        pars.append(p.text)\n",
    "        \n",
    "dec = {\n",
    "    \"name\": [],\n",
    "    \"time\": [],\n",
    "    \"text\": [],\n",
    "}\n",
    "\n",
    "for text in pars:\n",
    "    dec[\"name\"].append(text.split(': ',1)[0])\n",
    "    dec[\"time\"].append(text.split(': ',1)[1].split(' ',1)[0])\n",
    "    dec[\"text\"].append(text.split(': ',1)[1].split(' ',1)[1])\n",
    "    \n",
    "dec_df = pd.DataFrame(data = dec)"
   ]
  },
  {
   "cell_type": "code",
   "execution_count": 14,
   "metadata": {},
   "outputs": [
    {
     "data": {
      "text/html": "<div>\n<style scoped>\n    .dataframe tbody tr th:only-of-type {\n        vertical-align: middle;\n    }\n\n    .dataframe tbody tr th {\n        vertical-align: top;\n    }\n\n    .dataframe thead th {\n        text-align: right;\n    }\n</style>\n<table border=\"1\" class=\"dataframe\">\n  <thead>\n    <tr style=\"text-align: right;\">\n      <th></th>\n      <th>name</th>\n      <th>time</th>\n      <th>text</th>\n    </tr>\n  </thead>\n  <tbody>\n    <tr>\n      <th>0</th>\n      <td>Judy Woodruff</td>\n      <td>(00:01)</td>\n      <td>Welcome back. A quick reminder of the rules fo...</td>\n    </tr>\n    <tr>\n      <th>1</th>\n      <td>Judy Woodruff</td>\n      <td>(00:23)</td>\n      <td>To the candidates. Last night at this hour, th...</td>\n    </tr>\n    <tr>\n      <th>2</th>\n      <td>Joe Biden</td>\n      <td>(01:05)</td>\n      <td>You know, Judy, it was a constitutional necess...</td>\n    </tr>\n    <tr>\n      <th>3</th>\n      <td>Judy Woodruff</td>\n      <td>(01:59)</td>\n      <td>Senator Sanders, why do you think more people ...</td>\n    </tr>\n    <tr>\n      <th>4</th>\n      <td>Bernie Sanders</td>\n      <td>(02:05)</td>\n      <td>Well, Judy, what I would say is that we have a...</td>\n    </tr>\n    <tr>\n      <th>...</th>\n      <td>...</td>\n      <td>...</td>\n      <td>...</td>\n    </tr>\n    <tr>\n      <th>380</th>\n      <td>Joe Biden</td>\n      <td>(08:06)</td>\n      <td>Thank you very much for listening, seven days ...</td>\n    </tr>\n    <tr>\n      <th>381</th>\n      <td>Joe Biden</td>\n      <td>(08:40)</td>\n      <td>And thirdly, who can deliver legislatively? Th...</td>\n    </tr>\n    <tr>\n      <th>382</th>\n      <td>Judy Woodruff</td>\n      <td>(09:11)</td>\n      <td>Thank you.</td>\n    </tr>\n    <tr>\n      <th>383</th>\n      <td>Judy Woodruff</td>\n      <td>(09:12)</td>\n      <td>Thank you very much. And that concludes the PB...</td>\n    </tr>\n    <tr>\n      <th>384</th>\n      <td>Judy Woodruff</td>\n      <td>(09:32)</td>\n      <td>Thank you all for joining us. Please stick aro...</td>\n    </tr>\n  </tbody>\n</table>\n<p>385 rows × 3 columns</p>\n</div>",
      "text/plain": "               name     time  \\\n0     Judy Woodruff  (00:01)   \n1     Judy Woodruff  (00:23)   \n2         Joe Biden  (01:05)   \n3     Judy Woodruff  (01:59)   \n4    Bernie Sanders  (02:05)   \n..              ...      ...   \n380       Joe Biden  (08:06)   \n381       Joe Biden  (08:40)   \n382   Judy Woodruff  (09:11)   \n383   Judy Woodruff  (09:12)   \n384   Judy Woodruff  (09:32)   \n\n                                                  text  \n0    Welcome back. A quick reminder of the rules fo...  \n1    To the candidates. Last night at this hour, th...  \n2    You know, Judy, it was a constitutional necess...  \n3    Senator Sanders, why do you think more people ...  \n4    Well, Judy, what I would say is that we have a...  \n..                                                 ...  \n380  Thank you very much for listening, seven days ...  \n381  And thirdly, who can deliver legislatively? Th...  \n382                                         Thank you.  \n383  Thank you very much. And that concludes the PB...  \n384  Thank you all for joining us. Please stick aro...  \n\n[385 rows x 3 columns]"
     },
     "execution_count": 14,
     "metadata": {},
     "output_type": "execute_result"
    }
   ],
   "source": [
    "dec_df"
   ]
  },
  {
   "cell_type": "code",
   "execution_count": 15,
   "metadata": {},
   "outputs": [],
   "source": [
    "dec_df.to_csv(\"../data/december_transcript.csv\", index = False)"
   ]
  },
  {
   "cell_type": "markdown",
   "metadata": {},
   "source": [
    "### November Debate"
   ]
  },
  {
   "cell_type": "code",
   "execution_count": 16,
   "metadata": {},
   "outputs": [],
   "source": [
    "URL = \"https://www.rev.com/blog/transcripts/november-democratic-debate-transcript-atlanta-debate-transcript\"\n",
    "r = requests.get(URL)\n",
    "\n",
    "soup = BeautifulSoup(r.content, 'html5lib')"
   ]
  },
  {
   "cell_type": "code",
   "execution_count": 17,
   "metadata": {},
   "outputs": [],
   "source": [
    "pars = []\n",
    "for i, p in enumerate(soup.find('div', attrs = {'class' : 'fl-callout-text'}).find_all('p')):\n",
    "        pars.append(p.text)\n",
    "        \n",
    "nov = {\n",
    "    \"name\": [],\n",
    "    \"time\": [],\n",
    "    \"text\": [],\n",
    "}\n",
    "\n",
    "for i, text in enumerate(pars):\n",
    "    try:\n",
    "        nov[\"name\"].append(text.split(': ',1)[0])\n",
    "        nov[\"time\"].append(text.split(': ',1)[1].split(' ',1)[0])\n",
    "        if(i == 263):\n",
    "            nov[\"text\"].append(\"\")\n",
    "        else:\n",
    "            nov[\"text\"].append(text.split(': ',1)[1].split(' ',1)[1])\n",
    "    except:\n",
    "        print(i)\n",
    "    \n",
    "nov_df = pd.DataFrame(data = nov)"
   ]
  },
  {
   "cell_type": "code",
   "execution_count": 18,
   "metadata": {},
   "outputs": [],
   "source": [
    "nov_df.to_csv(\"../data/november_transcript.csv\", index = False)"
   ]
  },
  {
   "cell_type": "markdown",
   "metadata": {},
   "source": [
    "### October Debate"
   ]
  },
  {
   "cell_type": "code",
   "execution_count": 19,
   "metadata": {},
   "outputs": [],
   "source": [
    "URL = \"https://www.rev.com/blog/transcripts/october-democratic-debate-transcript-4th-debate-from-ohio\"\n",
    "r = requests.get(URL)\n",
    "\n",
    "soup = BeautifulSoup(r.content, 'html5lib')"
   ]
  },
  {
   "cell_type": "code",
   "execution_count": 20,
   "metadata": {},
   "outputs": [],
   "source": [
    "pars = []\n",
    "for i, p in enumerate(soup.find('div', attrs = {'class' : 'fl-callout-text'}).find_all('p')):\n",
    "        pars.append(p.text)\n",
    "        \n",
    "octbr = {\n",
    "    \"name\": [],\n",
    "    \"time\": [],\n",
    "    \"text\": [],\n",
    "}\n",
    "\n",
    "for text in pars:\n",
    "    octbr[\"name\"].append(text.split(': ',1)[0])\n",
    "    octbr[\"time\"].append(text.split(': ',1)[1].split(' ',1)[0])\n",
    "    octbr[\"text\"].append(text.split(': ',1)[1].split(' ',1)[1])\n",
    "    \n",
    "oct_df = pd.DataFrame(data = octbr)"
   ]
  },
  {
   "cell_type": "code",
   "execution_count": 21,
   "metadata": {},
   "outputs": [],
   "source": [
    "oct_df.to_csv(\"../data/october_transcript.csv\", index = False)"
   ]
  },
  {
   "cell_type": "markdown",
   "metadata": {},
   "source": [
    "### September Debate"
   ]
  },
  {
   "cell_type": "code",
   "execution_count": 22,
   "metadata": {},
   "outputs": [],
   "source": [
    "URL = \"https://www.rev.com/blog/transcripts/democratic-debate-transcript-houston-september-12-2019\"\n",
    "r = requests.get(URL)\n",
    "\n",
    "soup = BeautifulSoup(r.content, 'html5lib')"
   ]
  },
  {
   "cell_type": "code",
   "execution_count": 23,
   "metadata": {},
   "outputs": [],
   "source": [
    "pars = []\n",
    "for i, p in enumerate(soup.find('div', attrs = {'class' : 'fl-callout-text'}).find_all('p')):\n",
    "        pars.append(p.text)\n",
    "        \n",
    "sept = {\n",
    "    \"name\": [],\n",
    "    \"time\": [],\n",
    "    \"text\": [],\n",
    "}\n",
    "\n",
    "for i, text in enumerate(pars):\n",
    "    try:\n",
    "        if(i != 225):     \n",
    "            sept[\"name\"].append(text.split(': ',1)[0])\n",
    "            sept[\"time\"].append(text.split(': ',1)[1].split(' ',1)[0])\n",
    "            sept[\"text\"].append(text.split(': ',1)[1].split(' ',1)[1])\n",
    "    except:\n",
    "        print(i)\n",
    "    \n",
    "    \n",
    "    \n",
    "sept_df = pd.DataFrame(data = sept)"
   ]
  },
  {
   "cell_type": "code",
   "execution_count": 24,
   "metadata": {},
   "outputs": [],
   "source": [
    "sept_df.to_csv('../data/september_transcript.csv', index = False)"
   ]
  },
  {
   "cell_type": "markdown",
   "metadata": {},
   "source": [
    "### July Debates"
   ]
  },
  {
   "cell_type": "markdown",
   "metadata": {},
   "source": [
    "#### Debate 1"
   ]
  },
  {
   "cell_type": "code",
   "execution_count": 25,
   "metadata": {},
   "outputs": [],
   "source": [
    "URL = \"https://www.rev.com/blog/transcripts/transcript-of-july-democratic-debate-night-1-full-transcript-july-30-2019\"\n",
    "r = requests.get(URL)\n",
    "\n",
    "soup = BeautifulSoup(r.content, 'html5lib')"
   ]
  },
  {
   "cell_type": "code",
   "execution_count": 26,
   "metadata": {},
   "outputs": [],
   "source": [
    "pars = []\n",
    "for i, p in enumerate(soup.find('div', attrs = {'class' : 'fl-callout-text'}).find_all('p')):\n",
    "    if i > 1:\n",
    "        pars.append(p.text)\n",
    "        \n",
    "july1 = {\n",
    "    \"name\": [],\n",
    "    \"time\": [],\n",
    "    \"text\": [],\n",
    "}\n",
    "\n",
    "for i, text in enumerate(pars):\n",
    "    try: \n",
    "        if i != 274 and i != 645:\n",
    "            july1[\"name\"].append(text.split(': ',1)[0])\n",
    "            july1[\"time\"].append(text.split(': ',1)[1].split(' ',1)[0])\n",
    "            july1[\"text\"].append(text.split(': ',1)[1].split(' ',1)[1])\n",
    "    except:\n",
    "        print(i)\n",
    "    \n",
    "    \n",
    "    \n",
    "july1_df = pd.DataFrame(data = july1)"
   ]
  },
  {
   "cell_type": "code",
   "execution_count": 27,
   "metadata": {},
   "outputs": [],
   "source": [
    "july1_df.to_csv(\"../data/july1_transcript.csv\", index = False)"
   ]
  },
  {
   "cell_type": "markdown",
   "metadata": {},
   "source": [
    "#### Debate 2"
   ]
  },
  {
   "cell_type": "code",
   "execution_count": 28,
   "metadata": {},
   "outputs": [],
   "source": [
    "URL = \"https://www.rev.com/blog/transcripts/transcript-of-july-democratic-debate-2nd-round-night-2-full-transcript-july-31-2019\"\n",
    "r = requests.get(URL)\n",
    "\n",
    "soup = BeautifulSoup(r.content, 'html5lib')"
   ]
  },
  {
   "cell_type": "code",
   "execution_count": 29,
   "metadata": {},
   "outputs": [],
   "source": [
    "pars = []\n",
    "for i, p in enumerate(soup.find('div', attrs = {'class' : 'fl-callout-text'}).find_all('p')):\n",
    "    if i > 1:\n",
    "        pars.append(p.text)\n",
    "        \n",
    "july2 = {\n",
    "    \"name\": [],\n",
    "    \"time\": [],\n",
    "    \"text\": [],\n",
    "}\n",
    "\n",
    "for i, text in enumerate(pars):\n",
    "    try:    \n",
    "        july2[\"name\"].append(text.split(': ',1)[0])\n",
    "        july2[\"time\"].append(text.split(': ',1)[1].split(' ',1)[0])\n",
    "        july2[\"text\"].append(text.split(': ',1)[1].split(' ',1)[1])\n",
    "    except:\n",
    "        print(i)\n",
    "    \n",
    "    \n",
    "    \n",
    "july2_df = pd.DataFrame(data = july2)"
   ]
  },
  {
   "cell_type": "code",
   "execution_count": 30,
   "metadata": {},
   "outputs": [],
   "source": [
    "july2_df.to_csv(\"../data/july2_transcript.csv\", index = False)"
   ]
  },
  {
   "cell_type": "markdown",
   "metadata": {},
   "source": [
    "### June Debates"
   ]
  },
  {
   "cell_type": "markdown",
   "metadata": {},
   "source": [
    "#### Debate 1"
   ]
  },
  {
   "cell_type": "code",
   "execution_count": 31,
   "metadata": {},
   "outputs": [],
   "source": [
    "URL = \"https://www.rev.com/blog/transcripts/transcript-from-first-night-of-democratic-debates\"\n",
    "r = requests.get(URL)\n",
    "\n",
    "soup = BeautifulSoup(r.content, 'html5lib')"
   ]
  },
  {
   "cell_type": "code",
   "execution_count": 32,
   "metadata": {},
   "outputs": [
    {
     "data": {
      "text/plain": "['Bill de Blasio',\n '(00:56) To the working people of America, tonight I bring you a message of hope. We can make change in this country. I know from personal experience it can be done. When I became the mayor of the nation’s largest city, I set us on a path of bold change. They said it couldn’t be done, but we gave pre-K to every child for free. We got rid of Stop and Frisk and we lowered crime. We raise the minimum wage to $15.00 an hour, yes, it can be done. Now tonight we have to get to the heart and soul of who we are as Democrats. There are good people on this stage, but there are real differences. Joe Biden told wealthy donors that nothing fundamentally would change if he were president.']"
     },
     "execution_count": 32,
     "metadata": {},
     "output_type": "execute_result"
    }
   ],
   "source": [
    "pars[0].split(': ',1)"
   ]
  },
  {
   "cell_type": "code",
   "execution_count": 33,
   "metadata": {},
   "outputs": [],
   "source": [
    "pars = []\n",
    "for i, p in enumerate(soup.find('div', attrs = {'class' : 'fl-callout-text'}).find_all('p')):\n",
    "        pars.append(p.text)\n",
    "        \n",
    "june1 = {\n",
    "    \"name\": [],\n",
    "    \"text\": [],\n",
    "}\n",
    "\n",
    "\n",
    "for i, text in enumerate(pars):\n",
    "    try:    \n",
    "        june1[\"name\"].append(text.split(': ',1)[0])\n",
    "        june1[\"text\"].append(text.split(': ',1)[1])\n",
    "    except:\n",
    "        print(i)\n",
    "    \n",
    "    \n",
    "    \n",
    "june1_df = pd.DataFrame(data = june1)"
   ]
  },
  {
   "cell_type": "code",
   "execution_count": 34,
   "metadata": {},
   "outputs": [],
   "source": [
    "june1_df.to_csv(\"../data/june1_transcript.csv\", index = False)"
   ]
  },
  {
   "cell_type": "markdown",
   "metadata": {},
   "source": [
    "#### Debate 2"
   ]
  },
  {
   "cell_type": "code",
   "execution_count": 35,
   "metadata": {},
   "outputs": [],
   "source": [
    "URL = \"https://www.rev.com/blog/transcripts/transcript-from-night-2-of-the-2019-democratic-debates\"\n",
    "r = requests.get(URL)\n",
    "\n",
    "soup = BeautifulSoup(r.content, 'html5lib')"
   ]
  },
  {
   "cell_type": "code",
   "execution_count": 36,
   "metadata": {},
   "outputs": [],
   "source": [
    "pars = []\n",
    "for i, p in enumerate(soup.find('div', attrs = {'class' : 'fl-callout-text'}).find_all('p')):\n",
    "    if i > 0:\n",
    "        pars.append(p.text)\n",
    "        \n",
    "june2 = {\n",
    "    \"name\": [],\n",
    "    \"time\": [],\n",
    "    \"text\": [],\n",
    "}\n",
    "\n",
    "for i, text in enumerate(pars):\n",
    "    try:    \n",
    "        june2[\"name\"].append(text.split(': ',1)[0])\n",
    "        june2[\"time\"].append(text.split(': ',1)[1].split(' ',1)[0])\n",
    "        june2[\"text\"].append(text.split(': ',1)[1].split(' ',1)[1])\n",
    "    except:\n",
    "        print(i)\n",
    "    \n",
    "    \n",
    "    \n",
    "june2_df = pd.DataFrame(data = june2)"
   ]
  },
  {
   "cell_type": "code",
   "execution_count": 37,
   "metadata": {},
   "outputs": [],
   "source": [
    "june2_df.to_csv(\"../data/june2_transcript.csv\", index = False)"
   ]
  }
 ],
 "metadata": {
  "kernelspec": {
   "display_name": "Python 3",
   "language": "python",
   "name": "python3"
  },
  "language_info": {
   "codemirror_mode": {
    "name": "ipython",
    "version": 3
   },
   "file_extension": ".py",
   "mimetype": "text/x-python",
   "name": "python",
   "nbconvert_exporter": "python",
   "pygments_lexer": "ipython3",
   "version": "3.7.6-final"
  }
 },
 "nbformat": 4,
 "nbformat_minor": 4
}