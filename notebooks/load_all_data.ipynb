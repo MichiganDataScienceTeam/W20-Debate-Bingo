{
 "cells": [
  {
   "cell_type": "markdown",
   "metadata": {},
   "source": [
    "## webscraping "
   ]
  },
  {
   "cell_type": "code",
   "execution_count": 1,
   "metadata": {},
   "outputs": [],
   "source": [
    "from bs4 import BeautifulSoup\n",
    "import requests\n",
    "import pandas as pd\n",
    "import numpy as np"
   ]
  },
  {
   "cell_type": "markdown",
   "metadata": {},
   "source": [
    "### February Debate"
   ]
  },
  {
   "cell_type": "code",
   "execution_count": 2,
   "metadata": {},
   "outputs": [],
   "source": [
    "URL = \"https://www.rev.com/blog/transcripts/new-hampshire-democratic-debate-transcript\"\n",
    "r = requests.get(URL)\n",
    "\n",
    "soup = BeautifulSoup(r.content, 'html5lib')"
   ]
  },
  {
   "cell_type": "code",
   "execution_count": 3,
   "metadata": {},
   "outputs": [],
   "source": [
    "temp = soup.find('div', attrs = {'class' : 'fl-callout-text'}).find_all('p')\n",
    "moderator = temp[0].text + \" \" + temp[1].text\n",
    "\n",
    "pars = [moderator]\n",
    "\n",
    "for i, p in enumerate(soup.find('div', attrs = {'class' : 'fl-callout-text'}).find_all('p')):\n",
    "    if (i > 1):\n",
    "        pars.append(p.text)"
   ]
  },
  {
   "cell_type": "code",
   "execution_count": 4,
   "metadata": {},
   "outputs": [],
   "source": [
    "feb = {\n",
    "    \"name\": [],\n",
    "    \"time\": [],\n",
    "    \"text\": [],\n",
    "}\n",
    "\n",
    "for text in pars:\n",
    "    feb[\"name\"].append(text.split(': ',1)[0])\n",
    "    feb[\"time\"].append(text.split(': ',1)[1].split(' ',1)[0])\n",
    "    feb[\"text\"].append(text.split(': ',1)[1].split(' ',1)[1])\n",
    "    \n",
    "feb_df = pd.DataFrame(data = feb)"
   ]
  },
  {
   "cell_type": "code",
   "execution_count": 6,
   "metadata": {},
   "outputs": [],
   "source": [
    "feb_df.to_csv(\"../data/february_transcript.csv\", index = False)"
   ]
  },
  {
   "cell_type": "markdown",
   "metadata": {},
   "source": [
    "### January Debate"
   ]
  },
  {
   "cell_type": "code",
   "execution_count": 7,
   "metadata": {},
   "outputs": [],
   "source": [
    "URL = \"https://www.rev.com/blog/transcripts/january-iowa-democratic-debate-transcript\"\n",
    "r = requests.get(URL)\n",
    "\n",
    "soup = BeautifulSoup(r.content, 'html5lib')"
   ]
  },
  {
   "cell_type": "code",
   "execution_count": 8,
   "metadata": {},
   "outputs": [],
   "source": [
    "temp = soup.find('div', attrs = {'class' : 'fl-callout-text'}).find_all('p')\n",
    "wolf = temp[0].text + \" \" + temp[1].text\n",
    "\n",
    "pars = [wolf]\n",
    "\n",
    "for i, p in enumerate(soup.find('div', attrs = {'class' : 'fl-callout-text'}).find_all('p')):\n",
    "    if (i > 1):\n",
    "        pars.append(p.text)\n"
   ]
  },
  {
   "cell_type": "code",
   "execution_count": 9,
   "metadata": {},
   "outputs": [],
   "source": [
    "jan = {\n",
    "    \"name\": [],\n",
    "    \"time\": [],\n",
    "    \"text\": [],\n",
    "}\n",
    "\n",
    "for text in pars:\n",
    "    jan[\"name\"].append(text.split(': ',1)[0])\n",
    "    jan[\"time\"].append(text.split(': ',1)[1].split(' ',1)[0])\n",
    "    jan[\"text\"].append(text.split(': ',1)[1].split(' ',1)[1])\n",
    "    \n",
    "jan_df = pd.DataFrame(data = jan)"
   ]
  },
  {
   "cell_type": "code",
   "execution_count": 11,
   "metadata": {},
   "outputs": [],
   "source": [
    "jan_df.to_csv(\"../data/january_transcript.csv\", index = False)"
   ]
  },
  {
   "cell_type": "markdown",
   "metadata": {},
   "source": [
    "### December Debate"
   ]
  },
  {
   "cell_type": "code",
   "execution_count": 12,
   "metadata": {},
   "outputs": [],
   "source": [
    "URL = \"https://www.rev.com/blog/transcripts/december-democratic-debate-transcript-sixth-debate-from-los-angeles\"\n",
    "r = requests.get(URL)\n",
    "\n",
    "\n",
    "soup = BeautifulSoup(r.content, 'html5lib')"
   ]
  },
  {
   "cell_type": "code",
   "execution_count": 13,
   "metadata": {},
   "outputs": [],
   "source": [
    "pars = []\n",
    "for i, p in enumerate(soup.find('div', attrs = {'class' : 'fl-callout-text'}).find_all('p')):\n",
    "        pars.append(p.text)\n",
    "        \n",
    "dec = {\n",
    "    \"name\": [],\n",
    "    \"time\": [],\n",
    "    \"text\": [],\n",
    "}\n",
    "\n",
    "for text in pars:\n",
    "    dec[\"name\"].append(text.split(': ',1)[0])\n",
    "    dec[\"time\"].append(text.split(': ',1)[1].split(' ',1)[0])\n",
    "    dec[\"text\"].append(text.split(': ',1)[1].split(' ',1)[1])\n",
    "    \n",
    "dec_df = pd.DataFrame(data = dec)"
   ]
  },
  {
   "cell_type": "code",
   "execution_count": 15,
   "metadata": {},
   "outputs": [],
   "source": [
    "dec_df.to_csv(\"../data/december_transcript.csv\", index = False)"
   ]
  },
  {
   "cell_type": "markdown",
   "metadata": {},
   "source": [
    "### November Debate"
   ]
  },
  {
   "cell_type": "code",
   "execution_count": 16,
   "metadata": {},
   "outputs": [],
   "source": [
    "URL = \"https://www.rev.com/blog/transcripts/november-democratic-debate-transcript-atlanta-debate-transcript\"\n",
    "r = requests.get(URL)\n",
    "\n",
    "soup = BeautifulSoup(r.content, 'html5lib')"
   ]
  },
  {
   "cell_type": "code",
   "execution_count": 17,
   "metadata": {},
   "outputs": [],
   "source": [
    "pars = []\n",
    "for i, p in enumerate(soup.find('div', attrs = {'class' : 'fl-callout-text'}).find_all('p')):\n",
    "        pars.append(p.text)\n",
    "        \n",
    "nov = {\n",
    "    \"name\": [],\n",
    "    \"time\": [],\n",
    "    \"text\": [],\n",
    "}\n",
    "\n",
    "for i, text in enumerate(pars):\n",
    "    try:\n",
    "        nov[\"name\"].append(text.split(': ',1)[0])\n",
    "        nov[\"time\"].append(text.split(': ',1)[1].split(' ',1)[0])\n",
    "        if(i == 263):\n",
    "            nov[\"text\"].append(\"\")\n",
    "        else:\n",
    "            nov[\"text\"].append(text.split(': ',1)[1].split(' ',1)[1])\n",
    "    except:\n",
    "        print(i)\n",
    "    \n",
    "nov_df = pd.DataFrame(data = nov)"
   ]
  },
  {
   "cell_type": "code",
   "execution_count": 18,
   "metadata": {},
   "outputs": [],
   "source": [
    "nov_df.to_csv(\"../data/november_transcript.csv\", index = False)"
   ]
  },
  {
   "cell_type": "markdown",
   "metadata": {},
   "source": [
    "### October Debate"
   ]
  },
  {
   "cell_type": "code",
   "execution_count": 19,
   "metadata": {},
   "outputs": [],
   "source": [
    "URL = \"https://www.rev.com/blog/transcripts/october-democratic-debate-transcript-4th-debate-from-ohio\"\n",
    "r = requests.get(URL)\n",
    "\n",
    "soup = BeautifulSoup(r.content, 'html5lib')"
   ]
  },
  {
   "cell_type": "code",
   "execution_count": 20,
   "metadata": {},
   "outputs": [],
   "source": [
    "pars = []\n",
    "for i, p in enumerate(soup.find('div', attrs = {'class' : 'fl-callout-text'}).find_all('p')):\n",
    "        pars.append(p.text)\n",
    "        \n",
    "octbr = {\n",
    "    \"name\": [],\n",
    "    \"time\": [],\n",
    "    \"text\": [],\n",
    "}\n",
    "\n",
    "for text in pars:\n",
    "    octbr[\"name\"].append(text.split(': ',1)[0])\n",
    "    octbr[\"time\"].append(text.split(': ',1)[1].split(' ',1)[0])\n",
    "    octbr[\"text\"].append(text.split(': ',1)[1].split(' ',1)[1])\n",
    "    \n",
    "oct_df = pd.DataFrame(data = octbr)"
   ]
  },
  {
   "cell_type": "code",
   "execution_count": 21,
   "metadata": {},
   "outputs": [],
   "source": [
    "oct_df.to_csv(\"../data/october_transcript.csv\", index = False)"
   ]
  },
  {
   "cell_type": "markdown",
   "metadata": {},
   "source": [
    "### September Debate"
   ]
  },
  {
   "cell_type": "code",
   "execution_count": 22,
   "metadata": {},
   "outputs": [],
   "source": [
    "URL = \"https://www.rev.com/blog/transcripts/democratic-debate-transcript-houston-september-12-2019\"\n",
    "r = requests.get(URL)\n",
    "\n",
    "soup = BeautifulSoup(r.content, 'html5lib')"
   ]
  },
  {
   "cell_type": "code",
   "execution_count": 23,
   "metadata": {},
   "outputs": [],
   "source": [
    "pars = []\n",
    "for i, p in enumerate(soup.find('div', attrs = {'class' : 'fl-callout-text'}).find_all('p')):\n",
    "        pars.append(p.text)\n",
    "        \n",
    "sept = {\n",
    "    \"name\": [],\n",
    "    \"time\": [],\n",
    "    \"text\": [],\n",
    "}\n",
    "\n",
    "for i, text in enumerate(pars):\n",
    "    try:\n",
    "        if(i != 225):     \n",
    "            sept[\"name\"].append(text.split(': ',1)[0])\n",
    "            sept[\"time\"].append(text.split(': ',1)[1].split(' ',1)[0])\n",
    "            sept[\"text\"].append(text.split(': ',1)[1].split(' ',1)[1])\n",
    "    except:\n",
    "        print(i)\n",
    "    \n",
    "    \n",
    "    \n",
    "sept_df = pd.DataFrame(data = sept)"
   ]
  },
  {
   "cell_type": "code",
   "execution_count": 24,
   "metadata": {},
   "outputs": [],
   "source": [
    "sept_df.to_csv('../data/september_transcript.csv', index = False)"
   ]
  },
  {
   "cell_type": "markdown",
   "metadata": {},
   "source": [
    "### July Debates"
   ]
  },
  {
   "cell_type": "markdown",
   "metadata": {},
   "source": [
    "#### Debate 1"
   ]
  },
  {
   "cell_type": "code",
   "execution_count": 25,
   "metadata": {},
   "outputs": [],
   "source": [
    "URL = \"https://www.rev.com/blog/transcripts/transcript-of-july-democratic-debate-night-1-full-transcript-july-30-2019\"\n",
    "r = requests.get(URL)\n",
    "\n",
    "soup = BeautifulSoup(r.content, 'html5lib')"
   ]
  },
  {
   "cell_type": "code",
   "execution_count": 26,
   "metadata": {},
   "outputs": [],
   "source": [
    "pars = []\n",
    "for i, p in enumerate(soup.find('div', attrs = {'class' : 'fl-callout-text'}).find_all('p')):\n",
    "    if i > 1:\n",
    "        pars.append(p.text)\n",
    "        \n",
    "july1 = {\n",
    "    \"name\": [],\n",
    "    \"time\": [],\n",
    "    \"text\": [],\n",
    "}\n",
    "\n",
    "for i, text in enumerate(pars):\n",
    "    try: \n",
    "        if i != 274 and i != 645:\n",
    "            july1[\"name\"].append(text.split(': ',1)[0])\n",
    "            july1[\"time\"].append(text.split(': ',1)[1].split(' ',1)[0])\n",
    "            july1[\"text\"].append(text.split(': ',1)[1].split(' ',1)[1])\n",
    "    except:\n",
    "        print(i)\n",
    "    \n",
    "    \n",
    "    \n",
    "july1_df = pd.DataFrame(data = july1)"
   ]
  },
  {
   "cell_type": "code",
   "execution_count": 27,
   "metadata": {},
   "outputs": [],
   "source": [
    "july1_df.to_csv(\"../data/july1_transcript.csv\", index = False)"
   ]
  },
  {
   "cell_type": "markdown",
   "metadata": {},
   "source": [
    "#### Debate 2"
   ]
  },
  {
   "cell_type": "code",
   "execution_count": 28,
   "metadata": {},
   "outputs": [],
   "source": [
    "URL = \"https://www.rev.com/blog/transcripts/transcript-of-july-democratic-debate-2nd-round-night-2-full-transcript-july-31-2019\"\n",
    "r = requests.get(URL)\n",
    "\n",
    "soup = BeautifulSoup(r.content, 'html5lib')"
   ]
  },
  {
   "cell_type": "code",
   "execution_count": 29,
   "metadata": {},
   "outputs": [],
   "source": [
    "pars = []\n",
    "for i, p in enumerate(soup.find('div', attrs = {'class' : 'fl-callout-text'}).find_all('p')):\n",
    "    if i > 1:\n",
    "        pars.append(p.text)\n",
    "        \n",
    "july2 = {\n",
    "    \"name\": [],\n",
    "    \"time\": [],\n",
    "    \"text\": [],\n",
    "}\n",
    "\n",
    "for i, text in enumerate(pars):\n",
    "    try:    \n",
    "        july2[\"name\"].append(text.split(': ',1)[0])\n",
    "        july2[\"time\"].append(text.split(': ',1)[1].split(' ',1)[0])\n",
    "        july2[\"text\"].append(text.split(': ',1)[1].split(' ',1)[1])\n",
    "    except:\n",
    "        print(i)\n",
    "    \n",
    "    \n",
    "    \n",
    "july2_df = pd.DataFrame(data = july2)"
   ]
  },
  {
   "cell_type": "code",
   "execution_count": 30,
   "metadata": {},
   "outputs": [],
   "source": [
    "july2_df.to_csv(\"../data/july2_transcript.csv\", index = False)"
   ]
  },
  {
   "cell_type": "markdown",
   "metadata": {},
   "source": [
    "### June Debates"
   ]
  },
  {
   "cell_type": "markdown",
   "metadata": {},
   "source": [
    "#### Debate 1"
   ]
  },
  {
   "cell_type": "code",
   "execution_count": 31,
   "metadata": {},
   "outputs": [],
   "source": [
    "file = open('../data/Democratic Presidential Debate - June 26.txt')\n",
    "temp = file.read()\n",
    "temp = temp.split('\\n')[0::2]\n",
    "pars = []\n",
    "for line in range(len(temp)):\n",
    "    if temp[line][0] != '[':\n",
    "        pars.append(temp[line])"
   ]
  },
  {
   "cell_type": "code",
   "execution_count": 33,
   "metadata": {},
   "outputs": [],
   "source": [
    "june1 = {\n",
    "    \"name\": [],\n",
    "    \"time\": [],\n",
    "    \"text\": [],\n",
    "}\n",
    "\n",
    "for text in pars:\n",
    "    june1[\"name\"].append(text.split(':')[2].split(' ', 1)[1])\n",
    "    june1[\"time\"].append('(' + text.split(' ', 1)[0] + ')')\n",
    "    june1[\"text\"].append(text.split(':')[3].split(' ', 1)[1])\n",
    "\n",
    "june1_df = pd.DataFrame(data = june1)"
   ]
  },
  {
   "cell_type": "code",
   "execution_count": 34,
   "metadata": {},
   "outputs": [],
   "source": [
    "june1_df.to_csv(\"../data/june1_transcript.csv\", index = False)"
   ]
  },
  {
   "cell_type": "markdown",
   "metadata": {},
   "source": [
    "#### Debate 2"
   ]
  },
  {
   "cell_type": "code",
   "execution_count": 35,
   "metadata": {},
   "outputs": [],
   "source": [
    "URL = \"https://www.rev.com/blog/transcripts/transcript-from-night-2-of-the-2019-democratic-debates\"\n",
    "r = requests.get(URL)\n",
    "\n",
    "soup = BeautifulSoup(r.content, 'html5lib')"
   ]
  },
  {
   "cell_type": "code",
   "execution_count": 36,
   "metadata": {},
   "outputs": [],
   "source": [
    "pars = []\n",
    "for i, p in enumerate(soup.find('div', attrs = {'class' : 'fl-callout-text'}).find_all('p')):\n",
    "    if i > 0:\n",
    "        pars.append(p.text)\n",
    "        \n",
    "june2 = {\n",
    "    \"name\": [],\n",
    "    \"time\": [],\n",
    "    \"text\": [],\n",
    "}\n",
    "\n",
    "for i, text in enumerate(pars):\n",
    "    try:    \n",
    "        june2[\"name\"].append(text.split(': ',1)[0])\n",
    "        june2[\"time\"].append(text.split(': ',1)[1].split(' ',1)[0])\n",
    "        june2[\"text\"].append(text.split(': ',1)[1].split(' ',1)[1])\n",
    "    except:\n",
    "        print(i)\n",
    "    \n",
    "    \n",
    "    \n",
    "june2_df = pd.DataFrame(data = june2)"
   ]
  },
  {
   "cell_type": "code",
   "execution_count": 37,
   "metadata": {},
   "outputs": [],
   "source": [
    "june2_df.to_csv(\"../data/june2_transcript.csv\", index = False)"
   ]
  }
 ],
 "metadata": {
  "kernelspec": {
   "display_name": "Python 3",
   "language": "python",
   "name": "python3"
  },
  "language_info": {
   "codemirror_mode": {
    "name": "ipython",
    "version": 3
   },
   "file_extension": ".py",
   "mimetype": "text/x-python",
   "name": "python",
   "nbconvert_exporter": "python",
   "pygments_lexer": "ipython3",
   "version": "3.7.4"
  }
 },
 "nbformat": 4,
 "nbformat_minor": 4
}