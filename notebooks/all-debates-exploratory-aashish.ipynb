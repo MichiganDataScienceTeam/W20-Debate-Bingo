{
 "cells": [
  {
   "cell_type": "code",
   "execution_count": 35,
   "metadata": {},
   "outputs": [],
   "source": [
    "import nltk\n",
    "import numpy as np\n",
    "import pandas as pd\n",
    "import seaborn as sns\n",
    "import matplotlib as mpl\n",
    "import matplotlib.pyplot as plt\n",
    "from collections import defaultdict\n",
    "import matplotlib.animation as animation\n",
    "\n",
    "%matplotlib inline\n",
    "\n",
    "\n",
    "mpl.rcParams['font.size'] = 15\n",
    "plt.rcParams['font.family'] = 'sans-serif'\n",
    "plt.rcParams['font.sans-serif'] = 'Helvetica'\n",
    "\n",
    "plt.rcParams['axes.edgecolor']='#333F4B'\n",
    "plt.rcParams['axes.linewidth']=0.8\n",
    "plt.rcParams['xtick.color']='#333F4B'\n",
    "plt.rcParams['ytick.color']='#333F4B'\n",
    "\n",
    "sns.set(style=\"darkgrid\", font_scale=1.5)"
   ]
  },
  {
   "cell_type": "code",
   "execution_count": 24,
   "metadata": {},
   "outputs": [],
   "source": [
    "debate_filenames = [\"july1_transcript.csv\", \"july2_transcript.csv\",  \\\n",
    "    \"september_transcript.csv\", \"october_transcript.csv\", \"november_transcript.csv\", \"december_transcript.csv\", \\\n",
    "    \"january_transcript.csv\"]\n",
    "\n",
    "candidates = ['Klobuchar', 'Yang', 'Sanders', 'Biden', 'Harris', \\\n",
    "            'Buttigieg', 'Booker', 'Warren', 'Steyer', 'Gabbard']\n",
    "\n",
    "def load_debate_file(filename):\n",
    "    debate_df = pd.read_csv(filename)\n",
    "    \n",
    "    regexed_time = debate_df['time'].str.extract(r'\\((?P<hours>[0-9]*)[:]*(?P<mins>[0-9]*)[:](?P<seconds>[0-9]*)\\)')\n",
    "    \n",
    "    def f(row):\n",
    "        if len(row['mins']) == 0:\n",
    "            # Means there is no hour. The column hour is actually minutes.\n",
    "            val = int(row['hours']) * 60 + int(row['seconds'])\n",
    "        else:\n",
    "            # Means there is a hour column too.\n",
    "            val = int(row['hours']) * 60 * 60 + int(row['mins']) * 60 + int(row['seconds'])\n",
    "        return val\n",
    "    \n",
    "    debate_df['seconds_since_start'] = regexed_time.apply(f, axis=1)\n",
    "    debate_df['duration'] = - debate_df['seconds_since_start'] + debate_df['seconds_since_start'].shift(-1)\n",
    "    \n",
    "    \n",
    "    debate_df['flag'] = np.where(debate_df.name.str.contains('|'.join(candidates)),1,0)\n",
    "    \n",
    "    filtered_df = debate_df[debate_df['flag'] == 1]\n",
    "    #filtered_df['short'] = filtered_df.name.str.contains('|'.join(candidates))\n",
    "    \n",
    "    def change_name(name):\n",
    "        for c in candidates:\n",
    "            if c in name:\n",
    "                return c\n",
    "        return name\n",
    "    \n",
    "    filtered_df['name'] = filtered_df['name'].apply(change_name)\n",
    "    \n",
    "    return filtered_df"
   ]
  },
  {
   "cell_type": "code",
   "execution_count": 36,
   "metadata": {},
   "outputs": [
    {
     "name": "stderr",
     "output_type": "stream",
     "text": [
      "/home/aashish/.local/lib/python3.6/site-packages/ipykernel_launcher.py:37: SettingWithCopyWarning: \n",
      "A value is trying to be set on a copy of a slice from a DataFrame.\n",
      "Try using .loc[row_indexer,col_indexer] = value instead\n",
      "\n",
      "See the caveats in the documentation: http://pandas.pydata.org/pandas-docs/stable/user_guide/indexing.html#returning-a-view-versus-a-copy\n"
     ]
    }
   ],
   "source": [
    "mean_durations = []\n",
    "total_durations = []\n",
    "\n",
    "\n",
    "for debate_filename in enumerate(debate_filenames):\n",
    "    current_df = load_debate_file(\"../data/\" + debate_filename[1])\n",
    "    \n",
    "    mean_duration_df = current_df.groupby('name')['duration'].mean().to_dict()\n",
    "    total_duration_df = current_df.groupby('name')['duration'].sum().to_dict()\n",
    "    \n",
    "    mean_durations.append(mean_duration_df)\n",
    "    total_durations.append(total_duration_df)\n",
    "    \n",
    "\n",
    "\n",
    "all_candidates_mean_times = defaultdict(list)\n",
    "all_candidates_total_times = defaultdict(list)\n",
    "for i in [0, 2, 3, 4, 5, 6]:\n",
    "    for candidate in candidates:\n",
    "        \n",
    "        if (i == 0) and (candidate not in mean_durations[i].keys()):\n",
    "            if (candidate in mean_durations[1].keys()):\n",
    "                all_candidates_mean_times[candidate].append(mean_durations[i + 1][candidate])\n",
    "                all_candidates_total_times[candidate].append(total_durations[i + 1][candidate])\n",
    "            else:\n",
    "                all_candidates_mean_times[candidate].append(0)\n",
    "                all_candidates_total_times[candidate].append(0)\n",
    "        else:\n",
    "            if candidate in mean_durations[i].keys():\n",
    "                all_candidates_mean_times[candidate].append(mean_durations[i][candidate])\n",
    "                all_candidates_total_times[candidate].append(total_durations[i][candidate])\n",
    "            else:\n",
    "                all_candidates_mean_times[candidate].append(0)\n",
    "                all_candidates_total_times[candidate].append(0)\n",
    "\n"
   ]
  },
  {
   "cell_type": "code",
   "execution_count": 123,
   "metadata": {},
   "outputs": [],
   "source": [
    "from IPython.display import HTML\n",
    "\n",
    "labels = [\"July 30/31, 2019\",  \\\n",
    "    \"September 12, 2019\", \"October 15, 2019\", \"November 20, 2019\", \"December 19, 2019\", \\\n",
    "    \"January 14, 2020\"]\n",
    "\n",
    "def barlist(n): \n",
    "    return [times[n] for cand, times in all_candidates_mean_times.items()]\n",
    "\n",
    "fig, ax = plt.subplots()\n",
    "fig.set_figwidth(12)\n",
    "fig.set_figheight(8)\n",
    "\n",
    "n = len(all_candidates_mean_times['Sanders'])\n",
    "\n",
    "\n",
    "x = [cand for cand, times in all_candidates_mean_times.items()]\n",
    "\n",
    "barcollection = plt.bar(x, barlist(0))\n",
    "\n",
    "def set_axis_style(ax, labels):\n",
    "    ax.get_xaxis().set_tick_params(direction='out')\n",
    "    ax.xaxis.set_ticks_position('bottom')\n",
    "    ax.set_xticks(np.arange(0, len(labels)))\n",
    "    ax.set_xticklabels(labels, rotation=90, ha='right')\n",
    "    ax.set_xlim(0.25, len(labels) + 0.25)\n",
    "    \n",
    "    ax.set_ylabel(\"Mean Time (s)\", fontsize=20)\n",
    "    \n",
    "    ax.set_yticks(np.arange(0, 50, 5))\n",
    "    ax.set_yticklabels(np.arange(0, 50, 5))\n",
    "    \n",
    "    ax.set_ylim(0, 45)\n",
    "    \n",
    "def animate(i):\n",
    "    y = barlist(i)\n",
    "    ax.clear()\n",
    "    set_axis_style(ax, candidates)\n",
    "    ax.set_title(labels[i])\n",
    "    for i, b in enumerate(barcollection):\n",
    "        ax.vlines(x=i, ymin=0, ymax=y[i], color='#70c5ff', alpha=0.4, linewidth=20)\n",
    "        ax.plot(i, y[i], \"o\", markersize=20, color='#007ACC', alpha=0.4)\n",
    "    \n",
    "    ax.plot([2.5], [45], \"o\", markersize=0, color='#007ACC', alpha=0)\n",
    "\n",
    "ax.spines['top'].set_color('none')\n",
    "ax.spines['right'].set_color('none')\n",
    "ax.spines['left'].set_smart_bounds(True)\n",
    "ax.spines['bottom'].set_smart_bounds(True)\n",
    "    \n",
    "ani = animation.FuncAnimation(fig, animate, repeat=True, blit=False, frames=n, interval=1000)\n",
    "\n",
    "fig.tight_layout(rect=[0.1, 0.13, 1, 0.95])\n",
    "plt.close()\n",
    "\n",
    "HTML(ani.to_html5_video())\n",
    "\n",
    "\n",
    "#ani.save('mean_times.mp4')\n",
    "ani.save('mean_times.gif', writer='imagemagick', fps=3)\n",
    "\n"
   ]
  },
  {
   "cell_type": "code",
   "execution_count": null,
   "metadata": {},
   "outputs": [],
   "source": []
  },
  {
   "cell_type": "code",
   "execution_count": 124,
   "metadata": {},
   "outputs": [
    {
     "data": {
      "text/plain": [
       "<Figure size 864x576 with 0 Axes>"
      ]
     },
     "metadata": {},
     "output_type": "display_data"
    }
   ],
   "source": [
    "def barlist(n): \n",
    "    return [times[n] / 60 for cand, times in all_candidates_total_times.items()]\n",
    "\n",
    "\n",
    "fig = plt.figure(figsize=(12, 8))\n",
    "fig, ax = plt.subplots()\n",
    "fig.set_figwidth(12)\n",
    "fig.set_figheight(8)\n",
    "\n",
    "n = len(all_candidates_total_times['Sanders'])\n",
    "\n",
    "x = [cand for cand, times in all_candidates_total_times.items()]\n",
    "\n",
    "barcollection = plt.bar(x, barlist(0))\n",
    "\n",
    "\n",
    "def set_axis_style(ax, labels):\n",
    "    ax.get_xaxis().set_tick_params(direction='out')\n",
    "    ax.xaxis.set_ticks_position('bottom')\n",
    "    ax.set_xticks(np.arange(0, len(labels)))\n",
    "    ax.set_xticklabels(labels, rotation=90, ha='right')\n",
    "    ax.set_xlim(0.25, len(labels) + 0.25)\n",
    "    ax.set_ylabel(\"Total Time (s)\", fontsize=20)\n",
    "    \n",
    "    ax.set_ylim(0, 25)\n",
    "    \n",
    "def animate(i):\n",
    "    y = barlist(i)\n",
    "    ax.clear()\n",
    "    set_axis_style(ax, candidates)\n",
    "    ax.set_title(labels[i])\n",
    "    for i, b in enumerate(barcollection):\n",
    "        #b.set_height(y[i])\n",
    "        ax.vlines(x=i, ymin=0, ymax=y[i], color='#70c5ff', alpha=0.4, linewidth=20)\n",
    "        ax.plot(i, y[i], \"o\", markersize=20, color='#007ACC', alpha=0.4)\n",
    "        \n",
    "    ax.plot([2.5], [25], \"o\", markersize=0, color='#007ACC', alpha=0)\n",
    "        \n",
    "ax.spines['top'].set_color('none')\n",
    "ax.spines['right'].set_color('none')\n",
    "ax.spines['left'].set_smart_bounds(True)\n",
    "ax.spines['bottom'].set_smart_bounds(True)\n",
    "\n",
    "ani = animation.FuncAnimation(fig, animate, repeat=True, blit=False, frames=n, interval=1000)\n",
    "\n",
    "\n",
    "fig.tight_layout(rect=[0.1, 0.13, 1, 0.95])\n",
    "plt.close()\n",
    "\n",
    "\n",
    "# Show the animation\n",
    "HTML(ani.to_html5_video())\n",
    "\n",
    "ani.save('total_times.gif', writer='imagemagick', fps=3)"
   ]
  },
  {
   "cell_type": "code",
   "execution_count": null,
   "metadata": {},
   "outputs": [],
   "source": [
    "barlist(1)"
   ]
  },
  {
   "cell_type": "code",
   "execution_count": null,
   "metadata": {},
   "outputs": [],
   "source": [
    "barlist(2)"
   ]
  },
  {
   "cell_type": "code",
   "execution_count": 112,
   "metadata": {},
   "outputs": [
    {
     "data": {
      "text/plain": [
       "array([ 0,  5, 10, 15, 20, 25, 30, 35, 40, 45])"
      ]
     },
     "execution_count": 112,
     "metadata": {},
     "output_type": "execute_result"
    }
   ],
   "source": [
    "np.arange(0, 50, 5)"
   ]
  },
  {
   "cell_type": "code",
   "execution_count": null,
   "metadata": {},
   "outputs": [],
   "source": []
  }
 ],
 "metadata": {
  "kernelspec": {
   "display_name": "Python 3",
   "language": "python",
   "name": "python3"
  },
  "language_info": {
   "codemirror_mode": {
    "name": "ipython",
    "version": 3
   },
   "file_extension": ".py",
   "mimetype": "text/x-python",
   "name": "python",
   "nbconvert_exporter": "python",
   "pygments_lexer": "ipython3",
   "version": "3.6.9"
  }
 },
 "nbformat": 4,
 "nbformat_minor": 2
}
