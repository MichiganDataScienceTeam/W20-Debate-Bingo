{
 "cells": [
  {
   "cell_type": "markdown",
   "metadata": {},
   "source": [
    "## Webscrapping for Trump Rallies"
   ]
  },
  {
   "cell_type": "code",
   "execution_count": 2,
   "metadata": {},
   "outputs": [],
   "source": [
    "from bs4 import BeautifulSoup\n",
    "import requests\n",
    "import pandas as pd\n",
    "import numpy as np\n",
    "import re"
   ]
  },
  {
   "cell_type": "code",
   "execution_count": 8,
   "metadata": {},
   "outputs": [],
   "source": [
    "URL = \"https://www.rev.com/blog/transcript-tag/donald-trump-rally-transcripts\"\n",
    "r = requests.get(URL)\n",
    "soup = BeautifulSoup(r.content, 'html5lib')\n",
    "\n",
    "temp = soup.findAll('div', attrs = {'class' : 'fl-post-column'})\n",
    "transcript_links1 = [re.search(('(?<=href=\")(.*)(?=\"><div class)'),str(i.find('a'))).group(0) for i in temp]\n",
    "\n",
    "\n",
    "URL = \"https://www.rev.com/blog/transcript-tag/donald-trump-rally-transcripts/page/2\"\n",
    "r = requests.get(URL)\n",
    "soup = BeautifulSoup(r.content, 'html5lib')\n",
    "\n",
    "temp = soup.findAll('div', attrs = {'class' : 'fl-post-column'})\n",
    "transcript_links2 = [re.search(('(?<=href=\")(.*)(?=\"><div class)'),str(i.find('a'))).group(0) for i in temp]\n",
    "\n",
    "\n",
    "transcript_links = transcript_links1 + transcript_links2"
   ]
  },
  {
   "cell_type": "markdown",
   "metadata": {},
   "source": [
    "### Parsing Rallies"
   ]
  },
  {
   "cell_type": "code",
   "execution_count": 53,
   "metadata": {},
   "outputs": [],
   "source": [
    "combined_df = pd.DataFrame(columns = [\"name\",\"text\",\"time\"])\n",
    "\n",
    "for rallies in transcript_links:\n",
    "    URL = rallies\n",
    "    r = requests.get(URL)\n",
    "    soup = BeautifulSoup(r.content, 'html5lib')\n",
    "    temp = soup.find('div', attrs = {'class' : 'fl-callout-text'}).find_all('p')\n",
    "    moderator = temp[0].text + \" \" + temp[1].text\n",
    "\n",
    "    pars = []\n",
    "\n",
    "    for i, p in enumerate(soup.find('div', attrs = {'class' : 'fl-callout-text'}).find_all('p')):\n",
    "        if (p.text != '\\xa0'):\n",
    "            pars.append(p.text)\n",
    "            \n",
    "    rally = {\n",
    "    \"name\": [],\n",
    "    \"time\": [],\n",
    "    \"text\": [],\n",
    "    }\n",
    "\n",
    "    for text in pars:\n",
    "        rally[\"name\"].append(text.split(': ',1)[0])\n",
    "        rally[\"time\"].append(text.split(': ',1)[1].split(' ',1)[0])\n",
    "        rally[\"text\"].append(text.split(': ',1)[1].split(' ',1)[1])\n",
    "            \n",
    "    rally_df = pd.DataFrame(rally)\n",
    "    \n",
    "    filename = \"{}.csv\".format(' '.join(URL.split('-')[2:4]))    \n",
    "    rally_df.to_csv(\"../data/trump-rallies/\"+filename, index = False)\n",
    "    \n",
    "    rally_name = filename[:-4]\n",
    "    rally_df[\"rally\"] = [rally_name for i in range(len(rally_df))]\n",
    "    combined_df = combined_df.append(rally_df, ignore_index = True, sort = False)"
   ]
  },
  {
   "cell_type": "markdown",
   "metadata": {},
   "source": [
    "## Combining Transcripts"
   ]
  },
  {
   "cell_type": "code",
   "execution_count": 54,
   "metadata": {},
   "outputs": [
    {
     "data": {
      "text/html": [
       "<div>\n",
       "<style scoped>\n",
       "    .dataframe tbody tr th:only-of-type {\n",
       "        vertical-align: middle;\n",
       "    }\n",
       "\n",
       "    .dataframe tbody tr th {\n",
       "        vertical-align: top;\n",
       "    }\n",
       "\n",
       "    .dataframe thead th {\n",
       "        text-align: right;\n",
       "    }\n",
       "</style>\n",
       "<table border=\"1\" class=\"dataframe\">\n",
       "  <thead>\n",
       "    <tr style=\"text-align: right;\">\n",
       "      <th></th>\n",
       "      <th>name</th>\n",
       "      <th>text</th>\n",
       "      <th>time</th>\n",
       "      <th>rally</th>\n",
       "    </tr>\n",
       "  </thead>\n",
       "  <tbody>\n",
       "    <tr>\n",
       "      <td>0</td>\n",
       "      <td>Donald Trump</td>\n",
       "      <td>I want to thank you very much. North Carolina,...</td>\n",
       "      <td>(02:45)</td>\n",
       "      <td>charlotte north</td>\n",
       "    </tr>\n",
       "    <tr>\n",
       "      <td>1</td>\n",
       "      <td>Donald Trump</td>\n",
       "      <td>This is an incredible time for our nation. Our...</td>\n",
       "      <td>(03:39)</td>\n",
       "      <td>charlotte north</td>\n",
       "    </tr>\n",
       "    <tr>\n",
       "      <td>2</td>\n",
       "      <td>Donald Trump</td>\n",
       "      <td>By the way, look at this. Look back there, loo...</td>\n",
       "      <td>(04:19)</td>\n",
       "      <td>charlotte north</td>\n",
       "    </tr>\n",
       "    <tr>\n",
       "      <td>3</td>\n",
       "      <td>Donald Trump</td>\n",
       "      <td>There’s never been a time where the Republican...</td>\n",
       "      <td>(04:59)</td>\n",
       "      <td>charlotte north</td>\n",
       "    </tr>\n",
       "    <tr>\n",
       "      <td>4</td>\n",
       "      <td>Donald Trump</td>\n",
       "      <td>Jobs are booming in our country, incomes are s...</td>\n",
       "      <td>(05:53)</td>\n",
       "      <td>charlotte north</td>\n",
       "    </tr>\n",
       "    <tr>\n",
       "      <td>...</td>\n",
       "      <td>...</td>\n",
       "      <td>...</td>\n",
       "      <td>...</td>\n",
       "      <td>...</td>\n",
       "    </tr>\n",
       "    <tr>\n",
       "      <td>2587</td>\n",
       "      <td>Donald Trump</td>\n",
       "      <td>We are one movement, one movement, think of th...</td>\n",
       "      <td>(01:32:04)</td>\n",
       "      <td>maga event</td>\n",
       "    </tr>\n",
       "    <tr>\n",
       "      <td>2588</td>\n",
       "      <td>Donald Trump</td>\n",
       "      <td>We are so respected, you have no idea how our ...</td>\n",
       "      <td>(01:32:55)</td>\n",
       "      <td>maga event</td>\n",
       "    </tr>\n",
       "    <tr>\n",
       "      <td>2589</td>\n",
       "      <td>Donald Trump</td>\n",
       "      <td>You’ve all heard it many times, right, we will...</td>\n",
       "      <td>(01:33:54)</td>\n",
       "      <td>maga event</td>\n",
       "    </tr>\n",
       "    <tr>\n",
       "      <td>2590</td>\n",
       "      <td>Donald Trump</td>\n",
       "      <td>Look at her beautiful hat, it looks very good ...</td>\n",
       "      <td>(01:34:46)</td>\n",
       "      <td>maga event</td>\n",
       "    </tr>\n",
       "    <tr>\n",
       "      <td>2591</td>\n",
       "      <td>Donald Trump</td>\n",
       "      <td>(singing).</td>\n",
       "      <td>(01:35:07)</td>\n",
       "      <td>maga event</td>\n",
       "    </tr>\n",
       "  </tbody>\n",
       "</table>\n",
       "<p>2592 rows × 4 columns</p>\n",
       "</div>"
      ],
      "text/plain": [
       "              name                                               text  \\\n",
       "0     Donald Trump  I want to thank you very much. North Carolina,...   \n",
       "1     Donald Trump  This is an incredible time for our nation. Our...   \n",
       "2     Donald Trump  By the way, look at this. Look back there, loo...   \n",
       "3     Donald Trump  There’s never been a time where the Republican...   \n",
       "4     Donald Trump  Jobs are booming in our country, incomes are s...   \n",
       "...            ...                                                ...   \n",
       "2587  Donald Trump  We are one movement, one movement, think of th...   \n",
       "2588  Donald Trump  We are so respected, you have no idea how our ...   \n",
       "2589  Donald Trump  You’ve all heard it many times, right, we will...   \n",
       "2590  Donald Trump  Look at her beautiful hat, it looks very good ...   \n",
       "2591  Donald Trump                                         (singing).   \n",
       "\n",
       "            time            rally  \n",
       "0        (02:45)  charlotte north  \n",
       "1        (03:39)  charlotte north  \n",
       "2        (04:19)  charlotte north  \n",
       "3        (04:59)  charlotte north  \n",
       "4        (05:53)  charlotte north  \n",
       "...          ...              ...  \n",
       "2587  (01:32:04)       maga event  \n",
       "2588  (01:32:55)       maga event  \n",
       "2589  (01:33:54)       maga event  \n",
       "2590  (01:34:46)       maga event  \n",
       "2591  (01:35:07)       maga event  \n",
       "\n",
       "[2592 rows x 4 columns]"
      ]
     },
     "execution_count": 54,
     "metadata": {},
     "output_type": "execute_result"
    }
   ],
   "source": [
    "combined_df.to_csv(\"../data/trump-rallies/combined.csv\",index = False)\n",
    "combined_df"
   ]
  },
  {
   "cell_type": "code",
   "execution_count": 55,
   "metadata": {},
   "outputs": [
    {
     "data": {
      "text/plain": [
       "0       I want to thank you very much. North Carolina,...\n",
       "1       This is an incredible time for our nation. Our...\n",
       "2       By the way, look at this. Look back there, loo...\n",
       "3       There’s never been a time where the Republican...\n",
       "4       Jobs are booming in our country, incomes are s...\n",
       "                              ...                        \n",
       "2587    We are one movement, one movement, think of th...\n",
       "2588    We are so respected, you have no idea how our ...\n",
       "2589    You’ve all heard it many times, right, we will...\n",
       "2590    Look at her beautiful hat, it looks very good ...\n",
       "2591                                           (singing).\n",
       "Name: text, Length: 2592, dtype: object"
      ]
     },
     "execution_count": 55,
     "metadata": {},
     "output_type": "execute_result"
    }
   ],
   "source": [
    "combined_df[\"text\"]"
   ]
  }
 ],
 "metadata": {
  "kernelspec": {
   "display_name": "Python 3",
   "language": "python",
   "name": "python3"
  },
  "language_info": {
   "codemirror_mode": {
    "name": "ipython",
    "version": 3
   },
   "file_extension": ".py",
   "mimetype": "text/x-python",
   "name": "python",
   "nbconvert_exporter": "python",
   "pygments_lexer": "ipython3",
   "version": "3.7.4"
  }
 },
 "nbformat": 4,
 "nbformat_minor": 4
}
