{
 "nbformat": 4,
 "nbformat_minor": 2,
 "metadata": {
  "language_info": {
   "name": "python",
   "codemirror_mode": {
    "name": "ipython",
    "version": 3
   },
   "version": "3.7.4-final"
  },
  "orig_nbformat": 2,
  "file_extension": ".py",
  "mimetype": "text/x-python",
  "name": "python",
  "npconvert_exporter": "python",
  "pygments_lexer": "ipython3",
  "version": 3,
  "kernelspec": {
   "name": "python37464bitbasecondad0aa168c2d0047268f657f9208d7a7c9",
   "display_name": "Python 3.7.4 64-bit ('base': conda)"
  }
 },
 "cells": [
  {
   "cell_type": "code",
   "execution_count": 1,
   "metadata": {},
   "outputs": [],
   "source": [
    "import numpy as np\n",
    "import pandas as pd"
   ]
  },
  {
   "cell_type": "code",
   "execution_count": 2,
   "metadata": {},
   "outputs": [],
   "source": [
    "debates = pd.read_csv('../data/june1_transcript.csv')\n",
    "debates['month'] = 'june'\n",
    "df = pd.read_csv('../data/june2_transcript.csv')\n",
    "df['month'] = 'june'\n",
    "debates = debates.append(df)\n",
    "df = pd.read_csv('../data/july1_transcript.csv')\n",
    "df['month'] = 'july'\n",
    "debates = debates.append(df)\n",
    "df = pd.read_csv('../data/july2_transcript.csv')\n",
    "df['month'] = 'july'\n",
    "debates = debates.append(df)\n",
    "df = pd.read_csv('../data/september_transcript.csv')\n",
    "df['month'] = 'september'\n",
    "debates = debates.append(df)\n",
    "df = pd.read_csv('../data/october_transcript.csv')\n",
    "df['month'] = 'october'\n",
    "debates = debates.append(df)\n",
    "df = pd.read_csv('../data/november_transcript.csv')\n",
    "df['month'] = 'november'\n",
    "debates = debates.append(df)\n",
    "df = pd.read_csv('../data/december_transcript.csv')\n",
    "df['month'] = 'december'\n",
    "debates = debates.append(df)\n",
    "df = pd.read_csv('../data/january_transcript.csv')\n",
    "df['month'] = 'january'\n",
    "debates = debates.append(df)\n",
    "df = pd.read_csv('../data/february_transcript.csv')\n",
    "df['month'] = 'february'\n",
    "debates = debates.append(df)\n",
    "debates = debates[['name', 'text', 'month', 'time']]"
   ]
  },
  {
   "cell_type": "code",
   "execution_count": 3,
   "metadata": {},
   "outputs": [
    {
     "data": {
      "text/plain": "(4809, 4)"
     },
     "execution_count": 3,
     "metadata": {},
     "output_type": "execute_result"
    }
   ],
   "source": [
    "debates.shape"
   ]
  },
  {
   "cell_type": "code",
   "execution_count": 4,
   "metadata": {},
   "outputs": [
    {
     "data": {
      "text/html": "<div>\n<style scoped>\n    .dataframe tbody tr th:only-of-type {\n        vertical-align: middle;\n    }\n\n    .dataframe tbody tr th {\n        vertical-align: top;\n    }\n\n    .dataframe thead th {\n        text-align: right;\n    }\n</style>\n<table border=\"1\" class=\"dataframe\">\n  <thead>\n    <tr style=\"text-align: right;\">\n      <th></th>\n      <th>name</th>\n      <th>text</th>\n      <th>month</th>\n      <th>time</th>\n    </tr>\n  </thead>\n  <tbody>\n    <tr>\n      <th>0</th>\n      <td>Lester Holt</td>\n      <td>… comment on every topic, but over the course ...</td>\n      <td>june</td>\n      <td>NaN</td>\n    </tr>\n    <tr>\n      <th>1</th>\n      <td>Savannah G.</td>\n      <td>All right, so with that business out of the wa...</td>\n      <td>june</td>\n      <td>NaN</td>\n    </tr>\n    <tr>\n      <th>2</th>\n      <td>Senator Warren</td>\n      <td>Thank you. It’s good to be here.</td>\n      <td>june</td>\n      <td>NaN</td>\n    </tr>\n    <tr>\n      <th>3</th>\n      <td>Savannah G.</td>\n      <td>You have many plans. Free college, free childc...</td>\n      <td>june</td>\n      <td>NaN</td>\n    </tr>\n    <tr>\n      <th>4</th>\n      <td>Senator Warren</td>\n      <td>I think of it this way. Who is this economy re...</td>\n      <td>june</td>\n      <td>NaN</td>\n    </tr>\n  </tbody>\n</table>\n</div>",
      "text/plain": "             name                                               text month  \\\n0     Lester Holt  … comment on every topic, but over the course ...  june   \n1     Savannah G.  All right, so with that business out of the wa...  june   \n2  Senator Warren                   Thank you. It’s good to be here.  june   \n3     Savannah G.  You have many plans. Free college, free childc...  june   \n4  Senator Warren  I think of it this way. Who is this economy re...  june   \n\n  time  \n0  NaN  \n1  NaN  \n2  NaN  \n3  NaN  \n4  NaN  "
     },
     "execution_count": 4,
     "metadata": {},
     "output_type": "execute_result"
    }
   ],
   "source": [
    "debates.head()"
   ]
  },
  {
   "cell_type": "code",
   "execution_count": 5,
   "metadata": {},
   "outputs": [
    {
     "data": {
      "text/html": "<div>\n<style scoped>\n    .dataframe tbody tr th:only-of-type {\n        vertical-align: middle;\n    }\n\n    .dataframe tbody tr th {\n        vertical-align: top;\n    }\n\n    .dataframe thead th {\n        text-align: right;\n    }\n</style>\n<table border=\"1\" class=\"dataframe\">\n  <thead>\n    <tr style=\"text-align: right;\">\n      <th></th>\n      <th>name</th>\n      <th>text</th>\n      <th>month</th>\n      <th>time</th>\n    </tr>\n  </thead>\n  <tbody>\n    <tr>\n      <th>317</th>\n      <td>Amy Klobuchar</td>\n      <td>There’s an old story of Franklin Delano Roosev...</td>\n      <td>february</td>\n      <td>(01:15:43)</td>\n    </tr>\n    <tr>\n      <th>318</th>\n      <td>Amy Klobuchar</td>\n      <td>If you have trouble stretching your paycheck t...</td>\n      <td>february</td>\n      <td>(01:16:20)</td>\n    </tr>\n    <tr>\n      <th>319</th>\n      <td>George S.</td>\n      <td>Mr. Steyer.</td>\n      <td>february</td>\n      <td>(01:17:17)</td>\n    </tr>\n    <tr>\n      <th>320</th>\n      <td>Tom Steyer</td>\n      <td>The Republicans have a cruel plan and their pl...</td>\n      <td>february</td>\n      <td>(01:17:24)</td>\n    </tr>\n    <tr>\n      <th>321</th>\n      <td>George S.</td>\n      <td>Candidates. Thank you. Thanks for a great deba...</td>\n      <td>february</td>\n      <td>(01:19:09)</td>\n    </tr>\n  </tbody>\n</table>\n</div>",
      "text/plain": "              name                                               text  \\\n317  Amy Klobuchar  There’s an old story of Franklin Delano Roosev...   \n318  Amy Klobuchar  If you have trouble stretching your paycheck t...   \n319      George S.                                        Mr. Steyer.   \n320     Tom Steyer  The Republicans have a cruel plan and their pl...   \n321      George S.  Candidates. Thank you. Thanks for a great deba...   \n\n        month        time  \n317  february  (01:15:43)  \n318  february  (01:16:20)  \n319  february  (01:17:17)  \n320  february  (01:17:24)  \n321  february  (01:19:09)  "
     },
     "execution_count": 5,
     "metadata": {},
     "output_type": "execute_result"
    }
   ],
   "source": [
    "debates.tail()"
   ]
  },
  {
   "cell_type": "code",
   "execution_count": 6,
   "metadata": {},
   "outputs": [
    {
     "data": {
      "text/plain": "array(['Lester Holt', 'Savannah G.', 'Senator Warren', 'Amy Klobachar',\n       'Beto O’Rourke', 'Cory Booker', 'Julian Castro', 'Tulsi Gabbard',\n       'Jose D.B.', 'Mayor de Blasio', 'John Delaney', 'Jay Inslee',\n       'Tim Ryan', 'Speaker 16', 'Speaker 17', 'Jose', 'Bill De Blasio',\n       'Savannah', 'Amy Klobuchar', 'Speaker 13', 'Steve Kornacki',\n       'Speaker 15', 'Rachel Maddow', 'Chuck Todd', 'Speaker 18',\n       'Speaker 19', 'Speaker 20', 'Speaker 2', 'Speaker 3', 'Speaker 7',\n       'Elizabeth W.', 'Speaker 8', 'Speaker 9', 'Speaker 10',\n       'Speaker 11', 'Speaker 12', 'Speaker 14', 'Jose D. B.',\n       'Savanagh G.', 'Bernie Sanders', 'Bennett', 'Speaker 1',\n       'Joe Biden', 'Kamala Harris', 'John H.', 'Kirsten G.',\n       'Pete Buttigieg', 'Eric Stalwell', 'Andrew Yang', 'Eric Swalwell',\n       'Speaker 4', 'Speaker 5', 'Speaker 6', 'M. Williamson',\n       'Marianne W.', 'Michael Bennet', 'Jake Tapper', 'Diana',\n       'Steve Bullock', 'Dana Bash', 'Ms. Williamson', 'Don Lemon',\n       'John H', 'Elizabeth W', 'Female', 'Male', 'Mayor Buttigieg',\n       'Elizabeth Warre', 'John Hickenloop', 'Marianne Willia',\n       'J. Hickenlooper', 'E. Warren', 'Anderson Cooper', 'John King',\n       'N. Henderson', 'Bill de Blasio', 'Crowd', 'Yang',\n       'Kristen Gillibr', 'Moderator', 'Gillibrand', 'Senator Bennet',\n       'George S.', 'Voiceover', 'Jorge Ramos', 'David Muir', 'George S',\n       'Sen Klobuchar', 'Sec. Castro', 'David ', 'Lindsey',\n       'Erin Burnett', 'Marc Lacey', 'Senator Booker', 'Tom Steyer',\n       'A. Cooper', 'Andrea Mitchell', 'Kristen Welker', 'Ashley Parker',\n       'Libby Casey', 'Judy Woodruff', 'Amy Walter', 'Stephanie Sy',\n       'Tim Alberta', 'Amna', 'Amna Nawaz', 'Yamiche', 'Yamiche A.',\n       'Judy', 'Wolf Blitzer', 'Abby Phillip', 'B. Pfannenstiel',\n       'Moderator 1', 'Moderator 2', 'Abby P', 'Brianne P', 'Brianne P.',\n       'Abby Phillips', 'Elizabeth Warren', 'Monica Hernandez',\n       'Adam Sexton', 'Joe Biden ', 'Linsey Davis', 'Devin Dwyer',\n       'Rachel Scott', 'Announcer'], dtype=object)"
     },
     "execution_count": 6,
     "metadata": {},
     "output_type": "execute_result"
    }
   ],
   "source": [
    "debates.name.unique()"
   ]
  },
  {
   "cell_type": "code",
   "execution_count": 7,
   "metadata": {},
   "outputs": [],
   "source": [
    "debates.name[debates.name.isin(['Senator Warren', 'E. Warren', 'Elizabeth W.', 'Elizabeth W', 'Elizabeth Warre', 'Elizabeth Warren'])] = 'Warren'\n",
    "debates.name[debates.name.isin(['Cory Booker', 'Senator Booker'])] = 'Booker'\n",
    "debates.name[debates.name.isin(['Amy Klobuchar', 'Amy Klobachar', 'Sen Klobuchar'])] = 'Klobuchar'\n",
    "debates.name[debates.name.isin(['Mayor de Blasio', 'Bill de Blasio', 'Bill De Blasio'])] = 'de Blasio'\n",
    "debates.name[debates.name.isin(['Yang', 'Andrew Yang'])] = 'Yang'\n",
    "debates.name[debates.name.isin(['Bernie Sanders'])] = 'Sanders'\n",
    "debates.name[debates.name.isin(['Senator Bennet', 'Bennett', 'Michael Bennet'])] = 'Bennet'\n",
    "debates.name[debates.name.isin(['Kirsten G.', 'Gillibrand', 'Kristen Gillibr'])] = 'Gillibrand'\n",
    "debates.name[debates.name.isin(['Kamala Harris'])] = 'Harris'\n",
    "debates.name[debates.name.isin(['Marianne W.', 'M. Williamson', 'Marianne Willia', 'Ms. Williamson'])] = 'Williamson'\n",
    "debates.name[debates.name.isin(['Julian Castro', 'Sec. Castro'])] = 'Castro'\n",
    "debates.name[debates.name.isin(['Joe Biden', 'Joe Biden '])] = 'Biden'\n",
    "debates.name[debates.name.isin(['John Delaney'])] = 'Delaney'\n",
    "debates.name[debates.name.isin(['John H.', 'John H', 'John Hickenloop', 'J. Hickenlooper'])] = 'Hickenlooper'\n",
    "debates.name[debates.name.isin(['Tom Steyer'])] = 'Steyer'\n",
    "debates.name[debates.name.isin(['Eric Stalwell', 'Eric Swalwell'])] = 'Swalwell'\n",
    "debates.name[debates.name.isin(['Pete Buttigieg', 'Mayor Buttigieg'])] = 'Buttigieg'\n",
    "debates.name[debates.name.isin(['Tulsi Gabbard'])] = 'Gabbard'\n",
    "debates.name[debates.name.isin(['Steve Bullock'])] = 'Bullock'\n",
    "debates.name[debates.name.isin(['Jay Inslee'])] = 'Inslee'\n",
    "debates.name[debates.name.isin(['Tim Ryan'])] = 'Ryan'\n",
    "debates.name[debates.name.isin(['Beto O’Rourke'])] = 'O\\'Rourke'\n",
    "\n",
    "candidates = ['Warren', 'Booker', 'Klobuchar', 'de Blasio', 'Yang', 'Sanders', 'Bennet', 'Gillibrand', 'Harris', 'Williamson', 'Castro', 'Biden', 'Swalwell', 'Buttigieg', 'Gabbard', 'Hickenlooper', 'Steyer', 'Bullock', 'Inslee', 'Ryan', 'O\\'Rourke', 'Delaney']\n",
    "debates.name[~debates.name.isin(candidates)] = 'Non-candidate'"
   ]
  },
  {
   "cell_type": "code",
   "execution_count": 8,
   "metadata": {},
   "outputs": [
    {
     "data": {
      "text/html": "<div>\n<style scoped>\n    .dataframe tbody tr th:only-of-type {\n        vertical-align: middle;\n    }\n\n    .dataframe tbody tr th {\n        vertical-align: top;\n    }\n\n    .dataframe thead th {\n        text-align: right;\n    }\n</style>\n<table border=\"1\" class=\"dataframe\">\n  <thead>\n    <tr style=\"text-align: right;\">\n      <th></th>\n      <th>name</th>\n      <th>text</th>\n      <th>month</th>\n      <th>time</th>\n    </tr>\n  </thead>\n  <tbody>\n    <tr>\n      <th>0</th>\n      <td>Non-candidate</td>\n      <td>… comment on every topic, but over the course ...</td>\n      <td>june</td>\n      <td>NaN</td>\n    </tr>\n    <tr>\n      <th>1</th>\n      <td>Non-candidate</td>\n      <td>All right, so with that business out of the wa...</td>\n      <td>june</td>\n      <td>NaN</td>\n    </tr>\n    <tr>\n      <th>2</th>\n      <td>Warren</td>\n      <td>Thank you. It’s good to be here.</td>\n      <td>june</td>\n      <td>NaN</td>\n    </tr>\n    <tr>\n      <th>3</th>\n      <td>Non-candidate</td>\n      <td>You have many plans. Free college, free childc...</td>\n      <td>june</td>\n      <td>NaN</td>\n    </tr>\n    <tr>\n      <th>4</th>\n      <td>Warren</td>\n      <td>I think of it this way. Who is this economy re...</td>\n      <td>june</td>\n      <td>NaN</td>\n    </tr>\n    <tr>\n      <th>...</th>\n      <td>...</td>\n      <td>...</td>\n      <td>...</td>\n      <td>...</td>\n    </tr>\n    <tr>\n      <th>317</th>\n      <td>Klobuchar</td>\n      <td>There’s an old story of Franklin Delano Roosev...</td>\n      <td>february</td>\n      <td>(01:15:43)</td>\n    </tr>\n    <tr>\n      <th>318</th>\n      <td>Klobuchar</td>\n      <td>If you have trouble stretching your paycheck t...</td>\n      <td>february</td>\n      <td>(01:16:20)</td>\n    </tr>\n    <tr>\n      <th>319</th>\n      <td>Non-candidate</td>\n      <td>Mr. Steyer.</td>\n      <td>february</td>\n      <td>(01:17:17)</td>\n    </tr>\n    <tr>\n      <th>320</th>\n      <td>Steyer</td>\n      <td>The Republicans have a cruel plan and their pl...</td>\n      <td>february</td>\n      <td>(01:17:24)</td>\n    </tr>\n    <tr>\n      <th>321</th>\n      <td>Non-candidate</td>\n      <td>Candidates. Thank you. Thanks for a great deba...</td>\n      <td>february</td>\n      <td>(01:19:09)</td>\n    </tr>\n  </tbody>\n</table>\n<p>4809 rows × 4 columns</p>\n</div>",
      "text/plain": "              name                                               text  \\\n0    Non-candidate  … comment on every topic, but over the course ...   \n1    Non-candidate  All right, so with that business out of the wa...   \n2           Warren                   Thank you. It’s good to be here.   \n3    Non-candidate  You have many plans. Free college, free childc...   \n4           Warren  I think of it this way. Who is this economy re...   \n..             ...                                                ...   \n317      Klobuchar  There’s an old story of Franklin Delano Roosev...   \n318      Klobuchar  If you have trouble stretching your paycheck t...   \n319  Non-candidate                                        Mr. Steyer.   \n320         Steyer  The Republicans have a cruel plan and their pl...   \n321  Non-candidate  Candidates. Thank you. Thanks for a great deba...   \n\n        month        time  \n0        june         NaN  \n1        june         NaN  \n2        june         NaN  \n3        june         NaN  \n4        june         NaN  \n..        ...         ...  \n317  february  (01:15:43)  \n318  february  (01:16:20)  \n319  february  (01:17:17)  \n320  february  (01:17:24)  \n321  february  (01:19:09)  \n\n[4809 rows x 4 columns]"
     },
     "execution_count": 8,
     "metadata": {},
     "output_type": "execute_result"
    }
   ],
   "source": [
    "debates"
   ]
  },
  {
   "cell_type": "code",
   "execution_count": 9,
   "metadata": {},
   "outputs": [],
   "source": [
    "debates.to_csv('../data/transcripts_cleaned.csv', index = False)"
   ]
  }
 ]
}