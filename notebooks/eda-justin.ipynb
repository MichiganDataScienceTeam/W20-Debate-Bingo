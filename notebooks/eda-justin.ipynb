{
 "nbformat": 4,
 "nbformat_minor": 2,
 "metadata": {
  "language_info": {
   "name": "python",
   "codemirror_mode": {
    "name": "ipython",
    "version": 3
   },
   "version": "3.7.6-final"
  },
  "orig_nbformat": 2,
  "file_extension": ".py",
  "mimetype": "text/x-python",
  "name": "python",
  "npconvert_exporter": "python",
  "pygments_lexer": "ipython3",
  "version": 3,
  "kernelspec": {
   "name": "python37464bitbasecondad0aa168c2d0047268f657f9208d7a7c9",
   "display_name": "Python 3.7.4 64-bit ('base': conda)"
  }
 },
 "cells": [
  {
   "cell_type": "code",
   "execution_count": 1,
   "metadata": {},
   "outputs": [],
   "source": [
    "import pandas as pd"
   ]
  },
  {
   "cell_type": "code",
   "execution_count": 2,
   "metadata": {},
   "outputs": [],
   "source": [
    "debates = pd.read_csv('../data/june1_transcript.csv')\n",
    "debates['month'] = 'june'\n",
    "df = pd.read_csv('../data/june2_transcript.csv')\n",
    "df['month'] = 'june'\n",
    "debates = debates.append(df)\n",
    "df = pd.read_csv('../data/july1_transcript.csv')\n",
    "df['month'] = 'july'\n",
    "debates = debates.append(df)\n",
    "df = pd.read_csv('../data/july2_transcript.csv')\n",
    "df['month'] = 'july'\n",
    "debates = debates.append(df)\n",
    "df = pd.read_csv('../data/september_transcript.csv')\n",
    "df['month'] = 'september'\n",
    "debates = debates.append(df)\n",
    "df = pd.read_csv('../data/october_transcript.csv')\n",
    "df['month'] = 'october'\n",
    "debates = debates.append(df)\n",
    "df = pd.read_csv('../data/november_transcript.csv')\n",
    "df['month'] = 'november'\n",
    "debates = debates.append(df)\n",
    "df = pd.read_csv('../data/december_transcript.csv')\n",
    "df['month'] = 'december'\n",
    "debates = debates.append(df)\n",
    "df = pd.read_csv('../data/january_transcript.csv')\n",
    "df['month'] = 'january'\n",
    "debates = debates.append(df)\n",
    "df = pd.read_csv('../data/february_transcript.csv')\n",
    "df['month'] = 'february'\n",
    "debates = debates.append(df)\n",
    "debates = debates[['name', 'text', 'month', 'time']]"
   ]
  },
  {
   "cell_type": "code",
   "execution_count": 3,
   "metadata": {},
   "outputs": [
    {
     "data": {
      "text/plain": "(4783, 4)"
     },
     "execution_count": 3,
     "metadata": {},
     "output_type": "execute_result"
    }
   ],
   "source": [
    "debates.shape"
   ]
  },
  {
   "cell_type": "code",
   "execution_count": 4,
   "metadata": {},
   "outputs": [
    {
     "data": {
      "text/html": "<div>\n<style scoped>\n    .dataframe tbody tr th:only-of-type {\n        vertical-align: middle;\n    }\n\n    .dataframe tbody tr th {\n        vertical-align: top;\n    }\n\n    .dataframe thead th {\n        text-align: right;\n    }\n</style>\n<table border=\"1\" class=\"dataframe\">\n  <thead>\n    <tr style=\"text-align: right;\">\n      <th></th>\n      <th>name</th>\n      <th>text</th>\n      <th>month</th>\n      <th>time</th>\n    </tr>\n  </thead>\n  <tbody>\n    <tr>\n      <th>0</th>\n      <td>Lester Holt</td>\n      <td>Good evening everyone. I'm Lester Holt, and we...</td>\n      <td>june</td>\n      <td>(0:00:00)</td>\n    </tr>\n    <tr>\n      <th>1</th>\n      <td>Savannah Guthrie</td>\n      <td>Hi, I'm Savannah Guthrie, and tonight it's our...</td>\n      <td>june</td>\n      <td>(0:00:08)</td>\n    </tr>\n    <tr>\n      <th>2</th>\n      <td>Lester Holt</td>\n      <td>Voters will try to nail down where the candida...</td>\n      <td>june</td>\n      <td>(0:00:19)</td>\n    </tr>\n    <tr>\n      <th>3</th>\n      <td>Savannah Guthrie</td>\n      <td>Well now, it's time to find out.</td>\n      <td>june</td>\n      <td>(0:00:27)</td>\n    </tr>\n    <tr>\n      <th>4</th>\n      <td>Speaker 3</td>\n      <td>Tonight, round one. New Jersey senator, Cory B...</td>\n      <td>june</td>\n      <td>(0:00:29)</td>\n    </tr>\n  </tbody>\n</table>\n</div>",
      "text/plain": "               name                                               text month  \\\n0       Lester Holt  Good evening everyone. I'm Lester Holt, and we...  june   \n1  Savannah Guthrie  Hi, I'm Savannah Guthrie, and tonight it's our...  june   \n2       Lester Holt  Voters will try to nail down where the candida...  june   \n3  Savannah Guthrie                   Well now, it's time to find out.  june   \n4         Speaker 3  Tonight, round one. New Jersey senator, Cory B...  june   \n\n        time  \n0  (0:00:00)  \n1  (0:00:08)  \n2  (0:00:19)  \n3  (0:00:27)  \n4  (0:00:29)  "
     },
     "execution_count": 4,
     "metadata": {},
     "output_type": "execute_result"
    }
   ],
   "source": [
    "debates.head()"
   ]
  },
  {
   "cell_type": "code",
   "execution_count": 5,
   "metadata": {},
   "outputs": [
    {
     "data": {
      "text/html": "<div>\n<style scoped>\n    .dataframe tbody tr th:only-of-type {\n        vertical-align: middle;\n    }\n\n    .dataframe tbody tr th {\n        vertical-align: top;\n    }\n\n    .dataframe thead th {\n        text-align: right;\n    }\n</style>\n<table border=\"1\" class=\"dataframe\">\n  <thead>\n    <tr style=\"text-align: right;\">\n      <th></th>\n      <th>name</th>\n      <th>text</th>\n      <th>month</th>\n      <th>time</th>\n    </tr>\n  </thead>\n  <tbody>\n    <tr>\n      <th>317</th>\n      <td>Amy Klobuchar</td>\n      <td>There’s an old story of Franklin Delano Roosev...</td>\n      <td>february</td>\n      <td>(01:15:43)</td>\n    </tr>\n    <tr>\n      <th>318</th>\n      <td>Amy Klobuchar</td>\n      <td>If you have trouble stretching your paycheck t...</td>\n      <td>february</td>\n      <td>(01:16:20)</td>\n    </tr>\n    <tr>\n      <th>319</th>\n      <td>George S.</td>\n      <td>Mr. Steyer.</td>\n      <td>february</td>\n      <td>(01:17:17)</td>\n    </tr>\n    <tr>\n      <th>320</th>\n      <td>Tom Steyer</td>\n      <td>The Republicans have a cruel plan and their pl...</td>\n      <td>february</td>\n      <td>(01:17:24)</td>\n    </tr>\n    <tr>\n      <th>321</th>\n      <td>George S.</td>\n      <td>Candidates. Thank you. Thanks for a great deba...</td>\n      <td>february</td>\n      <td>(01:19:09)</td>\n    </tr>\n  </tbody>\n</table>\n</div>",
      "text/plain": "              name                                               text  \\\n317  Amy Klobuchar  There’s an old story of Franklin Delano Roosev...   \n318  Amy Klobuchar  If you have trouble stretching your paycheck t...   \n319      George S.                                        Mr. Steyer.   \n320     Tom Steyer  The Republicans have a cruel plan and their pl...   \n321      George S.  Candidates. Thank you. Thanks for a great deba...   \n\n        month        time  \n317  february  (01:15:43)  \n318  february  (01:16:20)  \n319  february  (01:17:17)  \n320  february  (01:17:24)  \n321  february  (01:19:09)  "
     },
     "execution_count": 5,
     "metadata": {},
     "output_type": "execute_result"
    }
   ],
   "source": [
    "debates.tail()"
   ]
  },
  {
   "cell_type": "code",
   "execution_count": 6,
   "metadata": {},
   "outputs": [
    {
     "data": {
      "text/plain": "array(['Lester Holt', 'Savannah Guthrie', 'Speaker 3',\n       'Josu00e9 Diaz-Balart', 'Elizabeth Warren', 'Amy Klobuchar',\n       \"Beto O'Rourke\", 'Cory Booker', 'Juliu00e1n Castro',\n       'Tulsi Gabbard', 'Bill De Blasio', 'John Delaney', 'Jay Inslee',\n       'Tim Ryan', 'S?', 'Steve Kornacki', 'Rachel Maddow', 'Chuck Todd',\n       'Hoda Kotb', 'Savanagh G.', 'Bernie Sanders', 'Bennett',\n       'Speaker 1', 'Joe Biden', 'Kamala Harris', 'John H.', 'Kirsten G.',\n       'Jose', 'Speaker 2', 'Pete Buttigieg', 'Eric Stalwell',\n       'Andrew Yang', 'Eric Swalwell', 'Speaker 4', 'Speaker 5',\n       'Speaker 6', 'Speaker 7', 'Speaker 8', 'M. Williamson',\n       'Savannah G.', 'Marianne W.', 'Michael Bennet', 'Jake Tapper',\n       'Diana', 'Steve Bullock', 'Beto O’Rourke', 'Elizabeth W.',\n       'Dana Bash', 'Ms. Williamson', 'Don Lemon', 'John H',\n       'Elizabeth W', 'Female', 'Male', 'Mayor Buttigieg',\n       'Elizabeth Warre', 'John Hickenloop', 'Speaker 9',\n       'Marianne Willia', 'Speaker 12', 'J. Hickenlooper', 'E. Warren',\n       'Anderson Cooper', 'John King', 'N. Henderson', 'Bill de Blasio',\n       'Julian Castro', 'Crowd', 'Yang', 'Kristen Gillibr', 'Moderator',\n       'Gillibrand', 'Senator Bennet', 'Speaker 13', 'George S.',\n       'Voiceover', 'Jorge Ramos', 'David Muir', 'George S',\n       'Sen Klobuchar', 'Sec. Castro', 'David ', 'Lindsey',\n       'Erin Burnett', 'Marc Lacey', 'Senator Warren', 'Senator Booker',\n       'Tom Steyer', 'A. Cooper', 'Andrea Mitchell', 'Kristen Welker',\n       'Ashley Parker', 'Libby Casey', 'Judy Woodruff', 'Amy Walter',\n       'Stephanie Sy', 'Tim Alberta', 'Amna', 'Amna Nawaz', 'Yamiche',\n       'Yamiche A.', 'Judy', 'Wolf Blitzer', 'Abby Phillip',\n       'B. Pfannenstiel', 'Moderator 1', 'Moderator 2', 'Abby P',\n       'Brianne P', 'Brianne P.', 'Abby Phillips', 'Monica Hernandez',\n       'Adam Sexton', 'Joe Biden ', 'Linsey Davis', 'Devin Dwyer',\n       'Rachel Scott', 'Announcer'], dtype=object)"
     },
     "execution_count": 6,
     "metadata": {},
     "output_type": "execute_result"
    }
   ],
   "source": [
    "debates.name.unique()"
   ]
  },
  {
   "cell_type": "code",
   "execution_count": 7,
   "metadata": {},
   "outputs": [],
   "source": [
    "debates.name[debates.name.isin(['Senator Warren', 'E. Warren', 'Elizabeth W.', 'Elizabeth W', 'Elizabeth Warre', 'Elizabeth Warren'])] = 'Warren'\n",
    "debates.name[debates.name.isin(['Cory Booker', 'Senator Booker'])] = 'Booker'\n",
    "debates.name[debates.name.isin(['Amy Klobuchar', 'Amy Klobachar', 'Sen Klobuchar'])] = 'Klobuchar'\n",
    "debates.name[debates.name.isin(['Mayor de Blasio', 'Bill de Blasio', 'Bill De Blasio'])] = 'de Blasio'\n",
    "debates.name[debates.name.isin(['Yang', 'Andrew Yang'])] = 'Yang'\n",
    "debates.name[debates.name.isin(['Bernie Sanders'])] = 'Sanders'\n",
    "debates.name[debates.name.isin(['Senator Bennet', 'Bennett', 'Michael Bennet'])] = 'Bennet'\n",
    "debates.name[debates.name.isin(['Kirsten G.', 'Gillibrand', 'Kristen Gillibr'])] = 'Gillibrand'\n",
    "debates.name[debates.name.isin(['Kamala Harris'])] = 'Harris'\n",
    "debates.name[debates.name.isin(['Marianne W.', 'M. Williamson', 'Marianne Willia', 'Ms. Williamson'])] = 'Williamson'\n",
    "debates.name[debates.name.isin(['Julian Castro', 'Sec. Castro', 'Juliu00e1n Castro'])] = 'Castro'\n",
    "debates.name[debates.name.isin(['Joe Biden', 'Joe Biden '])] = 'Biden'\n",
    "debates.name[debates.name.isin(['John Delaney'])] = 'Delaney'\n",
    "debates.name[debates.name.isin(['John H.', 'John H', 'John Hickenloop', 'J. Hickenlooper'])] = 'Hickenlooper'\n",
    "debates.name[debates.name.isin(['Tom Steyer'])] = 'Steyer'\n",
    "debates.name[debates.name.isin(['Eric Stalwell', 'Eric Swalwell'])] = 'Swalwell'\n",
    "debates.name[debates.name.isin(['Pete Buttigieg', 'Mayor Buttigieg'])] = 'Buttigieg'\n",
    "debates.name[debates.name.isin(['Tulsi Gabbard'])] = 'Gabbard'\n",
    "debates.name[debates.name.isin(['Steve Bullock'])] = 'Bullock'\n",
    "debates.name[debates.name.isin(['Jay Inslee'])] = 'Inslee'\n",
    "debates.name[debates.name.isin(['Tim Ryan'])] = 'Ryan'\n",
    "debates.name[debates.name.isin(['Beto O’Rourke', 'Beto O\\'Rourke'])] = 'O\\'Rourke'\n",
    "\n",
    "candidates = ['Warren', 'Booker', 'Klobuchar', 'de Blasio', 'Yang', 'Sanders', 'Bennet', 'Gillibrand', 'Harris', 'Williamson', 'Castro', 'Biden', 'Swalwell', 'Buttigieg', 'Gabbard', 'Hickenlooper', 'Steyer', 'Bullock', 'Inslee', 'Ryan', 'O\\'Rourke', 'Delaney']\n",
    "debates.name[~debates.name.isin(candidates)] = 'Non-candidate'"
   ]
  },
  {
   "cell_type": "code",
   "execution_count": 8,
   "metadata": {},
   "outputs": [
    {
     "data": {
      "text/html": "<div>\n<style scoped>\n    .dataframe tbody tr th:only-of-type {\n        vertical-align: middle;\n    }\n\n    .dataframe tbody tr th {\n        vertical-align: top;\n    }\n\n    .dataframe thead th {\n        text-align: right;\n    }\n</style>\n<table border=\"1\" class=\"dataframe\">\n  <thead>\n    <tr style=\"text-align: right;\">\n      <th></th>\n      <th>name</th>\n      <th>text</th>\n      <th>month</th>\n      <th>time</th>\n    </tr>\n  </thead>\n  <tbody>\n    <tr>\n      <th>0</th>\n      <td>Non-candidate</td>\n      <td>Good evening everyone. I'm Lester Holt, and we...</td>\n      <td>june</td>\n      <td>(0:00:00)</td>\n    </tr>\n    <tr>\n      <th>1</th>\n      <td>Non-candidate</td>\n      <td>Hi, I'm Savannah Guthrie, and tonight it's our...</td>\n      <td>june</td>\n      <td>(0:00:08)</td>\n    </tr>\n    <tr>\n      <th>2</th>\n      <td>Non-candidate</td>\n      <td>Voters will try to nail down where the candida...</td>\n      <td>june</td>\n      <td>(0:00:19)</td>\n    </tr>\n    <tr>\n      <th>3</th>\n      <td>Non-candidate</td>\n      <td>Well now, it's time to find out.</td>\n      <td>june</td>\n      <td>(0:00:27)</td>\n    </tr>\n    <tr>\n      <th>4</th>\n      <td>Non-candidate</td>\n      <td>Tonight, round one. New Jersey senator, Cory B...</td>\n      <td>june</td>\n      <td>(0:00:29)</td>\n    </tr>\n    <tr>\n      <th>...</th>\n      <td>...</td>\n      <td>...</td>\n      <td>...</td>\n      <td>...</td>\n    </tr>\n    <tr>\n      <th>317</th>\n      <td>Klobuchar</td>\n      <td>There’s an old story of Franklin Delano Roosev...</td>\n      <td>february</td>\n      <td>(01:15:43)</td>\n    </tr>\n    <tr>\n      <th>318</th>\n      <td>Klobuchar</td>\n      <td>If you have trouble stretching your paycheck t...</td>\n      <td>february</td>\n      <td>(01:16:20)</td>\n    </tr>\n    <tr>\n      <th>319</th>\n      <td>Non-candidate</td>\n      <td>Mr. Steyer.</td>\n      <td>february</td>\n      <td>(01:17:17)</td>\n    </tr>\n    <tr>\n      <th>320</th>\n      <td>Steyer</td>\n      <td>The Republicans have a cruel plan and their pl...</td>\n      <td>february</td>\n      <td>(01:17:24)</td>\n    </tr>\n    <tr>\n      <th>321</th>\n      <td>Non-candidate</td>\n      <td>Candidates. Thank you. Thanks for a great deba...</td>\n      <td>february</td>\n      <td>(01:19:09)</td>\n    </tr>\n  </tbody>\n</table>\n<p>4783 rows × 4 columns</p>\n</div>",
      "text/plain": "              name                                               text  \\\n0    Non-candidate  Good evening everyone. I'm Lester Holt, and we...   \n1    Non-candidate  Hi, I'm Savannah Guthrie, and tonight it's our...   \n2    Non-candidate  Voters will try to nail down where the candida...   \n3    Non-candidate                   Well now, it's time to find out.   \n4    Non-candidate  Tonight, round one. New Jersey senator, Cory B...   \n..             ...                                                ...   \n317      Klobuchar  There’s an old story of Franklin Delano Roosev...   \n318      Klobuchar  If you have trouble stretching your paycheck t...   \n319  Non-candidate                                        Mr. Steyer.   \n320         Steyer  The Republicans have a cruel plan and their pl...   \n321  Non-candidate  Candidates. Thank you. Thanks for a great deba...   \n\n        month        time  \n0        june   (0:00:00)  \n1        june   (0:00:08)  \n2        june   (0:00:19)  \n3        june   (0:00:27)  \n4        june   (0:00:29)  \n..        ...         ...  \n317  february  (01:15:43)  \n318  february  (01:16:20)  \n319  february  (01:17:17)  \n320  february  (01:17:24)  \n321  february  (01:19:09)  \n\n[4783 rows x 4 columns]"
     },
     "execution_count": 8,
     "metadata": {},
     "output_type": "execute_result"
    }
   ],
   "source": [
    "debates"
   ]
  },
  {
   "cell_type": "code",
   "execution_count": 9,
   "metadata": {},
   "outputs": [],
   "source": [
    "debates.to_csv('../data/transcripts_cleaned.csv', index = False)"
   ]
  }
 ]
}