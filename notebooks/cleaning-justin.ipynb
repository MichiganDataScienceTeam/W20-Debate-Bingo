{
 "cells": [
  {
   "cell_type": "code",
   "execution_count": 1,
   "metadata": {},
   "outputs": [],
   "source": [
    "import numpy as np\n",
    "import pandas as pd"
   ]
  },
  {
   "cell_type": "code",
   "execution_count": 2,
   "metadata": {},
   "outputs": [],
   "source": [
    "debates = pd.read_csv('../data/june1_transcript.csv')\n",
    "debates['month'] = 'june'\n",
    "df = pd.read_csv('../data/june2_transcript.csv')\n",
    "df['month'] = 'june'\n",
    "debates = debates.append(df)\n",
    "df = pd.read_csv('../data/july1_transcript.csv')\n",
    "df['month'] = 'july'\n",
    "debates = debates.append(df)\n",
    "df = pd.read_csv('../data/july2_transcript.csv')\n",
    "df['month'] = 'july'\n",
    "debates = debates.append(df)\n",
    "df = pd.read_csv('../data/september_transcript.csv')\n",
    "df['month'] = 'september'\n",
    "debates = debates.append(df)\n",
    "df = pd.read_csv('../data/october_transcript.csv')\n",
    "df['month'] = 'october'\n",
    "debates = debates.append(df)\n",
    "df = pd.read_csv('../data/november_transcript.csv')\n",
    "df['month'] = 'november'\n",
    "debates = debates.append(df)\n",
    "df = pd.read_csv('../data/december_transcript.csv')\n",
    "df['month'] = 'december'\n",
    "debates = debates.append(df)\n",
    "df = pd.read_csv('../data/january_transcript.csv')\n",
    "df['month'] = 'january'\n",
    "debates = debates.append(df)\n",
    "df = pd.read_csv('../data/february_transcript.csv')\n",
    "df['month'] = 'february'\n",
    "debates = debates.append(df)\n",
    "debates = debates[['name', 'text', 'month', 'time']]\n"
   ]
  },
  {
   "cell_type": "code",
   "execution_count": 6,
   "metadata": {},
   "outputs": [
    {
     "data": {
      "text/plain": "array(['Lester Holt', 'Savannah Guthrie', 'Speaker 3',\n       'Josu00e9 Diaz-Balart', 'Elizabeth Warren', 'Amy Klobuchar',\n       \"Beto O'Rourke\", 'Cory Booker', 'Juliu00e1n Castro',\n       'Tulsi Gabbard', 'Bill De Blasio', 'John Delaney', 'Jay Inslee',\n       'Tim Ryan', 'S?', 'Steve Kornacki', 'Rachel Maddow', 'Chuck Todd',\n       'Hoda Kotb', 'Savanagh G.', 'Bernie Sanders', 'Bennett',\n       'Speaker 1', 'Joe Biden', 'Kamala Harris', 'John H.', 'Kirsten G.',\n       'Jose', 'Speaker 2', 'Pete Buttigieg', 'Eric Stalwell',\n       'Andrew Yang', 'Eric Swalwell', 'Speaker 4', 'Speaker 5',\n       'Speaker 6', 'Speaker 7', 'Speaker 8', 'M. Williamson',\n       'Savannah G.', 'Marianne W.', 'Michael Bennet', 'Jake Tapper',\n       'Diana', 'Steve Bullock', 'Beto O’Rourke', 'Elizabeth W.',\n       'Dana Bash', 'Ms. Williamson', 'Don Lemon', 'John H',\n       'Elizabeth W', 'Female', 'Male', 'Mayor Buttigieg',\n       'Elizabeth Warre', 'John Hickenloop', 'Speaker 9',\n       'Marianne Willia', 'Speaker 12', 'J. Hickenlooper', 'E. Warren',\n       'Anderson Cooper', 'John King', 'N. Henderson', 'Bill de Blasio',\n       'Julian Castro', 'Crowd', 'Yang', 'Kristen Gillibr', 'Moderator',\n       'Gillibrand', 'Senator Bennet', 'Speaker 13', 'George S.',\n       'Voiceover', 'Jorge Ramos', 'David Muir', 'George S',\n       'Sen Klobuchar', 'Sec. Castro', 'David ', 'Lindsey',\n       'Erin Burnett', 'Marc Lacey', 'Senator Warren', 'Senator Booker',\n       'Tom Steyer', 'A. Cooper', 'Andrea Mitchell', 'Kristen Welker',\n       'Ashley Parker', 'Libby Casey', 'Judy Woodruff', 'Amy Walter',\n       'Stephanie Sy', 'Tim Alberta', 'Amna', 'Amna Nawaz', 'Yamiche',\n       'Yamiche A.', 'Judy', 'Wolf Blitzer', 'Abby Phillip',\n       'B. Pfannenstiel', 'Moderator 1', 'Moderator 2', 'Abby P',\n       'Brianne P', 'Brianne P.', 'Abby Phillips', 'Monica Hernandez',\n       'Adam Sexton', 'Joe Biden ', 'Linsey Davis', 'Devin Dwyer',\n       'Rachel Scott', 'Announcer'], dtype=object)"
     },
     "execution_count": 6,
     "metadata": {},
     "output_type": "execute_result"
    }
   ],
   "source": [
    "debates.name.unique()"
   ]
  },
  {
   "cell_type": "code",
   "execution_count": 7,
   "metadata": {},
   "outputs": [],
   "source": [
    "debates.name[debates.name.isin(['Senator Warren', 'E. Warren', 'Elizabeth W.', 'Elizabeth W', 'Elizabeth Warre', 'Elizabeth Warren'])] = 'Warren'\n",
    "debates.name[debates.name.isin(['Cory Booker', 'Senator Booker'])] = 'Booker'\n",
    "debates.name[debates.name.isin(['Amy Klobuchar', 'Amy Klobachar', 'Sen Klobuchar'])] = 'Klobuchar'\n",
    "debates.name[debates.name.isin(['Mayor de Blasio', 'Bill de Blasio', 'Bill De Blasio'])] = 'de Blasio'\n",
    "debates.name[debates.name.isin(['Yang', 'Andrew Yang'])] = 'Yang'\n",
    "debates.name[debates.name.isin(['Bernie Sanders'])] = 'Sanders'\n",
    "debates.name[debates.name.isin(['Senator Bennet', 'Bennett', 'Michael Bennet'])] = 'Bennet'\n",
    "debates.name[debates.name.isin(['Kirsten G.', 'Gillibrand', 'Kristen Gillibr'])] = 'Gillibrand'\n",
    "debates.name[debates.name.isin(['Kamala Harris'])] = 'Harris'\n",
    "debates.name[debates.name.isin(['Marianne W.', 'M. Williamson', 'Marianne Willia', 'Ms. Williamson'])] = 'Williamson'\n",
    "debates.name[debates.name.isin(['Julian Castro', 'Sec. Castro', 'Juliu00e1n Castro'])] = 'Castro'\n",
    "debates.name[debates.name.isin(['Joe Biden', 'Joe Biden '])] = 'Biden'\n",
    "debates.name[debates.name.isin(['John Delaney'])] = 'Delaney'\n",
    "debates.name[debates.name.isin(['John H.', 'John H', 'John Hickenloop', 'J. Hickenlooper'])] = 'Hickenlooper'\n",
    "debates.name[debates.name.isin(['Tom Steyer'])] = 'Steyer'\n",
    "debates.name[debates.name.isin(['Eric Stalwell', 'Eric Swalwell'])] = 'Swalwell'\n",
    "debates.name[debates.name.isin(['Pete Buttigieg', 'Mayor Buttigieg'])] = 'Buttigieg'\n",
    "debates.name[debates.name.isin(['Tulsi Gabbard'])] = 'Gabbard'\n",
    "debates.name[debates.name.isin(['Steve Bullock'])] = 'Bullock'\n",
    "debates.name[debates.name.isin(['Jay Inslee'])] = 'Inslee'\n",
    "debates.name[debates.name.isin(['Tim Ryan'])] = 'Ryan'\n",
    "debates.name[debates.name.isin(['Beto O’Rourke', 'Beto O\\'Rourke'])] = 'O\\'Rourke'\n",
    "\n",
    "candidates = ['Warren', 'Booker', 'Klobuchar', 'de Blasio', 'Yang', 'Sanders', 'Bennet', 'Gillibrand', 'Harris', 'Williamson', 'Castro', 'Biden', 'Swalwell', 'Buttigieg', 'Gabbard', 'Hickenlooper', 'Steyer', 'Bullock', 'Inslee', 'Ryan', 'O\\'Rourke', 'Delaney']\n",
    "debates.name[~debates.name.isin(candidates)] = 'Non-candidate'"
   ]
  },
  {
   "cell_type": "code",
   "execution_count": 9,
   "metadata": {},
   "outputs": [],
   "source": [
    "debates.to_csv('../data/transcripts_cleaned.csv', index = False)"
   ]
  }
 ],
 "metadata": {
  "file_extension": ".py",
  "kernelspec": {
   "display_name": "Python 3",
   "language": "python",
   "name": "python3"
  },
  "language_info": {
   "codemirror_mode": {
    "name": "ipython",
    "version": 3
   },
   "file_extension": ".py",
   "mimetype": "text/x-python",
   "name": "python",
   "nbconvert_exporter": "python",
   "pygments_lexer": "ipython3",
   "version": "3.7.6-final"
  },
  "mimetype": "text/x-python",
  "name": "python",
  "npconvert_exporter": "python",
  "pygments_lexer": "ipython3",
  "version": 3
 },
 "nbformat": 4,
 "nbformat_minor": 2
}