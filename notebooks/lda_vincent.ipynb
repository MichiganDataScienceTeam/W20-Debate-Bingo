{
 "cells": [
  {
   "cell_type": "code",
   "execution_count": 2,
   "metadata": {},
   "outputs": [],
   "source": [
    "import pandas as pd\n",
    "import re\n",
    "from wordcloud import WordCloud, STOPWORDS\n",
    "from sklearn.feature_extraction.text import CountVectorizer\n",
    "from sklearn.decomposition import LatentDirichletAllocation as LDA\n",
    "from pyLDAvis import sklearn as sklearn_lda\n",
    "import pyLDAvis\n",
    "import warnings\n",
    "warnings.simplefilter(\"ignore\", DeprecationWarning)"
   ]
  },
  {
   "cell_type": "code",
   "execution_count": 4,
   "metadata": {},
   "outputs": [],
   "source": [
    "# load datasets and perform some cleaning\n",
    "def get_corpus(addr):\n",
    "    text = pd.read_csv(addr)\n",
    "\n",
    "    # remove punctuation and lower case the text\n",
    "    text['text_processed'] = text['text'].map(lambda x: re.sub('[,\\.!?]', '', x))\n",
    "    text['text_processed'] = text['text_processed'].map(lambda x: x.lower())\n",
    "\n",
    "    return(text)\n",
    "\n",
    "# cleaning the data for lda\n",
    "def get_ct(dat, col):\n",
    "    count_vectorizer = CountVectorizer(stop_words='english')\n",
    "    count_data = count_vectorizer.fit_transform(dat[col])\n",
    "    return(count_vectorizer, count_data)\n",
    "\n",
    "# perform LDA on col and return the model with specified number of topics\n",
    "def get_lda(dat, col, k):\n",
    "    count_vectorizer, count_data = get_ct(dat, col)\n",
    "\n",
    "    # fit model\n",
    "    lda = LDA(n_components=k, n_jobs=-1)\n",
    "    lda.fit(count_data)\n",
    "    return(lda, count_data, count_vectorizer)\n",
    "\n",
    "# print the topics for a given lda model and count_vectorizer\n",
    "def print_topics(model, count_vectorizer, n_top_words):\n",
    "    words = count_vectorizer.get_feature_names()\n",
    "    for topic_idx, topic in enumerate(model.components_):\n",
    "        print('\\nTopic #%d:' % topic_idx)\n",
    "        print(' '.join([words[i] for i in topic.argsort()[:-n_top_words - 1:-1]]))\n",
    "\n",
    "# get the lda visual in html as specified in filepath\n",
    "def get_vis_html(filepath, lda, count_data, count_vecorizer):\n",
    "    LDAvis_prepared = sklearn_lda.prepare(lda, count_data, count_vecorizer)\n",
    "    pyLDAvis.save_html(LDAvis_prepared, filepath)\n"
   ]
  },
  {
   "cell_type": "code",
   "execution_count": 7,
   "metadata": {},
   "outputs": [
    {
     "name": "stdout",
     "output_type": "stream",
     "text": [
      "\n",
      "Topic #0:\n",
      "going need trade iran think got agreement military look know\n",
      "\n",
      "Topic #1:\n",
      "ve don healthcare said think medicare going people country troops\n",
      "\n",
      "Topic #2:\n",
      "going people president nuclear got trump say climate ve make\n",
      "\n",
      "Topic #3:\n",
      "senator warren thank sanders klobuchar people care ve right need\n",
      "\n",
      "Topic #4:\n",
      "president people going trump war ve vice biden mr right\n"
     ]
    }
   ],
   "source": [
    "addr = 'D:/OneDrive/File/College/Umich/DataTeam/Debate-bingo/data/january_transcript.csv'\n",
    "jan = get_corpus(addr)\n",
    "lda, cd, cv = get_lda(jan, 'text_processed', 5)\n",
    "print_topics(lda, cv, 10)\n",
    "#get_vis_html('jan_lda.html', lda, cd, cv)"
   ]
  }
 ],
 "metadata": {
  "kernelspec": {
   "display_name": "Python 3",
   "language": "python",
   "name": "python3"
  },
  "language_info": {
   "codemirror_mode": {
    "name": "ipython",
    "version": 3
   },
   "file_extension": ".py",
   "mimetype": "text/x-python",
   "name": "python",
   "nbconvert_exporter": "python",
   "pygments_lexer": "ipython3",
   "version": "3.7.3"
  }
 },
 "nbformat": 4,
 "nbformat_minor": 2
}
